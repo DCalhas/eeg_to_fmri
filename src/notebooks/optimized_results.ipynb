{
 "cells": [
  {
   "cell_type": "markdown",
   "metadata": {},
   "source": [
    "# Analyze the results given by NAS"
   ]
  },
  {
   "cell_type": "markdown",
   "metadata": {},
   "source": [
    "## Build the network given by NAS "
   ]
  },
  {
   "cell_type": "code",
   "execution_count": 1,
   "metadata": {
    "scrolled": true
   },
   "outputs": [
    {
     "name": "stderr",
     "output_type": "stream",
     "text": [
      "/home/davidcalhas/anaconda3/envs/fmri_eeg/lib/python3.6/site-packages/tensorflow/python/framework/dtypes.py:516: FutureWarning: Passing (type, 1) or '1type' as a synonym of type is deprecated; in a future version of numpy, it will be understood as (type, (1,)) / '(1,)type'.\n",
      "  _np_qint8 = np.dtype([(\"qint8\", np.int8, 1)])\n",
      "/home/davidcalhas/anaconda3/envs/fmri_eeg/lib/python3.6/site-packages/tensorflow/python/framework/dtypes.py:517: FutureWarning: Passing (type, 1) or '1type' as a synonym of type is deprecated; in a future version of numpy, it will be understood as (type, (1,)) / '(1,)type'.\n",
      "  _np_quint8 = np.dtype([(\"quint8\", np.uint8, 1)])\n",
      "/home/davidcalhas/anaconda3/envs/fmri_eeg/lib/python3.6/site-packages/tensorflow/python/framework/dtypes.py:518: FutureWarning: Passing (type, 1) or '1type' as a synonym of type is deprecated; in a future version of numpy, it will be understood as (type, (1,)) / '(1,)type'.\n",
      "  _np_qint16 = np.dtype([(\"qint16\", np.int16, 1)])\n",
      "/home/davidcalhas/anaconda3/envs/fmri_eeg/lib/python3.6/site-packages/tensorflow/python/framework/dtypes.py:519: FutureWarning: Passing (type, 1) or '1type' as a synonym of type is deprecated; in a future version of numpy, it will be understood as (type, (1,)) / '(1,)type'.\n",
      "  _np_quint16 = np.dtype([(\"quint16\", np.uint16, 1)])\n",
      "/home/davidcalhas/anaconda3/envs/fmri_eeg/lib/python3.6/site-packages/tensorflow/python/framework/dtypes.py:520: FutureWarning: Passing (type, 1) or '1type' as a synonym of type is deprecated; in a future version of numpy, it will be understood as (type, (1,)) / '(1,)type'.\n",
      "  _np_qint32 = np.dtype([(\"qint32\", np.int32, 1)])\n",
      "/home/davidcalhas/anaconda3/envs/fmri_eeg/lib/python3.6/site-packages/tensorflow/python/framework/dtypes.py:525: FutureWarning: Passing (type, 1) or '1type' as a synonym of type is deprecated; in a future version of numpy, it will be understood as (type, (1,)) / '(1,)type'.\n",
      "  np_resource = np.dtype([(\"resource\", np.ubyte, 1)])\n",
      "/home/davidcalhas/anaconda3/envs/fmri_eeg/lib/python3.6/site-packages/tensorboard/compat/tensorflow_stub/dtypes.py:541: FutureWarning: Passing (type, 1) or '1type' as a synonym of type is deprecated; in a future version of numpy, it will be understood as (type, (1,)) / '(1,)type'.\n",
      "  _np_qint8 = np.dtype([(\"qint8\", np.int8, 1)])\n",
      "/home/davidcalhas/anaconda3/envs/fmri_eeg/lib/python3.6/site-packages/tensorboard/compat/tensorflow_stub/dtypes.py:542: FutureWarning: Passing (type, 1) or '1type' as a synonym of type is deprecated; in a future version of numpy, it will be understood as (type, (1,)) / '(1,)type'.\n",
      "  _np_quint8 = np.dtype([(\"quint8\", np.uint8, 1)])\n",
      "/home/davidcalhas/anaconda3/envs/fmri_eeg/lib/python3.6/site-packages/tensorboard/compat/tensorflow_stub/dtypes.py:543: FutureWarning: Passing (type, 1) or '1type' as a synonym of type is deprecated; in a future version of numpy, it will be understood as (type, (1,)) / '(1,)type'.\n",
      "  _np_qint16 = np.dtype([(\"qint16\", np.int16, 1)])\n",
      "/home/davidcalhas/anaconda3/envs/fmri_eeg/lib/python3.6/site-packages/tensorboard/compat/tensorflow_stub/dtypes.py:544: FutureWarning: Passing (type, 1) or '1type' as a synonym of type is deprecated; in a future version of numpy, it will be understood as (type, (1,)) / '(1,)type'.\n",
      "  _np_quint16 = np.dtype([(\"quint16\", np.uint16, 1)])\n",
      "/home/davidcalhas/anaconda3/envs/fmri_eeg/lib/python3.6/site-packages/tensorboard/compat/tensorflow_stub/dtypes.py:545: FutureWarning: Passing (type, 1) or '1type' as a synonym of type is deprecated; in a future version of numpy, it will be understood as (type, (1,)) / '(1,)type'.\n",
      "  _np_qint32 = np.dtype([(\"qint32\", np.int32, 1)])\n",
      "/home/davidcalhas/anaconda3/envs/fmri_eeg/lib/python3.6/site-packages/tensorboard/compat/tensorflow_stub/dtypes.py:550: FutureWarning: Passing (type, 1) or '1type' as a synonym of type is deprecated; in a future version of numpy, it will be understood as (type, (1,)) / '(1,)type'.\n",
      "  np_resource = np.dtype([(\"resource\", np.ubyte, 1)])\n",
      " /home/davidcalhas/anaconda3/envs/fmri_eeg/lib/python3.6/site-packages/sklearn/externals/joblib/__init__.py:15: DeprecationWarning:sklearn.externals.joblib is deprecated in 0.21 and will be removed in 0.23. Please import this functionality directly from joblib, which can be installed with: pip install joblib. If this warning is raised when loading pickled models, you may need to re-serialize those models with scikit-learn 0.21+.\n"
     ]
    },
    {
     "name": "stdout",
     "output_type": "stream",
     "text": [
      "Extracting parameters from /home/davidcalhas/eeg_to_fmri/datasets/01/EEG/32/export/20130410320002_Segmentation_bin.vhdr...\n",
      "Setting channel info structure...\n",
      "Reading 0 ... 162022  =      0.000 ...   648.088 secs...\n",
      "(25, 2607, 14)\n",
      "Extracting parameters from /home/davidcalhas/eeg_to_fmri/datasets/01/EEG/35/export/20130424350002_Pulse_Artifact_Correction_bin.vhdr...\n",
      "Setting channel info structure...\n",
      "Reading 0 ... 197234  =      0.000 ...   788.936 secs...\n",
      "(50, 2607, 14)\n",
      "Extracting parameters from /home/davidcalhas/eeg_to_fmri/datasets/01/EEG/36/export/20130425360002_Pulse_Artifact_Correction_bin.vhdr...\n",
      "Setting channel info structure...\n",
      "Reading 0 ... 181949  =      0.000 ...   727.796 secs...\n",
      "(75, 2607, 14)\n",
      "Extracting parameters from /home/davidcalhas/eeg_to_fmri/datasets/01/EEG/37/export/20130426370002_Pulse_Artifact_Correction_bin.vhdr...\n",
      "Setting channel info structure...\n",
      "Reading 0 ... 195159  =      0.000 ...   780.636 secs...\n",
      "(100, 2607, 14)\n",
      "Extracting parameters from /home/davidcalhas/eeg_to_fmri/datasets/01/EEG/38/export/20130105380002_Pulse_Artifact_Correction_bin.vhdr...\n",
      "Setting channel info structure...\n",
      "Reading 0 ... 179384  =      0.000 ...   717.536 secs...\n",
      "(125, 2607, 14)\n",
      "Extracting parameters from /home/davidcalhas/eeg_to_fmri/datasets/01/EEG/39/export/20130501390002_Pulse_Artifact_Correction_bin.vhdr...\n",
      "Setting channel info structure...\n",
      "Reading 0 ... 182129  =      0.000 ...   728.516 secs...\n",
      "(150, 2607, 14)\n",
      "Extracting parameters from /home/davidcalhas/eeg_to_fmri/datasets/01/EEG/40/export/20130510400002_Pulse_Artifact_Correction_bin.vhdr...\n",
      "Setting channel info structure...\n",
      "Reading 0 ... 173914  =      0.000 ...   695.656 secs...\n",
      "(175, 2607, 14)\n",
      "Extracting parameters from /home/davidcalhas/eeg_to_fmri/datasets/01/EEG/42/export/20130523420002_Pulse_Artifact_Correction_bin.vhdr...\n",
      "Setting channel info structure...\n",
      "Reading 0 ... 184909  =      0.000 ...   739.636 secs...\n",
      "(200, 2607, 14)\n",
      "Extracting parameters from /home/davidcalhas/eeg_to_fmri/datasets/01/EEG/43/export/20130529430002_Pulse_Artifact_Correction_bin.vhdr...\n",
      "Setting channel info structure...\n",
      "Reading 0 ... 170594  =      0.000 ...   682.376 secs...\n",
      "(225, 2607, 14)\n",
      "Extracting parameters from /home/davidcalhas/eeg_to_fmri/datasets/01/EEG/44/export/20130605440002_Pulse_Artifact_Correction_bin.vhdr...\n",
      "Setting channel info structure...\n",
      "Reading 0 ... 169854  =      0.000 ...   679.416 secs...\n",
      "(250, 2607, 14)\n",
      "Extracting parameters from /home/davidcalhas/eeg_to_fmri/datasets/01/EEG/45/export/20130627450002_Pulse_Artifact_Correction_bin.vhdr...\n",
      "Setting channel info structure...\n",
      "Reading 0 ... 168099  =      0.000 ...   672.396 secs...\n",
      "(25, 2607, 14)\n",
      "Extracting parameters from /home/davidcalhas/eeg_to_fmri/datasets/01/EEG/46/export/20130703460002_Pulse_Artifact_Correction_bin.vhdr...\n",
      "Setting channel info structure...\n",
      "Reading 0 ... 172264  =      0.000 ...   689.056 secs...\n",
      "(50, 2607, 14)\n",
      "Finished Loading Data\n",
      "Pairs Created\n"
     ]
    }
   ],
   "source": [
    "import sys\n",
    "sys.path.append('..')\n",
    "sys.path.append('../..')\n",
    "\n",
    "\n",
    "import iterative_naive_nas\n",
    "\n",
    "from sklearn.model_selection import train_test_split\n",
    "\n",
    "import tensorflow.compat.v1 as tf\n",
    "\n",
    "import numpy as np\n",
    "\n",
    "import custom_training\n",
    "\n",
    "import utils.losses_utils as losses\n",
    "\n",
    "import utils.data_utils as data_utils\n",
    "\n",
    "import matplotlib.pyplot as plt\n",
    "\n",
    "#30_paritions\n",
    "optimized_parameters = [3.46661820e-04, 4.01120020e-01, 9.09580986e-01, 4.13090818e-01,\n",
    " 3.93104672e-01, 8.00000000e+00, 8.20000000e+02]\n",
    "\n",
    "learning_rate = float(optimized_parameters[0])\n",
    "l1_penalization_eeg = float(optimized_parameters[1])\n",
    "l1_penalization_bold = float(optimized_parameters[2])\n",
    "l1_penalization_decoder = float(optimized_parameters[3])\n",
    "loss_coefficient = float(optimized_parameters[4])\n",
    "batch_size = int(optimized_parameters[5])\n",
    "current_shape = int(optimized_parameters[6])\n",
    "#eeg_hidden_shape = int(optimized_parameters[6])\n",
    "#bold_hidden_shape = int(optimized_parameters[7])\n",
    "#decoder_hidden_shape = int(optimized_parameters[8])\n",
    "\n",
    "\n",
    "def get_models_and_shapes(eeg_file='../../optimized_nets/eeg/eeg_30_partitions.json', \n",
    "                          bold_file='../../optimized_nets/bold/bold_30_partitions.json',\n",
    "                          decoder_file='../../optimized_nets/decoder/decoder_30_partitions.json'):\n",
    "    json_file = open(eeg_file, 'r')\n",
    "    loaded_model_json = json_file.read()\n",
    "    json_file.close()\n",
    "    eeg_network = tf.keras.models.model_from_json(loaded_model_json)\n",
    "    \n",
    "    json_file = open(bold_file, 'r')\n",
    "    loaded_model_json = json_file.read()\n",
    "    json_file.close()\n",
    "    bold_network = tf.keras.models.model_from_json(loaded_model_json)\n",
    "    \n",
    "    json_file = open(decoder_file, 'r')\n",
    "    loaded_model_json = json_file.read()\n",
    "    json_file.close()\n",
    "    decoder_network = tf.keras.models.model_from_json(loaded_model_json)\n",
    "    \n",
    "    return eeg_network, bold_network, decoder_network\n",
    "\n",
    "\n",
    "def _plot_mean_std(reconstruction_loss, distance, tset=\"train\", n_partitions=30, model=\"M\", ax=None):\n",
    "\n",
    "    inds_ids = []\n",
    "    inds_mean = np.zeros(len(reconstruction_loss)//n_partitions)\n",
    "    inds_std = np.zeros(len(reconstruction_loss)//n_partitions)\n",
    "    \n",
    "    #compute mean \n",
    "    for ind in range(inds_mean.shape[0]):\n",
    "        inds_ids += ['Ind_' + str(ind+1)]\n",
    "        inds_mean[ind] = np.mean(reconstruction_loss[ind:ind+n_partitions])\n",
    "        inds_std[ind] = np.std(reconstruction_loss[ind:ind+n_partitions])\n",
    "        \n",
    "    print(tset + \" set\", \"mean: \", np.mean(reconstruction_loss))\n",
    "    print(tset + \" set\", \"std: \", np.std(reconstruction_loss))\n",
    "    \n",
    "    \n",
    "    ax.errorbar(inds_ids, inds_mean, inds_std, linestyle='None', elinewidth=0.5, ecolor='r', capsize=10.0, markersize=10.0, marker='o')\n",
    "    ax.set_title(distance + \" on \" + tset + \" set \" + \" (\" + model + \")\")\n",
    "    ax.set_xlabel(\"Individuals\")\n",
    "    if(\"Cosine\" in distance):\n",
    "        ax.set_ylabel(\"Correlation\")\n",
    "    else:\n",
    "        ax.set_ylabel(\"Distance\")\n",
    "\n",
    "def _plot_mean_std_loss(synthesized_bold, bold, distance_function, distance_name, set_name, model_name, ax=None):\n",
    "    reconstruction_loss = np.zeros((synthesized_bold.shape[0], 1))\n",
    "\n",
    "    for instance in range(len(reconstruction_loss)):\n",
    "        instance_synth = synthesized_bold[instance]\n",
    "        instance_bold = bold[instance]\n",
    "\n",
    "        instance_synth = instance_synth.reshape((1, instance_synth.shape[0], instance_synth.shape[1], instance_synth.shape[2]))\n",
    "        instance_bold = instance_bold.reshape((1, instance_bold.shape[0], instance_bold.shape[1], instance_bold.shape[2]))\n",
    "\n",
    "        reconstruction_loss[instance] = distance_function(instance_synth, instance_bold).numpy()\n",
    "\n",
    "    _plot_mean_std(reconstruction_loss, distance=distance_name, tset=set_name, model=model_name, ax=ax)\n",
    "\n",
    "    \n",
    "    \n",
    "def plot_mean_std_loss(eeg_train, bold_train, \n",
    "                       eeg_val, bold_val, \n",
    "                       eeg_test, bold_test, \n",
    "                       encoder_network, decoder_network, \n",
    "                       distance_name, distance_function,\n",
    "                       model_name):\n",
    "    \n",
    "    plt.figure(figsize=(20,5))\n",
    "    ax1 = plt.subplot(131)\n",
    "    \n",
    "    shared_eeg_train = encoder_network.predict(eeg_train)\n",
    "    synthesized_bold_train = decoder_network.predict(shared_eeg_train)\n",
    "    _plot_mean_std_loss(synthesized_bold_train, bold_train, distance_function, distance_name, \"train\", model_name, ax=ax1)\n",
    "    \n",
    "    ax2 = plt.subplot(132)\n",
    "    \n",
    "    shared_eeg_val = encoder_network.predict(eeg_val)\n",
    "    synthesized_bold_val = decoder_network.predict(shared_eeg_val)\n",
    "    _plot_mean_std_loss(synthesized_bold_val, bold_val, distance_function, distance_name, \"validation\", model_name, ax=ax2)\n",
    "    \n",
    "    ax3 = plt.subplot(133)\n",
    "    shared_eeg_test = encoder_network.predict(eeg_test)\n",
    "    synthesized_bold_test = decoder_network.predict(shared_eeg_test)\n",
    "    _plot_mean_std_loss(synthesized_bold_test, bold_test, distance_function, distance_name, \"test\", model_name, ax=ax3)\n",
    "    \n",
    "    plt.show()\n",
    "\n",
    "def plot_loss_results(eeg_train, bold_train, eeg_val, bold_val, eeg_test, bold_test, eeg_network, decoder_network, model_name):\n",
    "    \n",
    "    plot_mean_std_loss(eeg_train, bold_train, \n",
    "                       eeg_val, bold_val, \n",
    "                       eeg_test, bold_test, \n",
    "                       eeg_network, decoder_network, \n",
    "                       \"Cosine\", losses.get_reconstruction_loss,\n",
    "                       model_name)\n",
    "\n",
    "    plot_mean_std_loss(eeg_train, bold_train, \n",
    "                       eeg_val, bold_val, \n",
    "                       eeg_test, bold_test, \n",
    "                       eeg_network, decoder_network, \n",
    "                       \"Euclidean\", euclidean,\n",
    "                       model_name)\n",
    "    \n",
    "    #TODO: DTW distance\n",
    "    \n",
    "def euclidean(x, y):\n",
    "    x = tf.keras.backend.batch_flatten(x)\n",
    "    y = tf.keras.backend.batch_flatten(y)\n",
    "    \n",
    "    return tf.keras.backend.sqrt(tf.keras.backend.sum(tf.keras.backend.square(x - y), axis=-1))\n",
    "\n",
    "from sklearn import preprocessing\n",
    "\n",
    "from sklearn.preprocessing import StandardScaler\n",
    "\n",
    "def standardize(eeg, bold, eeg_scaler=None, bold_scaler=None):\n",
    "    #shape = (n_samples, n_features)\n",
    "    eeg_reshaped = eeg.reshape((eeg.shape[0], eeg.shape[1]*eeg.shape[2]*eeg.shape[3]*eeg.shape[4]))\n",
    "    bold_reshaped = bold.reshape((bold.shape[0], bold.shape[1]*bold.shape[2]*bold.shape[3]))\n",
    "    \n",
    "    if(eeg_scaler == None):\n",
    "        eeg_scaler = StandardScaler()\n",
    "        eeg_scaler.fit(eeg_reshaped)\n",
    "        \n",
    "    if(bold_scaler == None):\n",
    "        bold_scaler = StandardScaler()\n",
    "        bold_scaler.fit(bold_reshaped)\n",
    "\n",
    "    eeg_reshaped = eeg_scaler.transform(eeg_reshaped)\n",
    "    bold_reshaped = bold_scaler.transform(bold_reshaped)\n",
    "\n",
    "    eeg_reshaped = eeg_reshaped.reshape((eeg.shape))\n",
    "    bold_reshaped = bold_reshaped.reshape((bold.shape))\n",
    "    \n",
    "    return eeg_reshaped, bold_reshaped, eeg_scaler, bold_scaler"
   ]
  },
  {
   "cell_type": "code",
   "execution_count": 2,
   "metadata": {
    "scrolled": true
   },
   "outputs": [
    {
     "name": "stdout",
     "output_type": "stream",
     "text": [
      "Extracting parameters from /home/davidcalhas/eeg_to_fmri/datasets/01/EEG/32/export/20130410320002_Segmentation_bin.vhdr...\n",
      "Setting channel info structure...\n",
      "Reading 0 ... 162022  =      0.000 ...   648.088 secs...\n",
      "(30, 2607, 10)\n",
      "Extracting parameters from /home/davidcalhas/eeg_to_fmri/datasets/01/EEG/35/export/20130424350002_Pulse_Artifact_Correction_bin.vhdr...\n",
      "Setting channel info structure...\n",
      "Reading 0 ... 197234  =      0.000 ...   788.936 secs...\n",
      "(60, 2607, 10)\n",
      "Extracting parameters from /home/davidcalhas/eeg_to_fmri/datasets/01/EEG/36/export/20130425360002_Pulse_Artifact_Correction_bin.vhdr...\n",
      "Setting channel info structure...\n",
      "Reading 0 ... 181949  =      0.000 ...   727.796 secs...\n",
      "(90, 2607, 10)\n",
      "Extracting parameters from /home/davidcalhas/eeg_to_fmri/datasets/01/EEG/37/export/20130426370002_Pulse_Artifact_Correction_bin.vhdr...\n",
      "Setting channel info structure...\n",
      "Reading 0 ... 195159  =      0.000 ...   780.636 secs...\n",
      "(120, 2607, 10)\n",
      "Extracting parameters from /home/davidcalhas/eeg_to_fmri/datasets/01/EEG/38/export/20130105380002_Pulse_Artifact_Correction_bin.vhdr...\n",
      "Setting channel info structure...\n",
      "Reading 0 ... 179384  =      0.000 ...   717.536 secs...\n",
      "(150, 2607, 10)\n",
      "Extracting parameters from /home/davidcalhas/eeg_to_fmri/datasets/01/EEG/39/export/20130501390002_Pulse_Artifact_Correction_bin.vhdr...\n",
      "Setting channel info structure...\n",
      "Reading 0 ... 182129  =      0.000 ...   728.516 secs...\n",
      "(180, 2607, 10)\n",
      "Extracting parameters from /home/davidcalhas/eeg_to_fmri/datasets/01/EEG/40/export/20130510400002_Pulse_Artifact_Correction_bin.vhdr...\n",
      "Setting channel info structure...\n",
      "Reading 0 ... 173914  =      0.000 ...   695.656 secs...\n",
      "(210, 2607, 10)\n",
      "Extracting parameters from /home/davidcalhas/eeg_to_fmri/datasets/01/EEG/42/export/20130523420002_Pulse_Artifact_Correction_bin.vhdr...\n",
      "Setting channel info structure...\n",
      "Reading 0 ... 184909  =      0.000 ...   739.636 secs...\n",
      "(240, 2607, 10)\n",
      "Extracting parameters from /home/davidcalhas/eeg_to_fmri/datasets/01/EEG/43/export/20130529430002_Pulse_Artifact_Correction_bin.vhdr...\n",
      "Setting channel info structure...\n",
      "Reading 0 ... 170594  =      0.000 ...   682.376 secs...\n",
      "(270, 2607, 10)\n",
      "Extracting parameters from /home/davidcalhas/eeg_to_fmri/datasets/01/EEG/44/export/20130605440002_Pulse_Artifact_Correction_bin.vhdr...\n",
      "Setting channel info structure...\n",
      "Reading 0 ... 169854  =      0.000 ...   679.416 secs...\n",
      "(300, 2607, 10)\n",
      "Extracting parameters from /home/davidcalhas/eeg_to_fmri/datasets/01/EEG/45/export/20130627450002_Pulse_Artifact_Correction_bin.vhdr...\n",
      "Setting channel info structure...\n",
      "Reading 0 ... 168099  =      0.000 ...   672.396 secs...\n",
      "(30, 2607, 10)\n",
      "Extracting parameters from /home/davidcalhas/eeg_to_fmri/datasets/01/EEG/46/export/20130703460002_Pulse_Artifact_Correction_bin.vhdr...\n",
      "Setting channel info structure...\n",
      "Reading 0 ... 172264  =      0.000 ...   689.056 secs...\n",
      "(60, 2607, 10)\n",
      "Finished Loading Data\n",
      "Pairs Created\n",
      "Extracting parameters from /home/davidcalhas/eeg_to_fmri/datasets/01/EEG/47/export/20130710470002_Pulse_Artifact_Correction_bin.vhdr...\n",
      "Setting channel info structure...\n",
      "Reading 0 ... 182594  =      0.000 ...   730.376 secs...\n",
      "(30, 2607, 10)\n",
      "Extracting parameters from /home/davidcalhas/eeg_to_fmri/datasets/01/EEG/48/export/20130717480002_Pulse_Artifact_Correction_bin.vhdr...\n",
      "Setting channel info structure...\n",
      "Reading 0 ... 171739  =      0.000 ...   686.956 secs...\n",
      "(60, 2607, 10)\n",
      "Extracting parameters from /home/davidcalhas/eeg_to_fmri/datasets/01/EEG/49/export/20130918490002_Pulse_Artifact_Correction_bin.vhdr...\n",
      "Setting channel info structure...\n",
      "Reading 0 ... 167579  =      0.000 ...   670.316 secs...\n",
      "(90, 2607, 10)\n",
      "Extracting parameters from /home/davidcalhas/eeg_to_fmri/datasets/01/EEG/50/export/20131003_500002_Pulse_Artifact_Correction_bin.vhdr...\n",
      "Setting channel info structure...\n",
      "Reading 0 ... 168019  =      0.000 ...   672.076 secs...\n",
      "(120, 2607, 10)\n"
     ]
    }
   ],
   "source": [
    "bold_shift=3\n",
    "n_partitions=30\n",
    "eeg_train, bold_train, eeg_val, bold_val = data_utils.load_data(list(range(10)), \n",
    "                                                                list(range(10, 12)), \n",
    "                                                                bold_shift=bold_shift, \n",
    "                                                                n_partitions=n_partitions, \n",
    "                                                                roi=1, roi_ica_components=20)\n",
    "\n",
    "#standardize data\n",
    "eeg_train, bold_train, eeg_scaler, bold_scaler = standardize(eeg_train, bold_train)\n",
    "eeg_val, bold_val, _, _ = standardize(eeg_val, bold_val, eeg_scaler=eeg_scaler, bold_scaler=bold_scaler)\n",
    "\n",
    "n_voxels = bold_train.shape[1]\n",
    "\n",
    "print(\"Finished Loading Data\")\n",
    "\n",
    "X_train_eeg, X_train_bold, tr_y = data_utils.create_eeg_bold_pairs(eeg_train, bold_train)\n",
    "X_val_eeg, X_val_bold, tv_y = data_utils.create_eeg_bold_pairs(eeg_val, bold_val)\n",
    "\n",
    "\n",
    "X_train_eeg = X_train_eeg.astype(np.float32)\n",
    "X_train_bold = X_train_bold.astype(np.float32)\n",
    "X_val_eeg = X_val_eeg.astype(np.float32)\n",
    "X_val_bold = X_val_bold.astype(np.float32)\n",
    "\n",
    "\n",
    "tr_y = np.array(tr_y, dtype=np.float32)\n",
    "tv_y = np.array(tv_y, dtype=np.float32)\n",
    "\n",
    "eeg_train = eeg_train.astype('float32')\n",
    "bold_train = bold_train.astype('float32')\n",
    "eeg_val = eeg_val.astype('float32')\n",
    "bold_val = bold_val.astype('float32')\n",
    "\n",
    "print(\"Pairs Created\")\n",
    "\n",
    "_, _, eeg_test, bold_test = data_utils.load_data(list(range(0)), list(range(12, 16)), bold_shift=bold_shift, n_partitions=n_partitions, roi=1, roi_ica_components=20)\n",
    "\n",
    "eeg_test, bold_test, _, _ = standardize(eeg_test, bold_test, eeg_scaler=eeg_scaler, bold_scaler=bold_scaler)\n",
    "\n",
    "eeg_test = eeg_test.astype('float32')\n",
    "bold_test = bold_test.astype('float32')"
   ]
  },
  {
   "cell_type": "markdown",
   "metadata": {},
   "source": [
    "### Train the network"
   ]
  },
  {
   "cell_type": "code",
   "execution_count": 6,
   "metadata": {
    "scrolled": false
   },
   "outputs": [
    {
     "name": "stdout",
     "output_type": "stream",
     "text": [
      "Encoder Loss:  0.15331504  || Decoder Loss:  0.020238662 Validation Decoder Loss:  0.41834626\n",
      "Encoder Loss:  0.1425462  || Decoder Loss:  0.016873885 Validation Decoder Loss:  0.37104902\n",
      "Encoder Loss:  0.12797903  || Decoder Loss:  0.012463073 Validation Decoder Loss:  0.28145754\n",
      "Encoder Loss:  0.10852664  || Decoder Loss:  0.005945721 Validation Decoder Loss:  0.17246124\n",
      "Encoder Loss:  0.09826805  || Decoder Loss:  0.0049124104 Validation Decoder Loss:  0.13954686\n",
      "Encoder Loss:  0.060583644  || Decoder Loss:  0.0038952448 Validation Decoder Loss:  0.114987224\n",
      "Encoder Loss:  0.03140676  || Decoder Loss:  0.0008969218 Validation Decoder Loss:  0.003096237\n"
     ]
    }
   ],
   "source": [
    "eeg_network, bold_network, decoder_network = get_models_and_shapes()\n",
    "\n",
    "eeg_input_shape = (eeg_train.shape[1], eeg_train.shape[2], eeg_train.shape[3], eeg_train.shape[4])\n",
    "bold_input_shape=(bold_train.shape[1], bold_train.shape[2], bold_train.shape[3])\n",
    "\n",
    "multi_modal_model = custom_training.multi_modal_network(eeg_input_shape, bold_input_shape, eeg_network, bold_network, dcca=False)\n",
    "\n",
    "\n",
    "validation_loss = custom_training.linear_combination_training(X_train_eeg, \n",
    "                                                            X_train_bold, \n",
    "                                                            tr_y, \n",
    "                                                            eeg_network, \n",
    "                                                            decoder_network, \n",
    "                                                            multi_modal_model, \n",
    "                                                            epochs=7, \n",
    "                                                            encoder_optimizer=tf.keras.optimizers.Adam(learning_rate=learning_rate),\n",
    "                                                            decoder_optimizer=tf.keras.optimizers.Adam(learning_rate=learning_rate),\n",
    "                                                            batch_size=batch_size, \n",
    "                                                            linear_combination=loss_coefficient,\n",
    "                                                            X_val_eeg=X_val_eeg,\n",
    "                                                            X_val_bold=X_val_bold,\n",
    "                                                            tv_y=tv_y)\n",
    "\n",
    "model_name = \"LComb\""
   ]
  },
  {
   "cell_type": "code",
   "execution_count": 7,
   "metadata": {
    "scrolled": false
   },
   "outputs": [
    {
     "name": "stdout",
     "output_type": "stream",
     "text": [
      "train set mean:  0.00809660502561504\n",
      "train set std:  0.006083771260138156\n",
      "validation set mean:  0.004183827355639854\n",
      "validation set std:  0.002636640140580751\n",
      "test set mean:  0.0037154286140018184\n",
      "test set std:  0.0024210220330401467\n"
     ]
    },
    {
     "data": {
      "image/png": "[encoded data removed]",
      "text/plain": [
       "<Figure size 1440x360 with 3 Axes>"
      ]
     },
     "metadata": {
      "needs_background": "light"
     },
     "output_type": "display_data"
    },
    {
     "name": "stdout",
     "output_type": "stream",
     "text": [
      "train set mean:  1698.9482706705728\n",
      "train set std:  259.6831657973035\n",
      "validation set mean:  2300.9925537109375\n",
      "validation set std:  387.9059714415648\n",
      "test set mean:  2527.931292724609\n",
      "test set std:  928.1392854324989\n"
     ]
    },
    {
     "data": {
      "image/png": "[encoded data removed]",
      "text/plain": [
       "<Figure size 1440x360 with 3 Axes>"
      ]
     },
     "metadata": {
      "needs_background": "light"
     },
     "output_type": "display_data"
    }
   ],
   "source": [
    "plot_loss_results(eeg_train, bold_train, eeg_val, bold_val, eeg_test, bold_test, eeg_network, decoder_network, model_name)"
   ]
  },
  {
   "cell_type": "markdown",
   "metadata": {},
   "source": [
    "### Try the same hyperparameters, but in an autoencoder training process without the bold branch"
   ]
  },
  {
   "cell_type": "code",
   "execution_count": null,
   "metadata": {
    "scrolled": false
   },
   "outputs": [
    {
     "name": "stdout",
     "output_type": "stream",
     "text": [
      "Autoencoder Loss:  0.031403247 || Validation Autoencoder Loss:  0.39103004\n",
      "Autoencoder Loss:  0.01361588 || Validation Autoencoder Loss:  0.37702167\n",
      "Autoencoder Loss:  0.0064820633 || Validation Autoencoder Loss:  0.36689487\n",
      "Autoencoder Loss:  0.005651015 || Validation Autoencoder Loss:  0.36038625\n",
      "Autoencoder Loss:  0.005143408 || Validation Autoencoder Loss:  0.35339183\n",
      "Autoencoder Loss:  0.0047556693 || Validation Autoencoder Loss:  0.34493554\n",
      "Autoencoder Loss:  0.0044147656 || Validation Autoencoder Loss:  0.33515376\n",
      "Autoencoder Loss:  0.004110843 || Validation Autoencoder Loss:  0.32337794\n",
      "Autoencoder Loss:  0.00379853 || Validation Autoencoder Loss:  0.3084809\n",
      "Autoencoder Loss:  0.0034563655 || Validation Autoencoder Loss:  0.2890576\n",
      "Autoencoder Loss:  0.0030752977 || Validation Autoencoder Loss:  0.26214132\n",
      "Autoencoder Loss:  0.002639019 || Validation Autoencoder Loss:  0.22209634\n",
      "Autoencoder Loss:  0.0021442103 || Validation Autoencoder Loss:  0.1596993\n",
      "Autoencoder Loss:  0.0017073519 || Validation Autoencoder Loss:  0.08828066\n",
      "Autoencoder Loss:  0.001494255 || Validation Autoencoder Loss:  0.049374692\n",
      "Autoencoder Loss:  0.0014351896 || Validation Autoencoder Loss:  0.035085462\n",
      "Autoencoder Loss:  0.001402719 || Validation Autoencoder Loss:  0.02750534\n",
      "Autoencoder Loss:  0.0013747332 || Validation Autoencoder Loss:  0.023488486\n",
      "Autoencoder Loss:  0.0013492601 || Validation Autoencoder Loss:  0.021276878\n",
      "Autoencoder Loss:  0.0013235739 || Validation Autoencoder Loss:  0.018404031\n",
      "Autoencoder Loss:  0.001299879 || Validation Autoencoder Loss:  0.015652744\n",
      "Autoencoder Loss:  0.0012777265 || Validation Autoencoder Loss:  0.013088968\n",
      "Autoencoder Loss:  0.0012559413 || Validation Autoencoder Loss:  0.011537701\n",
      "Autoencoder Loss:  0.0012352872 || Validation Autoencoder Loss:  0.010512321\n",
      "Autoencoder Loss:  0.0012164705 || Validation Autoencoder Loss:  0.008683133\n"
     ]
    }
   ],
   "source": [
    "eeg_network, bold_network, decoder_network = get_models_and_shapes()\n",
    "\n",
    "auto_encoder_model = custom_training.auto_encoder_network(eeg_input_shape, eeg_network, decoder_network)\n",
    "\n",
    "validation_loss = custom_training.autoencoder_training(X_train_eeg, \n",
    "                     X_train_bold, \n",
    "                     auto_encoder_model, \n",
    "                     epochs=40, \n",
    "                     auto_encoder_optimizer=tf.keras.optimizers.Adam(learning_rate=learning_rate), \n",
    "                     batch_size=batch_size, \n",
    "                     X_val_eeg=eeg_val, \n",
    "                     X_val_bold=bold_val)\n",
    "\n",
    "model_name = \"AE\""
   ]
  },
  {
   "cell_type": "code",
   "execution_count": null,
   "metadata": {},
   "outputs": [],
   "source": [
    "plot_loss_results(eeg_train, bold_train, eeg_val, bold_val, eeg_test, bold_test, eeg_network, decoder_network, model_name)"
   ]
  },
  {
   "cell_type": "markdown",
   "metadata": {},
   "source": [
    "### Try the same hyperparameters, but in an adversarial training process"
   ]
  },
  {
   "cell_type": "code",
   "execution_count": 128,
   "metadata": {
    "scrolled": true
   },
   "outputs": [
    {
     "name": "stdout",
     "output_type": "stream",
     "text": [
      "GAN Encoder Loss:  0.15939626  || GAN Decoder Loss:  3.1093001  || GAN Validation Decoder Loss:  0.6578943  || Train Reconstruction Loss:  0.9200086  || Validation Reconstruction Loss:  0.6578943\n",
      "GAN Encoder Loss:  0.84074533  || GAN Decoder Loss:  1.5784149  || GAN Validation Decoder Loss:  0.14924704  || Train Reconstruction Loss:  0.21967341  || Validation Reconstruction Loss:  0.14924702\n",
      "GAN Encoder Loss:  1.6417892  || GAN Decoder Loss:  0.05284015  || GAN Validation Decoder Loss:  0.1404275  || Train Reconstruction Loss:  0.20833859  || Validation Reconstruction Loss:  0.1404275\n",
      "GAN Encoder Loss:  1.6960887  || GAN Decoder Loss:  0.048830755  || GAN Validation Decoder Loss:  0.13624427  || Train Reconstruction Loss:  0.20296583  || Validation Reconstruction Loss:  0.13624425\n",
      "GAN Encoder Loss:  1.6913936  || GAN Decoder Loss:  0.048639808  || GAN Validation Decoder Loss:  0.14151789  || Train Reconstruction Loss:  0.21027102  || Validation Reconstruction Loss:  0.14151789\n",
      "GAN Encoder Loss:  1.6870847  || GAN Decoder Loss:  0.048792835  || GAN Validation Decoder Loss:  0.14213215  || Train Reconstruction Loss:  0.21116601  || Validation Reconstruction Loss:  0.14213215\n",
      "GAN Encoder Loss:  1.6710397  || GAN Decoder Loss:  0.050353933  || GAN Validation Decoder Loss:  0.14151026  || Train Reconstruction Loss:  0.21053082  || Validation Reconstruction Loss:  0.14151026\n",
      "GAN Encoder Loss:  1.682857  || GAN Decoder Loss:  0.049690254  || GAN Validation Decoder Loss:  0.14160542  || Train Reconstruction Loss:  0.2110104  || Validation Reconstruction Loss:  0.14160542\n",
      "GAN Encoder Loss:  1.687528  || GAN Decoder Loss:  0.048743565  || GAN Validation Decoder Loss:  0.1381027  || Train Reconstruction Loss:  0.20669284  || Validation Reconstruction Loss:  0.13810268\n",
      "GAN Encoder Loss:  1.6791681  || GAN Decoder Loss:  0.049270786  || GAN Validation Decoder Loss:  0.1378523  || Train Reconstruction Loss:  0.20660494  || Validation Reconstruction Loss:  0.1378523\n",
      "GAN Encoder Loss:  1.6906691  || GAN Decoder Loss:  0.04890064  || GAN Validation Decoder Loss:  0.13220824  || Train Reconstruction Loss:  0.19949456  || Validation Reconstruction Loss:  0.13220824\n",
      "GAN Encoder Loss:  1.7043353  || GAN Decoder Loss:  0.048394784  || GAN Validation Decoder Loss:  0.13439195  || Train Reconstruction Loss:  0.20283958  || Validation Reconstruction Loss:  0.13439195\n",
      "GAN Encoder Loss:  1.7076322  || GAN Decoder Loss:  0.0484105  || GAN Validation Decoder Loss:  0.1343277  || Train Reconstruction Loss:  0.2028966  || Validation Reconstruction Loss:  0.1343277\n",
      "GAN Encoder Loss:  1.7124901  || GAN Decoder Loss:  0.047556393  || GAN Validation Decoder Loss:  0.1323226  || Train Reconstruction Loss:  0.20072743  || Validation Reconstruction Loss:  0.13232258\n",
      "GAN Encoder Loss:  1.7048808  || GAN Decoder Loss:  0.047643024  || GAN Validation Decoder Loss:  0.13072295  || Train Reconstruction Loss:  0.19864123  || Validation Reconstruction Loss:  0.13072295\n",
      "GAN Encoder Loss:  1.7012815  || GAN Decoder Loss:  0.048277587  || GAN Validation Decoder Loss:  0.12872547  || Train Reconstruction Loss:  0.19625139  || Validation Reconstruction Loss:  0.12872547\n",
      "GAN Encoder Loss:  1.6892675  || GAN Decoder Loss:  0.048551526  || GAN Validation Decoder Loss:  0.13216427  || Train Reconstruction Loss:  0.20117767  || Validation Reconstruction Loss:  0.13216427\n",
      "GAN Encoder Loss:  1.7061538  || GAN Decoder Loss:  0.047281507  || GAN Validation Decoder Loss:  0.13195083  || Train Reconstruction Loss:  0.20117785  || Validation Reconstruction Loss:  0.13195083\n",
      "GAN Encoder Loss:  1.7100099  || GAN Decoder Loss:  0.047573335  || GAN Validation Decoder Loss:  0.13150664  || Train Reconstruction Loss:  0.2008619  || Validation Reconstruction Loss:  0.13150665\n",
      "GAN Encoder Loss:  1.6767237  || GAN Decoder Loss:  0.048986763  || GAN Validation Decoder Loss:  0.13303702  || Train Reconstruction Loss:  0.20295228  || Validation Reconstruction Loss:  0.13303702\n",
      "GAN Encoder Loss:  1.7100172  || GAN Decoder Loss:  0.047267206  || GAN Validation Decoder Loss:  0.13084346  || Train Reconstruction Loss:  0.20032813  || Validation Reconstruction Loss:  0.13084346\n",
      "GAN Encoder Loss:  1.6986798  || GAN Decoder Loss:  0.048137482  || GAN Validation Decoder Loss:  0.12835188  || Train Reconstruction Loss:  0.19758804  || Validation Reconstruction Loss:  0.12835188\n",
      "GAN Encoder Loss:  1.7106534  || GAN Decoder Loss:  0.047985446  || GAN Validation Decoder Loss:  0.12589772  || Train Reconstruction Loss:  0.19458683  || Validation Reconstruction Loss:  0.12589772\n",
      "GAN Encoder Loss:  1.726188  || GAN Decoder Loss:  0.047297582  || GAN Validation Decoder Loss:  0.12780172  || Train Reconstruction Loss:  0.19744541  || Validation Reconstruction Loss:  0.12780172\n",
      "GAN Encoder Loss:  1.7255498  || GAN Decoder Loss:  0.04610246  || GAN Validation Decoder Loss:  0.13058591  || Train Reconstruction Loss:  0.20092748  || Validation Reconstruction Loss:  0.13058591\n",
      "GAN Encoder Loss:  1.6907822  || GAN Decoder Loss:  0.048482113  || GAN Validation Decoder Loss:  0.13260572  || Train Reconstruction Loss:  0.20358022  || Validation Reconstruction Loss:  0.13260572\n",
      "GAN Encoder Loss:  1.6938597  || GAN Decoder Loss:  0.04815912  || GAN Validation Decoder Loss:  0.13529705  || Train Reconstruction Loss:  0.20734848  || Validation Reconstruction Loss:  0.13529705\n",
      "GAN Encoder Loss:  1.6915209  || GAN Decoder Loss:  0.049260456  || GAN Validation Decoder Loss:  0.13110535  || Train Reconstruction Loss:  0.20202519  || Validation Reconstruction Loss:  0.13110533\n",
      "GAN Encoder Loss:  1.7031624  || GAN Decoder Loss:  0.04866188  || GAN Validation Decoder Loss:  0.13396193  || Train Reconstruction Loss:  0.20659496  || Validation Reconstruction Loss:  0.13396193\n",
      "GAN Encoder Loss:  1.675514  || GAN Decoder Loss:  0.051855776  || GAN Validation Decoder Loss:  0.13407373  || Train Reconstruction Loss:  0.20698953  || Validation Reconstruction Loss:  0.13407373\n",
      "GAN Encoder Loss:  1.6841619  || GAN Decoder Loss:  0.049265645  || GAN Validation Decoder Loss:  0.13489604  || Train Reconstruction Loss:  0.2077609  || Validation Reconstruction Loss:  0.13489604\n",
      "GAN Encoder Loss:  1.6885698  || GAN Decoder Loss:  0.048925407  || GAN Validation Decoder Loss:  0.1295164  || Train Reconstruction Loss:  0.20076467  || Validation Reconstruction Loss:  0.1295164\n",
      "GAN Encoder Loss:  1.6889466  || GAN Decoder Loss:  0.049599163  || GAN Validation Decoder Loss:  0.13385694  || Train Reconstruction Loss:  0.20700406  || Validation Reconstruction Loss:  0.13385694\n",
      "GAN Encoder Loss:  1.6896485  || GAN Decoder Loss:  0.048898913  || GAN Validation Decoder Loss:  0.13167377  || Train Reconstruction Loss:  0.2042449  || Validation Reconstruction Loss:  0.13167378\n",
      "GAN Encoder Loss:  1.6923516  || GAN Decoder Loss:  0.048848633  || GAN Validation Decoder Loss:  0.13173205  || Train Reconstruction Loss:  0.20456743  || Validation Reconstruction Loss:  0.13173205\n",
      "GAN Encoder Loss:  1.7016195  || GAN Decoder Loss:  0.048764985  || GAN Validation Decoder Loss:  0.13158154  || Train Reconstruction Loss:  0.20442341  || Validation Reconstruction Loss:  0.13158154\n",
      "GAN Encoder Loss:  1.677397  || GAN Decoder Loss:  0.049690507  || GAN Validation Decoder Loss:  0.1270166  || Train Reconstruction Loss:  0.1986866  || Validation Reconstruction Loss:  0.1270166\n",
      "GAN Encoder Loss:  1.7303559  || GAN Decoder Loss:  0.04738435  || GAN Validation Decoder Loss:  0.12867315  || Train Reconstruction Loss:  0.2011836  || Validation Reconstruction Loss:  0.12867315\n",
      "GAN Encoder Loss:  1.6919863  || GAN Decoder Loss:  0.048727516  || GAN Validation Decoder Loss:  0.12836662  || Train Reconstruction Loss:  0.20098966  || Validation Reconstruction Loss:  0.12836662\n",
      "GAN Encoder Loss:  1.6808263  || GAN Decoder Loss:  0.049613874  || GAN Validation Decoder Loss:  0.12737553  || Train Reconstruction Loss:  0.19983405  || Validation Reconstruction Loss:  0.12737553\n"
     ]
    }
   ],
   "source": [
    "eeg_network, bold_network, decoder_network = get_models_and_shapes()\n",
    "multi_modal_model = custom_training.multi_modal_network(eeg_input_shape, bold_input_shape, eeg_network, bold_network, dcca=False, corr_distance=True)\n",
    "\n",
    "validation_loss = custom_training.adversarial_training(X_train_eeg, \n",
    "                                                       X_train_bold, \n",
    "                                                       tr_y, \n",
    "                                                       eeg_network, decoder_network, multi_modal_model, \n",
    "                                                       epochs=40, \n",
    "                                                       discriminator_optimizer=tf.keras.optimizers.Adam(learning_rate=learning_rate), \n",
    "                                                       generator_optimizer=tf.keras.optimizers.Adam(learning_rate=learning_rate), \n",
    "                                                       batch_size=batch_size, \n",
    "                                                       linear_combination=loss_coefficient, \n",
    "                                                       X_val_eeg=X_val_eeg, \n",
    "                                                       X_val_bold=X_val_bold, \n",
    "                                                       tv_y=tv_y)\n",
    "\n",
    "model_name = \"GAN\""
   ]
  },
  {
   "cell_type": "code",
   "execution_count": null,
   "metadata": {},
   "outputs": [],
   "source": [
    "plot_loss_results(eeg_train, bold_train, eeg_val, bold_val, eeg_test, bold_test, eeg_network, decoder_network, model_name)"
   ]
  },
  {
   "cell_type": "markdown",
   "metadata": {},
   "source": [
    "### Plot synthesized signal"
   ]
  },
  {
   "cell_type": "code",
   "execution_count": 30,
   "metadata": {},
   "outputs": [
    {
     "data": {
      "image/png": "[encoded data removed]",
      "text/plain": [
       "<Figure size 432x288 with 1 Axes>"
      ]
     },
     "metadata": {
      "needs_background": "light"
     },
     "output_type": "display_data"
    },
    {
     "data": {
      "image/png": "[encoded data removed]",
      "text/plain": [
       "<Figure size 432x288 with 1 Axes>"
      ]
     },
     "metadata": {
      "needs_background": "light"
     },
     "output_type": "display_data"
    }
   ],
   "source": [
    "plt.plot(decoder_network(eeg_network(eeg_train))[0][5].numpy())\n",
    "plt.show()\n",
    "plt.plot(bold_train[0][5])\n",
    "plt.show()"
   ]
  }
 ],
 "metadata": {
  "kernelspec": {
   "display_name": "Python 3",
   "language": "python",
   "name": "python3"
  },
  "language_info": {
   "codemirror_mode": {
    "name": "ipython",
    "version": 3
   },
   "file_extension": ".py",
   "mimetype": "text/x-python",
   "name": "python",
   "nbconvert_exporter": "python",
   "pygments_lexer": "ipython3",
   "version": "3.6.9"
  }
 },
 "nbformat": 4,
 "nbformat_minor": 2
}
