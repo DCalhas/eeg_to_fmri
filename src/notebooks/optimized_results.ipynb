{
 "cells": [
  {
   "cell_type": "markdown",
   "metadata": {},
   "source": [
    "# Analyze the results given by NAS"
   ]
  },
  {
   "cell_type": "markdown",
   "metadata": {},
   "source": [
    "## Build the network given by NAS "
   ]
  },
  {
   "cell_type": "code",
   "execution_count": 7,
   "metadata": {
    "scrolled": true
   },
   "outputs": [
    {
     "name": "stdout",
     "output_type": "stream",
     "text": [
      "3.79550519e-05\n"
     ]
    }
   ],
   "source": [
    "import sys\n",
    "sys.path.append('..')\n",
    "sys.path.append('../..')\n",
    "\n",
    "\n",
    "import iterative_naive_nas\n",
    "\n",
    "from sklearn.model_selection import train_test_split\n",
    "\n",
    "import tensorflow.compat.v1 as tf\n",
    "\n",
    "import numpy as np\n",
    "\n",
    "import custom_training\n",
    "\n",
    "import utils.losses_utils as losses\n",
    "\n",
    "import utils.data_utils as data_utils\n",
    "\n",
    "import matplotlib.pyplot as plt\n",
    "\n",
    "optimized_parameters = [3.79550519e-05, 4.50432410e-01, 9.37811468e-01, 6.19643702e-01,\n",
    " 1.83734935e-01, 1.60000000e+01, 2.57000000e+03]\n",
    "\n",
    "learning_rate = float(optimized_parameters[0])\n",
    "l1_penalization_eeg = float(optimized_parameters[1])\n",
    "l1_penalization_bold = float(optimized_parameters[2])\n",
    "l1_penalization_decoder = float(optimized_parameters[3])\n",
    "loss_coefficient = float(optimized_parameters[4])\n",
    "batch_size = int(optimized_parameters[5])\n",
    "current_shape = int(optimized_parameters[6])\n",
    "#eeg_hidden_shape = int(optimized_parameters[6])\n",
    "#bold_hidden_shape = int(optimized_parameters[7])\n",
    "#decoder_hidden_shape = int(optimized_parameters[8])\n",
    "\n",
    "def get_models_and_shapes(eeg_file='../../optimized_nets/eeg/eeg_bold_shift_0.json', \n",
    "                          bold_file='../../optimized_nets/bold/bold_bold_shift_0.json',\n",
    "                          decoder_file='../../optimized_nets/decoder/decoder_bold_shift_0.json'):\n",
    "    json_file = open(eeg_file, 'r')\n",
    "    loaded_model_json = json_file.read()\n",
    "    json_file.close()\n",
    "    eeg_network = tf.keras.models.model_from_json(loaded_model_json)\n",
    "    \n",
    "    json_file = open(bold_file, 'r')\n",
    "    loaded_model_json = json_file.read()\n",
    "    json_file.close()\n",
    "    bold_network = tf.keras.models.model_from_json(loaded_model_json)\n",
    "    \n",
    "    json_file = open(decoder_file, 'r')\n",
    "    loaded_model_json = json_file.read()\n",
    "    json_file.close()\n",
    "    decoder_network = tf.keras.models.model_from_json(loaded_model_json)\n",
    "    \n",
    "    return eeg_network, bold_network, decoder_network"
   ]
  },
  {
   "cell_type": "code",
   "execution_count": 2,
   "metadata": {
    "scrolled": true
   },
   "outputs": [
    {
     "name": "stdout",
     "output_type": "stream",
     "text": [
      "Extracting parameters from /home/davidcalhas/eeg_to_fmri/datasets/01/EEG/32/export/20130410320002_Segmentation_bin.vhdr...\n",
      "Setting channel info structure...\n",
      "Reading 0 ... 162022  =      0.000 ...   648.088 secs...\n",
      "(16, 2607, 19)\n",
      "Extracting parameters from /home/davidcalhas/eeg_to_fmri/datasets/01/EEG/35/export/20130424350002_Pulse_Artifact_Correction_bin.vhdr...\n",
      "Setting channel info structure...\n",
      "Reading 0 ... 197234  =      0.000 ...   788.936 secs...\n",
      "(32, 2607, 19)\n",
      "Extracting parameters from /home/davidcalhas/eeg_to_fmri/datasets/01/EEG/36/export/20130425360002_Pulse_Artifact_Correction_bin.vhdr...\n",
      "Setting channel info structure...\n",
      "Reading 0 ... 181949  =      0.000 ...   727.796 secs...\n",
      "(48, 2607, 19)\n",
      "Extracting parameters from /home/davidcalhas/eeg_to_fmri/datasets/01/EEG/37/export/20130426370002_Pulse_Artifact_Correction_bin.vhdr...\n",
      "Setting channel info structure...\n",
      "Reading 0 ... 195159  =      0.000 ...   780.636 secs...\n",
      "(64, 2607, 19)\n",
      "Extracting parameters from /home/davidcalhas/eeg_to_fmri/datasets/01/EEG/38/export/20130105380002_Pulse_Artifact_Correction_bin.vhdr...\n",
      "Setting channel info structure...\n",
      "Reading 0 ... 179384  =      0.000 ...   717.536 secs...\n",
      "(80, 2607, 19)\n",
      "Extracting parameters from /home/davidcalhas/eeg_to_fmri/datasets/01/EEG/39/export/20130501390002_Pulse_Artifact_Correction_bin.vhdr...\n",
      "Setting channel info structure...\n",
      "Reading 0 ... 182129  =      0.000 ...   728.516 secs...\n",
      "(96, 2607, 19)\n",
      "Extracting parameters from /home/davidcalhas/eeg_to_fmri/datasets/01/EEG/40/export/20130510400002_Pulse_Artifact_Correction_bin.vhdr...\n",
      "Setting channel info structure...\n",
      "Reading 0 ... 173914  =      0.000 ...   695.656 secs...\n",
      "(112, 2607, 19)\n",
      "Extracting parameters from /home/davidcalhas/eeg_to_fmri/datasets/01/EEG/42/export/20130523420002_Pulse_Artifact_Correction_bin.vhdr...\n",
      "Setting channel info structure...\n",
      "Reading 0 ... 184909  =      0.000 ...   739.636 secs...\n",
      "(128, 2607, 19)\n",
      "Extracting parameters from /home/davidcalhas/eeg_to_fmri/datasets/01/EEG/43/export/20130529430002_Pulse_Artifact_Correction_bin.vhdr...\n",
      "Setting channel info structure...\n",
      "Reading 0 ... 170594  =      0.000 ...   682.376 secs...\n",
      "(144, 2607, 19)\n",
      "Extracting parameters from /home/davidcalhas/eeg_to_fmri/datasets/01/EEG/44/export/20130605440002_Pulse_Artifact_Correction_bin.vhdr...\n",
      "Setting channel info structure...\n",
      "Reading 0 ... 169854  =      0.000 ...   679.416 secs...\n",
      "(160, 2607, 19)\n",
      "Extracting parameters from /home/davidcalhas/eeg_to_fmri/datasets/01/EEG/45/export/20130627450002_Pulse_Artifact_Correction_bin.vhdr...\n",
      "Setting channel info structure...\n",
      "Reading 0 ... 168099  =      0.000 ...   672.396 secs...\n",
      "(16, 2607, 19)\n",
      "Extracting parameters from /home/davidcalhas/eeg_to_fmri/datasets/01/EEG/46/export/20130703460002_Pulse_Artifact_Correction_bin.vhdr...\n",
      "Setting channel info structure...\n",
      "Reading 0 ... 172264  =      0.000 ...   689.056 secs...\n",
      "(32, 2607, 19)\n",
      "Finished Loading Data\n",
      "Pairs Created\n"
     ]
    }
   ],
   "source": [
    "bold_shift=3\n",
    "n_partitions=16\n",
    "eeg_train, bold_train, eeg_val, bold_val = data_utils.load_data(list(range(10)), \n",
    "                                                                list(range(10, 12)), \n",
    "                                                                bold_shift=bold_shift, \n",
    "                                                                n_partitions=n_partitions, \n",
    "                                                                roi=1, roi_ica_components=20)\n",
    "n_voxels = bold_train.shape[1]\n",
    "\n",
    "print(\"Finished Loading Data\")\n",
    "\n",
    "X_train_eeg, X_train_bold, tr_y = data_utils.create_eeg_bold_pairs(eeg_train, bold_train)\n",
    "X_val_eeg, X_val_bold, tv_y = data_utils.create_eeg_bold_pairs(eeg_val, bold_val)\n",
    "\n",
    "\n",
    "X_train_eeg = X_train_eeg.astype(np.float32)\n",
    "X_train_bold = X_train_bold.astype(np.float32)\n",
    "X_val_eeg = X_val_eeg.astype(np.float32)\n",
    "X_val_bold = X_val_bold.astype(np.float32)\n",
    "\n",
    "\n",
    "tr_y = np.array(tr_y, dtype=np.float32)\n",
    "tv_y = np.array(tv_y, dtype=np.float32)\n",
    "\n",
    "eeg_train = eeg_train.astype('float32')\n",
    "bold_train = bold_train.astype('float32')\n",
    "eeg_val = eeg_val.astype('float32')\n",
    "bold_val = bold_val.astype('float32')\n",
    "\n",
    "print(\"Pairs Created\")"
   ]
  },
  {
   "cell_type": "code",
   "execution_count": 23,
   "metadata": {},
   "outputs": [],
   "source": [
    "nas = iterative_naive_nas.Iterative_Naive_NAS()\n",
    "\n",
    "eeg_network, bold_network, decoder_network = get_models_and_shapes()\n",
    "\n",
    "eeg_input_shape = (64, 5, 19, 1)\n",
    "bold_input_shape=(2570, 19, 1)"
   ]
  },
  {
   "cell_type": "code",
   "execution_count": 24,
   "metadata": {},
   "outputs": [],
   "source": [
    "multi_modal_model = custom_training.multi_modal_network(eeg_input_shape, bold_input_shape, eeg_network, bold_network, dcca=False)"
   ]
  },
  {
   "cell_type": "markdown",
   "metadata": {},
   "source": [
    "### Train the network"
   ]
  },
  {
   "cell_type": "code",
   "execution_count": 22,
   "metadata": {
    "scrolled": false
   },
   "outputs": [
    {
     "name": "stdout",
     "output_type": "stream",
     "text": [
      "0.00911997\n",
      "0.004838039\n"
     ]
    },
    {
     "ename": "KeyboardInterrupt",
     "evalue": "",
     "output_type": "error",
     "traceback": [
      "\u001b[0;31m---------------------------------------------------------------------------\u001b[0m",
      "\u001b[0;31mKeyboardInterrupt\u001b[0m                         Traceback (most recent call last)",
      "\u001b[0;32m<ipython-input-22-ac5ccc3daadf>\u001b[0m in \u001b[0;36m<module>\u001b[0;34m\u001b[0m\n\u001b[1;32m     21\u001b[0m                                                               \u001b[0mX_val_eeg\u001b[0m\u001b[0;34m=\u001b[0m\u001b[0mX_val_eeg\u001b[0m\u001b[0;34m,\u001b[0m\u001b[0;34m\u001b[0m\u001b[0;34m\u001b[0m\u001b[0m\n\u001b[1;32m     22\u001b[0m                                                               \u001b[0mX_val_bold\u001b[0m\u001b[0;34m=\u001b[0m\u001b[0mX_val_bold\u001b[0m\u001b[0;34m,\u001b[0m\u001b[0;34m\u001b[0m\u001b[0;34m\u001b[0m\u001b[0m\n\u001b[0;32m---> 23\u001b[0;31m                                                               tv_y=tv_y)\n\u001b[0m\u001b[1;32m     24\u001b[0m \u001b[0;34m\u001b[0m\u001b[0m\n\u001b[1;32m     25\u001b[0m \u001b[0mshared_eeg_val\u001b[0m \u001b[0;34m=\u001b[0m \u001b[0meeg_network\u001b[0m\u001b[0;34m.\u001b[0m\u001b[0mpredict\u001b[0m\u001b[0;34m(\u001b[0m\u001b[0meeg_val\u001b[0m\u001b[0;34m)\u001b[0m\u001b[0;34m\u001b[0m\u001b[0;34m\u001b[0m\u001b[0m\n",
      "\u001b[0;32m~/eeg_to_fmri/src/custom_training.py\u001b[0m in \u001b[0;36mlinear_combination_training\u001b[0;34m(X_train_eeg, X_train_bold, tr_y, eeg_network, decoder_model, multi_modal_model, epochs, encoder_optimizer, decoder_optimizer, linear_combination, batch_size, X_val_eeg, X_val_bold, tv_y, session)\u001b[0m\n\u001b[1;32m    212\u001b[0m                                                              [X_train_eeg[batch_start:batch_stop], \n\u001b[1;32m    213\u001b[0m                                                                                  X_train_bold[batch_start:batch_stop]], \n\u001b[0;32m--> 214\u001b[0;31m                                                              tr_y[batch_start:batch_stop], decoder_loss, linear_combination)\n\u001b[0m\u001b[1;32m    215\u001b[0m             \u001b[0;32mwith\u001b[0m \u001b[0mtf\u001b[0m\u001b[0;34m.\u001b[0m\u001b[0mname_scope\u001b[0m\u001b[0;34m(\u001b[0m\u001b[0;34m\"gradient_encoders\"\u001b[0m\u001b[0;34m)\u001b[0m \u001b[0;32mas\u001b[0m \u001b[0mscope\u001b[0m\u001b[0;34m:\u001b[0m\u001b[0;34m\u001b[0m\u001b[0;34m\u001b[0m\u001b[0m\n\u001b[1;32m    216\u001b[0m                 \u001b[0mencoder_optimizer\u001b[0m\u001b[0;34m.\u001b[0m\u001b[0mapply_gradients\u001b[0m\u001b[0;34m(\u001b[0m\u001b[0mzip\u001b[0m\u001b[0;34m(\u001b[0m\u001b[0mencoder_grads\u001b[0m\u001b[0;34m,\u001b[0m \u001b[0mmulti_modal_model\u001b[0m\u001b[0;34m.\u001b[0m\u001b[0mtrainable_variables\u001b[0m\u001b[0;34m)\u001b[0m\u001b[0;34m,\u001b[0m \u001b[0mname\u001b[0m\u001b[0;34m=\u001b[0m\u001b[0mscope\u001b[0m\u001b[0;34m)\u001b[0m\u001b[0;34m\u001b[0m\u001b[0;34m\u001b[0m\u001b[0m\n",
      "\u001b[0;32m~/eeg_to_fmri/src/custom_training.py\u001b[0m in \u001b[0;36mgrad_multi_encoder\u001b[0;34m(model, inputs, targets, reconstruction_loss, linear_combination, dcca, dcca_output)\u001b[0m\n\u001b[1;32m     90\u001b[0m         \u001b[0mtape\u001b[0m\u001b[0;34m.\u001b[0m\u001b[0mwatch\u001b[0m\u001b[0;34m(\u001b[0m\u001b[0mbold\u001b[0m\u001b[0;34m)\u001b[0m\u001b[0;34m\u001b[0m\u001b[0;34m\u001b[0m\u001b[0m\n\u001b[1;32m     91\u001b[0m \u001b[0;34m\u001b[0m\u001b[0m\n\u001b[0;32m---> 92\u001b[0;31m         \u001b[0moutputs\u001b[0m \u001b[0;34m=\u001b[0m \u001b[0mmodel\u001b[0m\u001b[0;34m(\u001b[0m\u001b[0;34m[\u001b[0m\u001b[0meeg\u001b[0m\u001b[0;34m,\u001b[0m \u001b[0mbold\u001b[0m\u001b[0;34m]\u001b[0m\u001b[0;34m)\u001b[0m\u001b[0;34m\u001b[0m\u001b[0;34m\u001b[0m\u001b[0m\n\u001b[0m\u001b[1;32m     93\u001b[0m \u001b[0;34m\u001b[0m\u001b[0m\n\u001b[1;32m     94\u001b[0m         \u001b[0;32mif\u001b[0m\u001b[0;34m(\u001b[0m\u001b[0mdcca\u001b[0m\u001b[0;34m)\u001b[0m\u001b[0;34m:\u001b[0m\u001b[0;34m\u001b[0m\u001b[0;34m\u001b[0m\u001b[0m\n",
      "\u001b[0;32m~/anaconda3/envs/fmri_eeg/lib/python3.6/site-packages/tensorflow/python/keras/engine/base_layer.py\u001b[0m in \u001b[0;36m__call__\u001b[0;34m(self, inputs, *args, **kwargs)\u001b[0m\n\u001b[1;32m    677\u001b[0m           with base_layer_utils.autocast_context_manager(\n\u001b[1;32m    678\u001b[0m               input_list, self._mixed_precision_policy.should_cast_variables):\n\u001b[0;32m--> 679\u001b[0;31m             \u001b[0moutputs\u001b[0m \u001b[0;34m=\u001b[0m \u001b[0mself\u001b[0m\u001b[0;34m.\u001b[0m\u001b[0mcall\u001b[0m\u001b[0;34m(\u001b[0m\u001b[0minputs\u001b[0m\u001b[0;34m,\u001b[0m \u001b[0;34m*\u001b[0m\u001b[0margs\u001b[0m\u001b[0;34m,\u001b[0m \u001b[0;34m**\u001b[0m\u001b[0mkwargs\u001b[0m\u001b[0;34m)\u001b[0m\u001b[0;34m\u001b[0m\u001b[0;34m\u001b[0m\u001b[0m\n\u001b[0m\u001b[1;32m    680\u001b[0m           \u001b[0mself\u001b[0m\u001b[0;34m.\u001b[0m\u001b[0m_handle_activity_regularization\u001b[0m\u001b[0;34m(\u001b[0m\u001b[0minputs\u001b[0m\u001b[0;34m,\u001b[0m \u001b[0moutputs\u001b[0m\u001b[0;34m)\u001b[0m\u001b[0;34m\u001b[0m\u001b[0;34m\u001b[0m\u001b[0m\n\u001b[1;32m    681\u001b[0m           \u001b[0mself\u001b[0m\u001b[0;34m.\u001b[0m\u001b[0m_set_mask_metadata\u001b[0m\u001b[0;34m(\u001b[0m\u001b[0minputs\u001b[0m\u001b[0;34m,\u001b[0m \u001b[0moutputs\u001b[0m\u001b[0;34m,\u001b[0m \u001b[0mprevious_mask\u001b[0m\u001b[0;34m)\u001b[0m\u001b[0;34m\u001b[0m\u001b[0;34m\u001b[0m\u001b[0m\n",
      "\u001b[0;32m~/anaconda3/envs/fmri_eeg/lib/python3.6/site-packages/tensorflow/python/keras/engine/network.py\u001b[0m in \u001b[0;36mcall\u001b[0;34m(self, inputs, training, mask)\u001b[0m\n\u001b[1;32m    749\u001b[0m                                 ' implement a `call` method.')\n\u001b[1;32m    750\u001b[0m \u001b[0;34m\u001b[0m\u001b[0m\n\u001b[0;32m--> 751\u001b[0;31m     \u001b[0;32mreturn\u001b[0m \u001b[0mself\u001b[0m\u001b[0;34m.\u001b[0m\u001b[0m_run_internal_graph\u001b[0m\u001b[0;34m(\u001b[0m\u001b[0minputs\u001b[0m\u001b[0;34m,\u001b[0m \u001b[0mtraining\u001b[0m\u001b[0;34m=\u001b[0m\u001b[0mtraining\u001b[0m\u001b[0;34m,\u001b[0m \u001b[0mmask\u001b[0m\u001b[0;34m=\u001b[0m\u001b[0mmask\u001b[0m\u001b[0;34m)\u001b[0m\u001b[0;34m\u001b[0m\u001b[0;34m\u001b[0m\u001b[0m\n\u001b[0m\u001b[1;32m    752\u001b[0m \u001b[0;34m\u001b[0m\u001b[0m\n\u001b[1;32m    753\u001b[0m   \u001b[0;32mdef\u001b[0m \u001b[0mcompute_output_shape\u001b[0m\u001b[0;34m(\u001b[0m\u001b[0mself\u001b[0m\u001b[0;34m,\u001b[0m \u001b[0minput_shape\u001b[0m\u001b[0;34m)\u001b[0m\u001b[0;34m:\u001b[0m\u001b[0;34m\u001b[0m\u001b[0;34m\u001b[0m\u001b[0m\n",
      "\u001b[0;32m~/anaconda3/envs/fmri_eeg/lib/python3.6/site-packages/tensorflow/python/keras/engine/network.py\u001b[0m in \u001b[0;36m_run_internal_graph\u001b[0;34m(self, inputs, training, mask)\u001b[0m\n\u001b[1;32m    891\u001b[0m \u001b[0;34m\u001b[0m\u001b[0m\n\u001b[1;32m    892\u001b[0m           \u001b[0;31m# Compute outputs.\u001b[0m\u001b[0;34m\u001b[0m\u001b[0;34m\u001b[0m\u001b[0;34m\u001b[0m\u001b[0m\n\u001b[0;32m--> 893\u001b[0;31m           \u001b[0moutput_tensors\u001b[0m \u001b[0;34m=\u001b[0m \u001b[0mlayer\u001b[0m\u001b[0;34m(\u001b[0m\u001b[0mcomputed_tensors\u001b[0m\u001b[0;34m,\u001b[0m \u001b[0;34m**\u001b[0m\u001b[0mkwargs\u001b[0m\u001b[0;34m)\u001b[0m\u001b[0;34m\u001b[0m\u001b[0;34m\u001b[0m\u001b[0m\n\u001b[0m\u001b[1;32m    894\u001b[0m \u001b[0;34m\u001b[0m\u001b[0m\n\u001b[1;32m    895\u001b[0m           \u001b[0;31m# Update tensor_dict.\u001b[0m\u001b[0;34m\u001b[0m\u001b[0;34m\u001b[0m\u001b[0;34m\u001b[0m\u001b[0m\n",
      "\u001b[0;32m~/anaconda3/envs/fmri_eeg/lib/python3.6/site-packages/tensorflow/python/keras/engine/base_layer.py\u001b[0m in \u001b[0;36m__call__\u001b[0;34m(self, inputs, *args, **kwargs)\u001b[0m\n\u001b[1;32m    677\u001b[0m           with base_layer_utils.autocast_context_manager(\n\u001b[1;32m    678\u001b[0m               input_list, self._mixed_precision_policy.should_cast_variables):\n\u001b[0;32m--> 679\u001b[0;31m             \u001b[0moutputs\u001b[0m \u001b[0;34m=\u001b[0m \u001b[0mself\u001b[0m\u001b[0;34m.\u001b[0m\u001b[0mcall\u001b[0m\u001b[0;34m(\u001b[0m\u001b[0minputs\u001b[0m\u001b[0;34m,\u001b[0m \u001b[0;34m*\u001b[0m\u001b[0margs\u001b[0m\u001b[0;34m,\u001b[0m \u001b[0;34m**\u001b[0m\u001b[0mkwargs\u001b[0m\u001b[0;34m)\u001b[0m\u001b[0;34m\u001b[0m\u001b[0;34m\u001b[0m\u001b[0m\n\u001b[0m\u001b[1;32m    680\u001b[0m           \u001b[0mself\u001b[0m\u001b[0;34m.\u001b[0m\u001b[0m_handle_activity_regularization\u001b[0m\u001b[0;34m(\u001b[0m\u001b[0minputs\u001b[0m\u001b[0;34m,\u001b[0m \u001b[0moutputs\u001b[0m\u001b[0;34m)\u001b[0m\u001b[0;34m\u001b[0m\u001b[0;34m\u001b[0m\u001b[0m\n\u001b[1;32m    681\u001b[0m           \u001b[0mself\u001b[0m\u001b[0;34m.\u001b[0m\u001b[0m_set_mask_metadata\u001b[0m\u001b[0;34m(\u001b[0m\u001b[0minputs\u001b[0m\u001b[0;34m,\u001b[0m \u001b[0moutputs\u001b[0m\u001b[0;34m,\u001b[0m \u001b[0mprevious_mask\u001b[0m\u001b[0;34m)\u001b[0m\u001b[0;34m\u001b[0m\u001b[0;34m\u001b[0m\u001b[0m\n",
      "\u001b[0;32m~/anaconda3/envs/fmri_eeg/lib/python3.6/site-packages/tensorflow/python/keras/layers/core.py\u001b[0m in \u001b[0;36mcall\u001b[0;34m(self, inputs, mask, training)\u001b[0m\n\u001b[1;32m    783\u001b[0m       \u001b[0marguments\u001b[0m\u001b[0;34m[\u001b[0m\u001b[0;34m'training'\u001b[0m\u001b[0;34m]\u001b[0m \u001b[0;34m=\u001b[0m \u001b[0mtraining\u001b[0m\u001b[0;34m\u001b[0m\u001b[0;34m\u001b[0m\u001b[0m\n\u001b[1;32m    784\u001b[0m     \u001b[0;32mwith\u001b[0m \u001b[0mvariable_scope\u001b[0m\u001b[0;34m.\u001b[0m\u001b[0mvariable_creator_scope\u001b[0m\u001b[0;34m(\u001b[0m\u001b[0mself\u001b[0m\u001b[0;34m.\u001b[0m\u001b[0m_variable_creator\u001b[0m\u001b[0;34m)\u001b[0m\u001b[0;34m:\u001b[0m\u001b[0;34m\u001b[0m\u001b[0;34m\u001b[0m\u001b[0m\n\u001b[0;32m--> 785\u001b[0;31m       \u001b[0;32mreturn\u001b[0m \u001b[0mself\u001b[0m\u001b[0;34m.\u001b[0m\u001b[0mfunction\u001b[0m\u001b[0;34m(\u001b[0m\u001b[0minputs\u001b[0m\u001b[0;34m,\u001b[0m \u001b[0;34m**\u001b[0m\u001b[0marguments\u001b[0m\u001b[0;34m)\u001b[0m\u001b[0;34m\u001b[0m\u001b[0;34m\u001b[0m\u001b[0m\n\u001b[0m\u001b[1;32m    786\u001b[0m \u001b[0;34m\u001b[0m\u001b[0m\n\u001b[1;32m    787\u001b[0m   \u001b[0;32mdef\u001b[0m \u001b[0m_variable_creator\u001b[0m\u001b[0;34m(\u001b[0m\u001b[0mself\u001b[0m\u001b[0;34m,\u001b[0m \u001b[0mnext_creator\u001b[0m\u001b[0;34m,\u001b[0m \u001b[0;34m**\u001b[0m\u001b[0mkwargs\u001b[0m\u001b[0;34m)\u001b[0m\u001b[0;34m:\u001b[0m\u001b[0;34m\u001b[0m\u001b[0;34m\u001b[0m\u001b[0m\n",
      "\u001b[0;32m~/eeg_to_fmri/src/utils/losses_utils.py\u001b[0m in \u001b[0;36mcorrelation_angle\u001b[0;34m(vects)\u001b[0m\n\u001b[1;32m     68\u001b[0m     \u001b[0my\u001b[0m \u001b[0;34m=\u001b[0m \u001b[0mK\u001b[0m\u001b[0;34m.\u001b[0m\u001b[0mbatch_flatten\u001b[0m\u001b[0;34m(\u001b[0m\u001b[0my\u001b[0m\u001b[0;34m)\u001b[0m\u001b[0;34m\u001b[0m\u001b[0;34m\u001b[0m\u001b[0m\n\u001b[1;32m     69\u001b[0m \u001b[0;34m\u001b[0m\u001b[0m\n\u001b[0;32m---> 70\u001b[0;31m     \u001b[0ma\u001b[0m \u001b[0;34m=\u001b[0m \u001b[0mK\u001b[0m\u001b[0;34m.\u001b[0m\u001b[0mbatch_dot\u001b[0m\u001b[0;34m(\u001b[0m\u001b[0mx\u001b[0m\u001b[0;34m,\u001b[0m \u001b[0my\u001b[0m\u001b[0;34m,\u001b[0m \u001b[0maxes\u001b[0m\u001b[0;34m=\u001b[0m\u001b[0;36m1\u001b[0m\u001b[0;34m)\u001b[0m\u001b[0;34m\u001b[0m\u001b[0;34m\u001b[0m\u001b[0m\n\u001b[0m\u001b[1;32m     71\u001b[0m \u001b[0;34m\u001b[0m\u001b[0m\n\u001b[1;32m     72\u001b[0m     \u001b[0mb\u001b[0m \u001b[0;34m=\u001b[0m \u001b[0mK\u001b[0m\u001b[0;34m.\u001b[0m\u001b[0mbatch_dot\u001b[0m\u001b[0;34m(\u001b[0m\u001b[0mx\u001b[0m\u001b[0;34m,\u001b[0m \u001b[0mx\u001b[0m\u001b[0;34m,\u001b[0m \u001b[0maxes\u001b[0m\u001b[0;34m=\u001b[0m\u001b[0;36m1\u001b[0m\u001b[0;34m)\u001b[0m\u001b[0;34m\u001b[0m\u001b[0;34m\u001b[0m\u001b[0m\n",
      "\u001b[0;32m~/anaconda3/envs/fmri_eeg/lib/python3.6/site-packages/tensorflow/python/keras/backend.py\u001b[0m in \u001b[0;36mbatch_dot\u001b[0;34m(x, y, axes)\u001b[0m\n\u001b[1;32m   1689\u001b[0m   \u001b[0;32mif\u001b[0m \u001b[0misinstance\u001b[0m\u001b[0;34m(\u001b[0m\u001b[0maxes\u001b[0m\u001b[0;34m,\u001b[0m \u001b[0mint\u001b[0m\u001b[0;34m)\u001b[0m\u001b[0;34m:\u001b[0m\u001b[0;34m\u001b[0m\u001b[0;34m\u001b[0m\u001b[0m\n\u001b[1;32m   1690\u001b[0m     \u001b[0maxes\u001b[0m \u001b[0;34m=\u001b[0m \u001b[0;34m(\u001b[0m\u001b[0maxes\u001b[0m\u001b[0;34m,\u001b[0m \u001b[0maxes\u001b[0m\u001b[0;34m)\u001b[0m\u001b[0;34m\u001b[0m\u001b[0;34m\u001b[0m\u001b[0m\n\u001b[0;32m-> 1691\u001b[0;31m   \u001b[0mx_ndim\u001b[0m \u001b[0;34m=\u001b[0m \u001b[0mndim\u001b[0m\u001b[0;34m(\u001b[0m\u001b[0mx\u001b[0m\u001b[0;34m)\u001b[0m\u001b[0;34m\u001b[0m\u001b[0;34m\u001b[0m\u001b[0m\n\u001b[0m\u001b[1;32m   1692\u001b[0m   \u001b[0my_ndim\u001b[0m \u001b[0;34m=\u001b[0m \u001b[0mndim\u001b[0m\u001b[0;34m(\u001b[0m\u001b[0my\u001b[0m\u001b[0;34m)\u001b[0m\u001b[0;34m\u001b[0m\u001b[0;34m\u001b[0m\u001b[0m\n\u001b[1;32m   1693\u001b[0m   \u001b[0;32mif\u001b[0m \u001b[0maxes\u001b[0m \u001b[0;32mis\u001b[0m \u001b[0;32mNone\u001b[0m\u001b[0;34m:\u001b[0m\u001b[0;34m\u001b[0m\u001b[0;34m\u001b[0m\u001b[0m\n",
      "\u001b[0;32m~/anaconda3/envs/fmri_eeg/lib/python3.6/site-packages/tensorflow/python/keras/backend.py\u001b[0m in \u001b[0;36mndim\u001b[0;34m(x)\u001b[0m\n\u001b[1;32m   1150\u001b[0m   \u001b[0;31m`\u001b[0m\u001b[0;31m`\u001b[0m\u001b[0;31m`\u001b[0m\u001b[0;34m\u001b[0m\u001b[0;34m\u001b[0m\u001b[0m\n\u001b[1;32m   1151\u001b[0m   \"\"\"\n\u001b[0;32m-> 1152\u001b[0;31m   \u001b[0mdims\u001b[0m \u001b[0;34m=\u001b[0m \u001b[0mx\u001b[0m\u001b[0;34m.\u001b[0m\u001b[0mshape\u001b[0m\u001b[0;34m.\u001b[0m\u001b[0m_dims\u001b[0m\u001b[0;34m\u001b[0m\u001b[0;34m\u001b[0m\u001b[0m\n\u001b[0m\u001b[1;32m   1153\u001b[0m   \u001b[0;32mif\u001b[0m \u001b[0mdims\u001b[0m \u001b[0;32mis\u001b[0m \u001b[0;32mnot\u001b[0m \u001b[0;32mNone\u001b[0m\u001b[0;34m:\u001b[0m\u001b[0;34m\u001b[0m\u001b[0;34m\u001b[0m\u001b[0m\n\u001b[1;32m   1154\u001b[0m     \u001b[0;32mreturn\u001b[0m \u001b[0mlen\u001b[0m\u001b[0;34m(\u001b[0m\u001b[0mdims\u001b[0m\u001b[0;34m)\u001b[0m\u001b[0;34m\u001b[0m\u001b[0;34m\u001b[0m\u001b[0m\n",
      "\u001b[0;32m~/anaconda3/envs/fmri_eeg/lib/python3.6/site-packages/tensorflow/python/framework/ops.py\u001b[0m in \u001b[0;36mshape\u001b[0;34m(self)\u001b[0m\n\u001b[1;32m    902\u001b[0m       \u001b[0;31m# `_tensor_shape` is declared and defined in the definition of\u001b[0m\u001b[0;34m\u001b[0m\u001b[0;34m\u001b[0m\u001b[0;34m\u001b[0m\u001b[0m\n\u001b[1;32m    903\u001b[0m       \u001b[0;31m# `EagerTensor`, in C.\u001b[0m\u001b[0;34m\u001b[0m\u001b[0;34m\u001b[0m\u001b[0;34m\u001b[0m\u001b[0m\n\u001b[0;32m--> 904\u001b[0;31m       \u001b[0mself\u001b[0m\u001b[0;34m.\u001b[0m\u001b[0m_tensor_shape\u001b[0m \u001b[0;34m=\u001b[0m \u001b[0mtensor_shape\u001b[0m\u001b[0;34m.\u001b[0m\u001b[0mTensorShape\u001b[0m\u001b[0;34m(\u001b[0m\u001b[0mself\u001b[0m\u001b[0;34m.\u001b[0m\u001b[0m_shape_tuple\u001b[0m\u001b[0;34m(\u001b[0m\u001b[0;34m)\u001b[0m\u001b[0;34m)\u001b[0m\u001b[0;34m\u001b[0m\u001b[0;34m\u001b[0m\u001b[0m\n\u001b[0m\u001b[1;32m    905\u001b[0m     \u001b[0;32mreturn\u001b[0m \u001b[0mself\u001b[0m\u001b[0;34m.\u001b[0m\u001b[0m_tensor_shape\u001b[0m\u001b[0;34m\u001b[0m\u001b[0;34m\u001b[0m\u001b[0m\n\u001b[1;32m    906\u001b[0m \u001b[0;34m\u001b[0m\u001b[0m\n",
      "\u001b[0;32m~/anaconda3/envs/fmri_eeg/lib/python3.6/site-packages/tensorflow/python/framework/tensor_shape.py\u001b[0m in \u001b[0;36m__init__\u001b[0;34m(self, dims)\u001b[0m\n\u001b[1;32m    772\u001b[0m       \u001b[0;32melse\u001b[0m\u001b[0;34m:\u001b[0m\u001b[0;34m\u001b[0m\u001b[0;34m\u001b[0m\u001b[0m\n\u001b[1;32m    773\u001b[0m         \u001b[0;31m# Got a list of dimensions\u001b[0m\u001b[0;34m\u001b[0m\u001b[0;34m\u001b[0m\u001b[0;34m\u001b[0m\u001b[0m\n\u001b[0;32m--> 774\u001b[0;31m         \u001b[0mself\u001b[0m\u001b[0;34m.\u001b[0m\u001b[0m_dims\u001b[0m \u001b[0;34m=\u001b[0m \u001b[0;34m[\u001b[0m\u001b[0mas_dimension\u001b[0m\u001b[0;34m(\u001b[0m\u001b[0md\u001b[0m\u001b[0;34m)\u001b[0m \u001b[0;32mfor\u001b[0m \u001b[0md\u001b[0m \u001b[0;32min\u001b[0m \u001b[0mdims_iter\u001b[0m\u001b[0;34m]\u001b[0m\u001b[0;34m\u001b[0m\u001b[0;34m\u001b[0m\u001b[0m\n\u001b[0m\u001b[1;32m    775\u001b[0m \u001b[0;34m\u001b[0m\u001b[0m\n\u001b[1;32m    776\u001b[0m   \u001b[0;34m@\u001b[0m\u001b[0mproperty\u001b[0m\u001b[0;34m\u001b[0m\u001b[0;34m\u001b[0m\u001b[0m\n",
      "\u001b[0;32m~/anaconda3/envs/fmri_eeg/lib/python3.6/site-packages/tensorflow/python/framework/tensor_shape.py\u001b[0m in \u001b[0;36m<listcomp>\u001b[0;34m(.0)\u001b[0m\n\u001b[1;32m    772\u001b[0m       \u001b[0;32melse\u001b[0m\u001b[0;34m:\u001b[0m\u001b[0;34m\u001b[0m\u001b[0;34m\u001b[0m\u001b[0m\n\u001b[1;32m    773\u001b[0m         \u001b[0;31m# Got a list of dimensions\u001b[0m\u001b[0;34m\u001b[0m\u001b[0;34m\u001b[0m\u001b[0;34m\u001b[0m\u001b[0m\n\u001b[0;32m--> 774\u001b[0;31m         \u001b[0mself\u001b[0m\u001b[0;34m.\u001b[0m\u001b[0m_dims\u001b[0m \u001b[0;34m=\u001b[0m \u001b[0;34m[\u001b[0m\u001b[0mas_dimension\u001b[0m\u001b[0;34m(\u001b[0m\u001b[0md\u001b[0m\u001b[0;34m)\u001b[0m \u001b[0;32mfor\u001b[0m \u001b[0md\u001b[0m \u001b[0;32min\u001b[0m \u001b[0mdims_iter\u001b[0m\u001b[0;34m]\u001b[0m\u001b[0;34m\u001b[0m\u001b[0;34m\u001b[0m\u001b[0m\n\u001b[0m\u001b[1;32m    775\u001b[0m \u001b[0;34m\u001b[0m\u001b[0m\n\u001b[1;32m    776\u001b[0m   \u001b[0;34m@\u001b[0m\u001b[0mproperty\u001b[0m\u001b[0;34m\u001b[0m\u001b[0;34m\u001b[0m\u001b[0m\n",
      "\u001b[0;32m~/anaconda3/envs/fmri_eeg/lib/python3.6/site-packages/tensorflow/python/framework/tensor_shape.py\u001b[0m in \u001b[0;36mas_dimension\u001b[0;34m(value)\u001b[0m\n\u001b[1;32m    711\u001b[0m     \u001b[0mA\u001b[0m \u001b[0mDimension\u001b[0m \u001b[0mcorresponding\u001b[0m \u001b[0mto\u001b[0m \u001b[0mthe\u001b[0m \u001b[0mgiven\u001b[0m \u001b[0mvalue\u001b[0m\u001b[0;34m.\u001b[0m\u001b[0;34m\u001b[0m\u001b[0;34m\u001b[0m\u001b[0m\n\u001b[1;32m    712\u001b[0m   \"\"\"\n\u001b[0;32m--> 713\u001b[0;31m   \u001b[0;32mif\u001b[0m \u001b[0misinstance\u001b[0m\u001b[0;34m(\u001b[0m\u001b[0mvalue\u001b[0m\u001b[0;34m,\u001b[0m \u001b[0mDimension\u001b[0m\u001b[0;34m)\u001b[0m\u001b[0;34m:\u001b[0m\u001b[0;34m\u001b[0m\u001b[0;34m\u001b[0m\u001b[0m\n\u001b[0m\u001b[1;32m    714\u001b[0m     \u001b[0;32mreturn\u001b[0m \u001b[0mvalue\u001b[0m\u001b[0;34m\u001b[0m\u001b[0;34m\u001b[0m\u001b[0m\n\u001b[1;32m    715\u001b[0m   \u001b[0;32melse\u001b[0m\u001b[0;34m:\u001b[0m\u001b[0;34m\u001b[0m\u001b[0;34m\u001b[0m\u001b[0m\n",
      "\u001b[0;31mKeyboardInterrupt\u001b[0m: "
     ]
    }
   ],
   "source": [
    "shared_eeg_val = eeg_network.predict(eeg_val)\n",
    "synthesized_bold_val = decoder_network.predict(shared_eeg_val)\n",
    "print(losses.get_reconstruction_loss(synthesized_bold_val, bold_val).numpy())\n",
    "\n",
    "shared_eeg_val = eeg_network.predict(X_val_eeg)\n",
    "synthesized_bold_val = decoder_network.predict(shared_eeg_val)\n",
    "print(losses.get_reconstruction_loss(synthesized_bold_val, X_val_bold).numpy())\n",
    "\n",
    "\n",
    "validation_loss = custom_training.linear_combination_training(X_train_eeg, \n",
    "                                                              X_train_bold, \n",
    "                                                              tr_y, \n",
    "                                                              eeg_network, \n",
    "                                                              decoder_network, \n",
    "                                                              multi_modal_model, \n",
    "                                                              epochs=40, \n",
    "                                                              encoder_optimizer=tf.keras.optimizers.Adam(learning_rate=0.001),\n",
    "                                                              decoder_optimizer=tf.keras.optimizers.Adam(learning_rate=0.001),\n",
    "                                                              batch_size=batch_size, \n",
    "                                                              linear_combination=loss_coefficient,\n",
    "                                                              X_val_eeg=X_val_eeg,\n",
    "                                                              X_val_bold=X_val_bold,\n",
    "                                                              tv_y=tv_y)\n",
    "\n",
    "shared_eeg_val = eeg_network.predict(eeg_val)\n",
    "synthesized_bold_val = decoder_network.predict(shared_eeg_val)\n",
    "print(losses.get_reconstruction_loss(synthesized_bold_val, bold_val).numpy())\n",
    "\n",
    "shared_eeg_val = eeg_network.predict(X_val_eeg)\n",
    "synthesized_bold_val = decoder_network.predict(shared_eeg_val)\n",
    "print(losses.get_reconstruction_loss(synthesized_bold_val, X_val_bold).numpy())"
   ]
  },
  {
   "cell_type": "markdown",
   "metadata": {},
   "source": [
    "### Try the same hyperparameters, but in an adversarial training process"
   ]
  },
  {
   "cell_type": "code",
   "execution_count": 26,
   "metadata": {},
   "outputs": [
    {
     "name": "stdout",
     "output_type": "stream",
     "text": [
      "GAN Encoder Loss:  0.20557834  || GAN Decoder Loss:  3.5414627  || GAN Validation Decoder Loss:  0.66799426  || Train Reconstruction Loss:  0.9287607  || Validation Reconstruction Loss:  0.6679944\n",
      "GAN Encoder Loss:  0.20431098  || GAN Decoder Loss:  3.5634954  || GAN Validation Decoder Loss:  0.6681267  || Train Reconstruction Loss:  0.9288657  || Validation Reconstruction Loss:  0.6681267\n",
      "GAN Encoder Loss:  0.20418923  || GAN Decoder Loss:  3.5414877  || GAN Validation Decoder Loss:  0.6682134  || Train Reconstruction Loss:  0.9289986  || Validation Reconstruction Loss:  0.66821337\n",
      "GAN Encoder Loss:  0.20543392  || GAN Decoder Loss:  3.4956493  || GAN Validation Decoder Loss:  0.6681678  || Train Reconstruction Loss:  0.92907417  || Validation Reconstruction Loss:  0.6681678\n",
      "GAN Encoder Loss:  0.22922523  || GAN Decoder Loss:  3.0275126  || GAN Validation Decoder Loss:  0.26961344  || Train Reconstruction Loss:  0.36641097  || Validation Reconstruction Loss:  0.26961344\n",
      "GAN Encoder Loss:  1.1115701  || GAN Decoder Loss:  0.12439601  || GAN Validation Decoder Loss:  0.20105499  || Train Reconstruction Loss:  0.2703728  || Validation Reconstruction Loss:  0.20105499\n",
      "GAN Encoder Loss:  1.3249725  || GAN Decoder Loss:  0.06665803  || GAN Validation Decoder Loss:  0.19052397  || Train Reconstruction Loss:  0.25581676  || Validation Reconstruction Loss:  0.19052397\n",
      "GAN Encoder Loss:  1.4059341  || GAN Decoder Loss:  0.05594075  || GAN Validation Decoder Loss:  0.18313128  || Train Reconstruction Loss:  0.24562119  || Validation Reconstruction Loss:  0.18313128\n",
      "GAN Encoder Loss:  1.4497341  || GAN Decoder Loss:  0.050946373  || GAN Validation Decoder Loss:  0.17692411  || Train Reconstruction Loss:  0.23705034  || Validation Reconstruction Loss:  0.17692411\n",
      "GAN Encoder Loss:  1.4773871  || GAN Decoder Loss:  0.048032023  || GAN Validation Decoder Loss:  0.17151771  || Train Reconstruction Loss:  0.22957352  || Validation Reconstruction Loss:  0.17151771\n",
      "GAN Encoder Loss:  1.4963702  || GAN Decoder Loss:  0.046124794  || GAN Validation Decoder Loss:  0.1667925  || Train Reconstruction Loss:  0.22302775  || Validation Reconstruction Loss:  0.1667925\n",
      "GAN Encoder Loss:  1.5101281  || GAN Decoder Loss:  0.044784296  || GAN Validation Decoder Loss:  0.1626814  || Train Reconstruction Loss:  0.21732181  || Validation Reconstruction Loss:  0.1626814\n",
      "GAN Encoder Loss:  1.5205014  || GAN Decoder Loss:  0.043794546  || GAN Validation Decoder Loss:  0.1591118  || Train Reconstruction Loss:  0.21235695  || Validation Reconstruction Loss:  0.1591118\n",
      "GAN Encoder Loss:  1.5285525  || GAN Decoder Loss:  0.04303765  || GAN Validation Decoder Loss:  0.1560035  || Train Reconstruction Loss:  0.20802464  || Validation Reconstruction Loss:  0.1560035\n",
      "GAN Encoder Loss:  1.5349444  || GAN Decoder Loss:  0.042443536  || GAN Validation Decoder Loss:  0.15327217  || Train Reconstruction Loss:  0.20421048  || Validation Reconstruction Loss:  0.15327217\n",
      "GAN Encoder Loss:  1.5401094  || GAN Decoder Loss:  0.04196812  || GAN Validation Decoder Loss:  0.1508435  || Train Reconstruction Loss:  0.20081384  || Validation Reconstruction Loss:  0.1508435\n",
      "GAN Encoder Loss:  1.5443416  || GAN Decoder Loss:  0.041581765  || GAN Validation Decoder Loss:  0.14865242  || Train Reconstruction Loss:  0.19774623  || Validation Reconstruction Loss:  0.14865243\n",
      "GAN Encoder Loss:  1.5478511  || GAN Decoder Loss:  0.041263744  || GAN Validation Decoder Loss:  0.14664671  || Train Reconstruction Loss:  0.19493653  || Validation Reconstruction Loss:  0.14664674\n",
      "GAN Encoder Loss:  1.5507945  || GAN Decoder Loss:  0.04099901  || GAN Validation Decoder Loss:  0.1447854  || Train Reconstruction Loss:  0.19232863  || Validation Reconstruction Loss:  0.1447854\n",
      "GAN Encoder Loss:  1.553284  || GAN Decoder Loss:  0.040776383  || GAN Validation Decoder Loss:  0.14303708  || Train Reconstruction Loss:  0.18987957  || Validation Reconstruction Loss:  0.14303707\n",
      "GAN Encoder Loss:  1.5554113  || GAN Decoder Loss:  0.040587258  || GAN Validation Decoder Loss:  0.14137703  || Train Reconstruction Loss:  0.18755533  || Validation Reconstruction Loss:  0.14137703\n",
      "GAN Encoder Loss:  1.5572455  || GAN Decoder Loss:  0.040425178  || GAN Validation Decoder Loss:  0.13978453  || Train Reconstruction Loss:  0.18532738  || Validation Reconstruction Loss:  0.13978453\n",
      "GAN Encoder Loss:  1.5588413  || GAN Decoder Loss:  0.040284883  || GAN Validation Decoder Loss:  0.13824439  || Train Reconstruction Loss:  0.18317463  || Validation Reconstruction Loss:  0.13824439\n",
      "GAN Encoder Loss:  1.5602412  || GAN Decoder Loss:  0.04016238  || GAN Validation Decoder Loss:  0.13674305  || Train Reconstruction Loss:  0.18107836  || Validation Reconstruction Loss:  0.13674307\n",
      "GAN Encoder Loss:  1.5614837  || GAN Decoder Loss:  0.040054284  || GAN Validation Decoder Loss:  0.1352708  || Train Reconstruction Loss:  0.17902502  || Validation Reconstruction Loss:  0.1352708\n",
      "GAN Encoder Loss:  1.5625954  || GAN Decoder Loss:  0.039958168  || GAN Validation Decoder Loss:  0.1338178  || Train Reconstruction Loss:  0.17700088  || Validation Reconstruction Loss:  0.13381779\n",
      "GAN Encoder Loss:  1.5636017  || GAN Decoder Loss:  0.03987168  || GAN Validation Decoder Loss:  0.1323773  || Train Reconstruction Loss:  0.17499657  || Validation Reconstruction Loss:  0.1323773\n",
      "GAN Encoder Loss:  1.5645206  || GAN Decoder Loss:  0.03979325  || GAN Validation Decoder Loss:  0.1309407  || Train Reconstruction Loss:  0.17300014  || Validation Reconstruction Loss:  0.1309407\n",
      "GAN Encoder Loss:  1.5653679  || GAN Decoder Loss:  0.039721236  || GAN Validation Decoder Loss:  0.12950242  || Train Reconstruction Loss:  0.17100377  || Validation Reconstruction Loss:  0.12950242\n",
      "GAN Encoder Loss:  1.5661584  || GAN Decoder Loss:  0.03965468  || GAN Validation Decoder Loss:  0.1280564  || Train Reconstruction Loss:  0.16899906  || Validation Reconstruction Loss:  0.1280564\n",
      "GAN Encoder Loss:  1.5669044  || GAN Decoder Loss:  0.03959234  || GAN Validation Decoder Loss:  0.12659562  || Train Reconstruction Loss:  0.1669762  || Validation Reconstruction Loss:  0.12659562\n",
      "GAN Encoder Loss:  1.5676146  || GAN Decoder Loss:  0.039533544  || GAN Validation Decoder Loss:  0.12511605  || Train Reconstruction Loss:  0.1649296  || Validation Reconstruction Loss:  0.12511605\n",
      "GAN Encoder Loss:  1.5682973  || GAN Decoder Loss:  0.039477542  || GAN Validation Decoder Loss:  0.12361094  || Train Reconstruction Loss:  0.16284992  || Validation Reconstruction Loss:  0.12361094\n",
      "GAN Encoder Loss:  1.5689579  || GAN Decoder Loss:  0.039423767  || GAN Validation Decoder Loss:  0.12207495  || Train Reconstruction Loss:  0.16072969  || Validation Reconstruction Loss:  0.12207495\n",
      "GAN Encoder Loss:  1.5696039  || GAN Decoder Loss:  0.039371695  || GAN Validation Decoder Loss:  0.12050317  || Train Reconstruction Loss:  0.1585622  || Validation Reconstruction Loss:  0.120503165\n",
      "GAN Encoder Loss:  1.570239  || GAN Decoder Loss:  0.039320998  || GAN Validation Decoder Loss:  0.118890144  || Train Reconstruction Loss:  0.15633972  || Validation Reconstruction Loss:  0.11889014\n",
      "GAN Encoder Loss:  1.5708635  || GAN Decoder Loss:  0.039271507  || GAN Validation Decoder Loss:  0.117233306  || Train Reconstruction Loss:  0.15405883  || Validation Reconstruction Loss:  0.117233306\n",
      "GAN Encoder Loss:  1.5714799  || GAN Decoder Loss:  0.039223015  || GAN Validation Decoder Loss:  0.115527935  || Train Reconstruction Loss:  0.15171286  || Validation Reconstruction Loss:  0.11552794\n",
      "GAN Encoder Loss:  1.5720898  || GAN Decoder Loss:  0.039175387  || GAN Validation Decoder Loss:  0.11377364  || Train Reconstruction Loss:  0.14930125  || Validation Reconstruction Loss:  0.11377364\n",
      "GAN Encoder Loss:  1.5726897  || GAN Decoder Loss:  0.039128684  || GAN Validation Decoder Loss:  0.11197036  || Train Reconstruction Loss:  0.14682385  || Validation Reconstruction Loss:  0.11197036\n"
     ]
    }
   ],
   "source": [
    "eeg_network, bold_network, decoder_network = get_models_and_shapes()\n",
    "multi_modal_model = custom_training.multi_modal_network(eeg_input_shape, bold_input_shape, eeg_network, bold_network, dcca=False, corr_distance=True)\n",
    "\n",
    "validation_loss = custom_training.adversarial_training(X_train_eeg, \n",
    "                                                       X_train_bold, \n",
    "                                                       tr_y, \n",
    "                                                       eeg_network, decoder_network, multi_modal_model, \n",
    "                                                       epochs=40, \n",
    "                                                       discriminator_optimizer=tf.keras.optimizers.Adam(learning_rate=0.001), \n",
    "                                                       generator_optimizer=tf.keras.optimizers.Adam(learning_rate=0.001), \n",
    "                                                       batch_size=batch_size, \n",
    "                                                       linear_combination=loss_coefficient, \n",
    "                                                       X_val_eeg=X_val_eeg, \n",
    "                                                       X_val_bold=X_val_bold, \n",
    "                                                       tv_y=tv_y)"
   ]
  },
  {
   "cell_type": "code",
   "execution_count": 27,
   "metadata": {},
   "outputs": [],
   "source": [
    "shared_eeg_val = eeg_network.predict(eeg_val)\n",
    "synthesized_bold_val = decoder_network.predict(shared_eeg_val)"
   ]
  },
  {
   "cell_type": "markdown",
   "metadata": {},
   "source": [
    "### Compute Reconstruction Metrics"
   ]
  },
  {
   "cell_type": "code",
   "execution_count": 28,
   "metadata": {},
   "outputs": [],
   "source": [
    "total_reconstruction_loss = losses.get_reconstruction_loss(synthesized_bold_val, bold_val).numpy()"
   ]
  },
  {
   "cell_type": "code",
   "execution_count": 29,
   "metadata": {},
   "outputs": [],
   "source": [
    "reconstruction_loss = np.zeros((synthesized_bold_val.shape[0], 1))\n",
    "\n",
    "for instance in range(len(reconstruction_loss)):\n",
    "    instance_synth = synthesized_bold_val[instance]\n",
    "    instance_bold = bold_val[instance]\n",
    "    \n",
    "    instance_synth = instance_synth.reshape((1, instance_synth.shape[0], instance_synth.shape[1], instance_synth.shape[2]))\n",
    "    instance_bold = instance_bold.reshape((1, instance_bold.shape[0], instance_bold.shape[1], instance_bold.shape[2]))\n",
    "    \n",
    "    reconstruction_loss[instance] = losses.get_reconstruction_loss(instance_synth, instance_bold).numpy()"
   ]
  },
  {
   "cell_type": "code",
   "execution_count": 30,
   "metadata": {},
   "outputs": [
    {
     "data": {
      "text/plain": [
       "[<matplotlib.lines.Line2D at 0x7f14cc08b630>]"
      ]
     },
     "execution_count": 30,
     "metadata": {},
     "output_type": "execute_result"
    },
    {
     "data": {
      "image/png": "[encoded data removed]",
      "text/plain": [
       "<Figure size 432x288 with 1 Axes>"
      ]
     },
     "metadata": {
      "needs_background": "light"
     },
     "output_type": "display_data"
    }
   ],
   "source": [
    "plt.plot(reconstruction_loss)"
   ]
  },
  {
   "cell_type": "markdown",
   "metadata": {},
   "source": [
    "### Test Results"
   ]
  },
  {
   "cell_type": "code",
   "execution_count": 13,
   "metadata": {
    "scrolled": true
   },
   "outputs": [
    {
     "name": "stdout",
     "output_type": "stream",
     "text": [
      "Extracting parameters from /home/davidcalhas/eeg_to_fmri/datasets/01/EEG/47/export/20130710470002_Pulse_Artifact_Correction_bin.vhdr...\n",
      "Setting channel info structure...\n",
      "Reading 0 ... 182594  =      0.000 ...   730.376 secs...\n",
      "(16, 2607, 19)\n",
      "Extracting parameters from /home/davidcalhas/eeg_to_fmri/datasets/01/EEG/48/export/20130717480002_Pulse_Artifact_Correction_bin.vhdr...\n",
      "Setting channel info structure...\n",
      "Reading 0 ... 171739  =      0.000 ...   686.956 secs...\n",
      "(32, 2607, 19)\n",
      "Extracting parameters from /home/davidcalhas/eeg_to_fmri/datasets/01/EEG/49/export/20130918490002_Pulse_Artifact_Correction_bin.vhdr...\n",
      "Setting channel info structure...\n",
      "Reading 0 ... 167579  =      0.000 ...   670.316 secs...\n",
      "(48, 2607, 19)\n",
      "Extracting parameters from /home/davidcalhas/eeg_to_fmri/datasets/01/EEG/50/export/20131003_500002_Pulse_Artifact_Correction_bin.vhdr...\n",
      "Setting channel info structure...\n",
      "Reading 0 ... 168019  =      0.000 ...   672.076 secs...\n",
      "(64, 2607, 19)\n"
     ]
    }
   ],
   "source": [
    "_, _, eeg_test, bold_test = data_utils.load_data(list(range(0)), list(range(12, 16)), bold_shift=bold_shift, roi=1, roi_ica_components=20)\n",
    "\n",
    "eeg_test = eeg_test.astype('float32')\n",
    "bold_test = bold_test.astype('float32')"
   ]
  },
  {
   "cell_type": "code",
   "execution_count": 31,
   "metadata": {},
   "outputs": [],
   "source": [
    "shared_eeg_test = eeg_network.predict(eeg_test)\n",
    "synthesized_bold_test = decoder_network.predict(shared_eeg_test)\n",
    "\n",
    "total_reconstruction_loss = losses.get_reconstruction_loss(synthesized_bold_test, bold_test).numpy()"
   ]
  },
  {
   "cell_type": "code",
   "execution_count": 32,
   "metadata": {},
   "outputs": [],
   "source": [
    "reconstruction_loss = np.zeros((synthesized_bold_test.shape[0], 1))\n",
    "\n",
    "for instance in range(len(reconstruction_loss)):\n",
    "    instance_synth = synthesized_bold_test[instance]\n",
    "    instance_bold = bold_test[instance]\n",
    "    \n",
    "    instance_synth = instance_synth.reshape((1, instance_synth.shape[0], instance_synth.shape[1], instance_synth.shape[2]))\n",
    "    instance_bold = instance_bold.reshape((1, instance_bold.shape[0], instance_bold.shape[1], instance_bold.shape[2]))\n",
    "    \n",
    "    reconstruction_loss[instance] = losses.get_reconstruction_loss(instance_synth, instance_bold).numpy()"
   ]
  },
  {
   "cell_type": "code",
   "execution_count": 33,
   "metadata": {},
   "outputs": [
    {
     "data": {
      "text/plain": [
       "[<matplotlib.lines.Line2D at 0x7f14cc0509b0>]"
      ]
     },
     "execution_count": 33,
     "metadata": {},
     "output_type": "execute_result"
    },
    {
     "data": {
      "image/png": "[encoded data removed]",
      "text/plain": [
       "<Figure size 432x288 with 1 Axes>"
      ]
     },
     "metadata": {
      "needs_background": "light"
     },
     "output_type": "display_data"
    }
   ],
   "source": [
    "plt.plot(reconstruction_loss)"
   ]
  },
  {
   "cell_type": "code",
   "execution_count": 34,
   "metadata": {},
   "outputs": [
    {
     "name": "stdout",
     "output_type": "stream",
     "text": [
      "0.09483263\n"
     ]
    }
   ],
   "source": [
    "print(total_reconstruction_loss)"
   ]
  },
  {
   "cell_type": "code",
   "execution_count": 35,
   "metadata": {},
   "outputs": [],
   "source": [
    "shared_eeg_train = eeg_network.predict(eeg_train)\n",
    "synthesized_bold_train = decoder_network.predict(shared_eeg_train)\n",
    "\n",
    "total_reconstruction_loss = losses.get_reconstruction_loss(synthesized_bold_train, bold_train).numpy()"
   ]
  },
  {
   "cell_type": "code",
   "execution_count": 36,
   "metadata": {},
   "outputs": [],
   "source": [
    "reconstruction_loss = np.zeros((synthesized_bold_train.shape[0], 1))\n",
    "\n",
    "for instance in range(len(reconstruction_loss)):\n",
    "    instance_synth = synthesized_bold_train[instance]\n",
    "    instance_bold = bold_train[instance]\n",
    "    \n",
    "    instance_synth = instance_synth.reshape((1, instance_synth.shape[0], instance_synth.shape[1], instance_synth.shape[2]))\n",
    "    instance_bold = instance_bold.reshape((1, instance_bold.shape[0], instance_bold.shape[1], instance_bold.shape[2]))\n",
    "    \n",
    "    reconstruction_loss[instance] = losses.get_reconstruction_loss(instance_synth, instance_bold).numpy()"
   ]
  },
  {
   "cell_type": "code",
   "execution_count": 37,
   "metadata": {},
   "outputs": [
    {
     "data": {
      "text/plain": [
       "[<matplotlib.lines.Line2D at 0x7f14c077d2e8>]"
      ]
     },
     "execution_count": 37,
     "metadata": {},
     "output_type": "execute_result"
    },
    {
     "data": {
      "image/png": "[encoded data removed]",
      "text/plain": [
       "<Figure size 432x288 with 1 Axes>"
      ]
     },
     "metadata": {
      "needs_background": "light"
     },
     "output_type": "display_data"
    }
   ],
   "source": [
    "plt.plot(reconstruction_loss)"
   ]
  },
  {
   "cell_type": "code",
   "execution_count": 21,
   "metadata": {},
   "outputs": [
    {
     "name": "stdout",
     "output_type": "stream",
     "text": [
      "0.016617995\n"
     ]
    }
   ],
   "source": [
    "print(total_reconstruction_loss)"
   ]
  },
  {
   "cell_type": "code",
   "execution_count": null,
   "metadata": {},
   "outputs": [],
   "source": []
  }
 ],
 "metadata": {
  "kernelspec": {
   "display_name": "Python 3",
   "language": "python",
   "name": "python3"
  },
  "language_info": {
   "codemirror_mode": {
    "name": "ipython",
    "version": 3
   },
   "file_extension": ".py",
   "mimetype": "text/x-python",
   "name": "python",
   "nbconvert_exporter": "python",
   "pygments_lexer": "ipython3",
   "version": "3.6.9"
  }
 },
 "nbformat": 4,
 "nbformat_minor": 2
}
