{
 "cells": [
  {
   "cell_type": "markdown",
   "metadata": {},
   "source": [
    "# Decoder model"
   ]
  },
  {
   "cell_type": "markdown",
   "metadata": {},
   "source": [
    "## This model decodes EEG embeddings from another network to fMRI signal. This other network learns a space shared between EEG and fMRI."
   ]
  },
  {
   "cell_type": "code",
   "execution_count": 34,
   "metadata": {},
   "outputs": [],
   "source": [
    "import sys\n",
    "sys.path.append(\"..\")\n",
    "\n",
    "import eeg_utils\n",
    "import fmri_utils\n",
    "import deep_cross_corr\n",
    "\n",
    "import numpy as np\n",
    "from numpy import correlate\n",
    "\n",
    "import matplotlib.pyplot as plt\n",
    "\n",
    "import mne\n",
    "from nilearn.masking import apply_mask, compute_epi_mask\n",
    "\n",
    "from sklearn.preprocessing import normalize\n",
    "\n",
    "from scipy.signal import resample\n",
    "\n",
    "import keras\n",
    "\n",
    "from keras.initializers import Zeros\n",
    "from keras import regularizers\n",
    "from keras.models import Sequential, Model\n",
    "from keras.layers import Conv2D, Conv3D, Conv2DTranspose, ZeroPadding2D, Reshape, Flatten, BatchNormalization, LSTM, TimeDistributed, Dense, Lambda, Input, MaxPooling2D, MaxPooling3D \n",
    "from keras.optimizers import Adam\n",
    "from keras.losses import mae\n",
    "from keras.models import model_from_json\n",
    "\n",
    "import tensorflow.compat.v1 as tf\n",
    "\n",
    "import keras.backend as K\n",
    "\n",
    "import sys"
   ]
  },
  {
   "cell_type": "markdown",
   "metadata": {},
   "source": [
    "### Load data"
   ]
  },
  {
   "cell_type": "code",
   "execution_count": 3,
   "metadata": {
    "scrolled": true
   },
   "outputs": [
    {
     "name": "stderr",
     "output_type": "stream",
     "text": [
      "/home/davidcalhas/anaconda3/envs/fmri_eeg/lib/python3.6/site-packages/nilearn/image/resampling.py:510: UserWarning: Casting data from int16 to float32\n",
      "  warnings.warn(\"Casting data from %s to %s\" % (data.dtype.name, aux))\n",
      "/home/davidcalhas/anaconda3/envs/fmri_eeg/lib/python3.6/site-packages/nilearn/image/resampling.py:510: UserWarning: Casting data from int16 to float32\n",
      "  warnings.warn(\"Casting data from %s to %s\" % (data.dtype.name, aux))\n",
      "/home/davidcalhas/anaconda3/envs/fmri_eeg/lib/python3.6/site-packages/nilearn/image/resampling.py:510: UserWarning: Casting data from int16 to float32\n",
      "  warnings.warn(\"Casting data from %s to %s\" % (data.dtype.name, aux))\n",
      "/home/davidcalhas/anaconda3/envs/fmri_eeg/lib/python3.6/site-packages/nilearn/image/resampling.py:510: UserWarning: Casting data from int16 to float32\n",
      "  warnings.warn(\"Casting data from %s to %s\" % (data.dtype.name, aux))\n",
      "/home/davidcalhas/anaconda3/envs/fmri_eeg/lib/python3.6/site-packages/nilearn/image/resampling.py:510: UserWarning: Casting data from int16 to float32\n",
      "  warnings.warn(\"Casting data from %s to %s\" % (data.dtype.name, aux))\n",
      "/home/davidcalhas/anaconda3/envs/fmri_eeg/lib/python3.6/site-packages/nilearn/image/resampling.py:510: UserWarning: Casting data from int16 to float32\n",
      "  warnings.warn(\"Casting data from %s to %s\" % (data.dtype.name, aux))\n"
     ]
    },
    {
     "name": "stdout",
     "output_type": "stream",
     "text": [
      "Extracting parameters from /home/davidcalhas/eeg_to_fmri/datasets/01/EEG/32/export/20130410320002_Segmentation_bin.vhdr...\n",
      "Setting channel info structure...\n",
      "Reading 0 ... 162022  =      0.000 ...   648.088 secs...\n"
     ]
    },
    {
     "name": "stderr",
     "output_type": "stream",
     "text": [
      "../eeg_utils.py:35: RuntimeWarning: No coordinate information found for channels ['ECG']. Setting channel types to misc. To avoid this warning, set channel types explicitly.\n",
      "  return mne.io.read_raw_brainvision(complete_path, preload=True)\n"
     ]
    },
    {
     "name": "stdout",
     "output_type": "stream",
     "text": [
      "(16, 14164, 20)\n",
      "Extracting parameters from /home/davidcalhas/eeg_to_fmri/datasets/01/EEG/35/export/20130424350002_Pulse_Artifact_Correction_bin.vhdr...\n",
      "Setting channel info structure...\n",
      "Reading 0 ... 197234  =      0.000 ...   788.936 secs...\n"
     ]
    },
    {
     "name": "stderr",
     "output_type": "stream",
     "text": [
      "../eeg_utils.py:35: RuntimeWarning: No coordinate information found for channels ['ECG']. Setting channel types to misc. To avoid this warning, set channel types explicitly.\n",
      "  return mne.io.read_raw_brainvision(complete_path, preload=True)\n"
     ]
    },
    {
     "name": "stdout",
     "output_type": "stream",
     "text": [
      "(32, 14164, 20)\n",
      "Extracting parameters from /home/davidcalhas/eeg_to_fmri/datasets/01/EEG/36/export/20130425360002_Pulse_Artifact_Correction_bin.vhdr...\n",
      "Setting channel info structure...\n",
      "Reading 0 ... 181949  =      0.000 ...   727.796 secs...\n"
     ]
    },
    {
     "name": "stderr",
     "output_type": "stream",
     "text": [
      "../eeg_utils.py:35: RuntimeWarning: No coordinate information found for channels ['ECG']. Setting channel types to misc. To avoid this warning, set channel types explicitly.\n",
      "  return mne.io.read_raw_brainvision(complete_path, preload=True)\n"
     ]
    },
    {
     "name": "stdout",
     "output_type": "stream",
     "text": [
      "(48, 14164, 20)\n",
      "Extracting parameters from /home/davidcalhas/eeg_to_fmri/datasets/01/EEG/37/export/20130426370002_Pulse_Artifact_Correction_bin.vhdr...\n",
      "Setting channel info structure...\n",
      "Reading 0 ... 195159  =      0.000 ...   780.636 secs...\n"
     ]
    },
    {
     "name": "stderr",
     "output_type": "stream",
     "text": [
      "../eeg_utils.py:35: RuntimeWarning: No coordinate information found for channels ['ECG']. Setting channel types to misc. To avoid this warning, set channel types explicitly.\n",
      "  return mne.io.read_raw_brainvision(complete_path, preload=True)\n"
     ]
    },
    {
     "name": "stdout",
     "output_type": "stream",
     "text": [
      "(64, 14164, 20)\n",
      "Extracting parameters from /home/davidcalhas/eeg_to_fmri/datasets/01/EEG/38/export/20130105380002_Pulse_Artifact_Correction_bin.vhdr...\n",
      "Setting channel info structure...\n",
      "Reading 0 ... 179384  =      0.000 ...   717.536 secs...\n"
     ]
    },
    {
     "name": "stderr",
     "output_type": "stream",
     "text": [
      "../eeg_utils.py:35: RuntimeWarning: No coordinate information found for channels ['ECG']. Setting channel types to misc. To avoid this warning, set channel types explicitly.\n",
      "  return mne.io.read_raw_brainvision(complete_path, preload=True)\n"
     ]
    },
    {
     "name": "stdout",
     "output_type": "stream",
     "text": [
      "(80, 14164, 20)\n",
      "Extracting parameters from /home/davidcalhas/eeg_to_fmri/datasets/01/EEG/39/export/20130501390002_Pulse_Artifact_Correction_bin.vhdr...\n",
      "Setting channel info structure...\n",
      "Reading 0 ... 182129  =      0.000 ...   728.516 secs...\n"
     ]
    },
    {
     "name": "stderr",
     "output_type": "stream",
     "text": [
      "../eeg_utils.py:35: RuntimeWarning: No coordinate information found for channels ['ECG']. Setting channel types to misc. To avoid this warning, set channel types explicitly.\n",
      "  return mne.io.read_raw_brainvision(complete_path, preload=True)\n"
     ]
    },
    {
     "name": "stdout",
     "output_type": "stream",
     "text": [
      "(96, 14164, 20)\n",
      "Extracting parameters from /home/davidcalhas/eeg_to_fmri/datasets/01/EEG/40/export/20130510400002_Pulse_Artifact_Correction_bin.vhdr...\n",
      "Setting channel info structure...\n",
      "Reading 0 ... 173914  =      0.000 ...   695.656 secs...\n"
     ]
    },
    {
     "name": "stderr",
     "output_type": "stream",
     "text": [
      "../eeg_utils.py:35: RuntimeWarning: No coordinate information found for channels ['ECG']. Setting channel types to misc. To avoid this warning, set channel types explicitly.\n",
      "  return mne.io.read_raw_brainvision(complete_path, preload=True)\n"
     ]
    },
    {
     "name": "stdout",
     "output_type": "stream",
     "text": [
      "(112, 14164, 20)\n",
      "Extracting parameters from /home/davidcalhas/eeg_to_fmri/datasets/01/EEG/42/export/20130523420002_Pulse_Artifact_Correction_bin.vhdr...\n",
      "Setting channel info structure...\n",
      "Reading 0 ... 184909  =      0.000 ...   739.636 secs...\n"
     ]
    },
    {
     "name": "stderr",
     "output_type": "stream",
     "text": [
      "../eeg_utils.py:35: RuntimeWarning: No coordinate information found for channels ['ECG']. Setting channel types to misc. To avoid this warning, set channel types explicitly.\n",
      "  return mne.io.read_raw_brainvision(complete_path, preload=True)\n"
     ]
    },
    {
     "name": "stdout",
     "output_type": "stream",
     "text": [
      "(128, 14164, 20)\n",
      "Extracting parameters from /home/davidcalhas/eeg_to_fmri/datasets/01/EEG/43/export/20130529430002_Pulse_Artifact_Correction_bin.vhdr...\n",
      "Setting channel info structure...\n",
      "Reading 0 ... 170594  =      0.000 ...   682.376 secs...\n"
     ]
    },
    {
     "name": "stderr",
     "output_type": "stream",
     "text": [
      "../eeg_utils.py:35: RuntimeWarning: No coordinate information found for channels ['ECG']. Setting channel types to misc. To avoid this warning, set channel types explicitly.\n",
      "  return mne.io.read_raw_brainvision(complete_path, preload=True)\n"
     ]
    },
    {
     "name": "stdout",
     "output_type": "stream",
     "text": [
      "(144, 14164, 20)\n",
      "Extracting parameters from /home/davidcalhas/eeg_to_fmri/datasets/01/EEG/44/export/20130605440002_Pulse_Artifact_Correction_bin.vhdr...\n",
      "Setting channel info structure...\n",
      "Reading 0 ... 169854  =      0.000 ...   679.416 secs...\n"
     ]
    },
    {
     "name": "stderr",
     "output_type": "stream",
     "text": [
      "../eeg_utils.py:35: RuntimeWarning: No coordinate information found for channels ['ECG']. Setting channel types to misc. To avoid this warning, set channel types explicitly.\n",
      "  return mne.io.read_raw_brainvision(complete_path, preload=True)\n"
     ]
    },
    {
     "name": "stdout",
     "output_type": "stream",
     "text": [
      "(160, 14164, 20)\n",
      "Extracting parameters from /home/davidcalhas/eeg_to_fmri/datasets/01/EEG/45/export/20130627450002_Pulse_Artifact_Correction_bin.vhdr...\n",
      "Setting channel info structure...\n",
      "Reading 0 ... 168099  =      0.000 ...   672.396 secs...\n"
     ]
    },
    {
     "name": "stderr",
     "output_type": "stream",
     "text": [
      "../eeg_utils.py:35: RuntimeWarning: No coordinate information found for channels ['ECG']. Setting channel types to misc. To avoid this warning, set channel types explicitly.\n",
      "  return mne.io.read_raw_brainvision(complete_path, preload=True)\n",
      "/home/davidcalhas/anaconda3/envs/fmri_eeg/lib/python3.6/site-packages/nilearn/image/resampling.py:510: UserWarning: Casting data from int16 to float32\n",
      "  warnings.warn(\"Casting data from %s to %s\" % (data.dtype.name, aux))\n"
     ]
    },
    {
     "name": "stdout",
     "output_type": "stream",
     "text": [
      "(176, 14164, 20)\n",
      "Extracting parameters from /home/davidcalhas/eeg_to_fmri/datasets/01/EEG/46/export/20130703460002_Pulse_Artifact_Correction_bin.vhdr...\n",
      "Setting channel info structure...\n",
      "Reading 0 ... 172264  =      0.000 ...   689.056 secs...\n"
     ]
    },
    {
     "name": "stderr",
     "output_type": "stream",
     "text": [
      "../eeg_utils.py:35: RuntimeWarning: No coordinate information found for channels ['ECG']. Setting channel types to misc. To avoid this warning, set channel types explicitly.\n",
      "  return mne.io.read_raw_brainvision(complete_path, preload=True)\n",
      "/home/davidcalhas/anaconda3/envs/fmri_eeg/lib/python3.6/site-packages/nilearn/image/resampling.py:510: UserWarning: Casting data from int16 to float32\n",
      "  warnings.warn(\"Casting data from %s to %s\" % (data.dtype.name, aux))\n"
     ]
    },
    {
     "name": "stdout",
     "output_type": "stream",
     "text": [
      "(192, 14164, 20)\n",
      "Extracting parameters from /home/davidcalhas/eeg_to_fmri/datasets/01/EEG/47/export/20130710470002_Pulse_Artifact_Correction_bin.vhdr...\n",
      "Setting channel info structure...\n",
      "Reading 0 ... 182594  =      0.000 ...   730.376 secs...\n"
     ]
    },
    {
     "name": "stderr",
     "output_type": "stream",
     "text": [
      "../eeg_utils.py:35: RuntimeWarning: No coordinate information found for channels ['ECG']. Setting channel types to misc. To avoid this warning, set channel types explicitly.\n",
      "  return mne.io.read_raw_brainvision(complete_path, preload=True)\n",
      "/home/davidcalhas/anaconda3/envs/fmri_eeg/lib/python3.6/site-packages/nilearn/image/resampling.py:510: UserWarning: Casting data from int16 to float32\n",
      "  warnings.warn(\"Casting data from %s to %s\" % (data.dtype.name, aux))\n"
     ]
    },
    {
     "name": "stdout",
     "output_type": "stream",
     "text": [
      "(208, 14164, 20)\n",
      "Extracting parameters from /home/davidcalhas/eeg_to_fmri/datasets/01/EEG/48/export/20130717480002_Pulse_Artifact_Correction_bin.vhdr...\n",
      "Setting channel info structure...\n",
      "Reading 0 ... 171739  =      0.000 ...   686.956 secs...\n"
     ]
    },
    {
     "name": "stderr",
     "output_type": "stream",
     "text": [
      "../eeg_utils.py:35: RuntimeWarning: No coordinate information found for channels ['ECG']. Setting channel types to misc. To avoid this warning, set channel types explicitly.\n",
      "  return mne.io.read_raw_brainvision(complete_path, preload=True)\n",
      "/home/davidcalhas/anaconda3/envs/fmri_eeg/lib/python3.6/site-packages/nilearn/image/resampling.py:510: UserWarning: Casting data from int16 to float32\n",
      "  warnings.warn(\"Casting data from %s to %s\" % (data.dtype.name, aux))\n"
     ]
    },
    {
     "name": "stdout",
     "output_type": "stream",
     "text": [
      "(224, 14164, 20)\n",
      "Extracting parameters from /home/davidcalhas/eeg_to_fmri/datasets/01/EEG/49/export/20130918490002_Pulse_Artifact_Correction_bin.vhdr...\n",
      "Setting channel info structure...\n",
      "Reading 0 ... 167579  =      0.000 ...   670.316 secs...\n"
     ]
    },
    {
     "name": "stderr",
     "output_type": "stream",
     "text": [
      "../eeg_utils.py:35: RuntimeWarning: No coordinate information found for channels ['ECG']. Setting channel types to misc. To avoid this warning, set channel types explicitly.\n",
      "  return mne.io.read_raw_brainvision(complete_path, preload=True)\n",
      "/home/davidcalhas/anaconda3/envs/fmri_eeg/lib/python3.6/site-packages/nilearn/image/resampling.py:510: UserWarning: Casting data from int16 to float32\n",
      "  warnings.warn(\"Casting data from %s to %s\" % (data.dtype.name, aux))\n"
     ]
    },
    {
     "name": "stdout",
     "output_type": "stream",
     "text": [
      "(16, 14164, 20)\n",
      "Extracting parameters from /home/davidcalhas/eeg_to_fmri/datasets/01/EEG/50/export/20131003_500002_Pulse_Artifact_Correction_bin.vhdr...\n",
      "Setting channel info structure...\n",
      "Reading 0 ... 168019  =      0.000 ...   672.076 secs...\n"
     ]
    },
    {
     "name": "stderr",
     "output_type": "stream",
     "text": [
      "../eeg_utils.py:35: RuntimeWarning: No coordinate information found for channels ['ECG', 'O9', 'O10']. Setting channel types to misc. To avoid this warning, set channel types explicitly.\n",
      "  return mne.io.read_raw_brainvision(complete_path, preload=True)\n",
      "/home/davidcalhas/anaconda3/envs/fmri_eeg/lib/python3.6/site-packages/nilearn/image/resampling.py:510: UserWarning: Casting data from int16 to float32\n",
      "  warnings.warn(\"Casting data from %s to %s\" % (data.dtype.name, aux))\n"
     ]
    },
    {
     "name": "stdout",
     "output_type": "stream",
     "text": [
      "(32, 14164, 20)\n"
     ]
    }
   ],
   "source": [
    "mask = fmri_utils.get_population_mask()\n",
    "\n",
    "#reading data and spliting data into train and test by individuals\n",
    "eeg_train, bold_train = deep_cross_corr.get_data(list(range(14)), masker=mask)\n",
    "eeg_test, bold_test = deep_cross_corr.get_data(list(range(14, 16)), masker=mask)\n",
    "\n",
    "eeg_train = eeg_train.reshape(eeg_train.shape[0], eeg_train.shape[1], eeg_train.shape[2], eeg_train.shape[3], 1)\n",
    "eeg_test = eeg_test.reshape(eeg_test.shape[0], eeg_test.shape[1], eeg_test.shape[2], eeg_test.shape[3], 1)\n",
    "\n",
    "bold_train = bold_train.reshape(bold_train.shape[0], bold_train.shape[1], bold_train.shape[2], 1)\n",
    "bold_test = bold_test.reshape(bold_test.shape[0], bold_test.shape[1], bold_test.shape[2], 1)"
   ]
  },
  {
   "cell_type": "markdown",
   "metadata": {},
   "source": [
    "### Load EEG model"
   ]
  },
  {
   "cell_type": "code",
   "execution_count": 62,
   "metadata": {},
   "outputs": [
    {
     "name": "stdout",
     "output_type": "stream",
     "text": [
      "Model: \"sequential_27\"\n",
      "_________________________________________________________________\n",
      "Layer (type)                 Output Shape              Param #   \n",
      "=================================================================\n",
      "conv3d_31 (Conv3D)           (None, 63, 2, 20, 1)      5         \n",
      "_________________________________________________________________\n",
      "batch_normalization_54 (Batc (None, 63, 2, 20, 1)      4         \n",
      "_________________________________________________________________\n",
      "conv3d_32 (Conv3D)           (None, 62, 1, 20, 1)      5         \n",
      "_________________________________________________________________\n",
      "batch_normalization_55 (Batc (None, 62, 1, 20, 1)      4         \n",
      "_________________________________________________________________\n",
      "conv3d_33 (Conv3D)           (None, 61, 1, 20, 1)      3         \n",
      "_________________________________________________________________\n",
      "batch_normalization_56 (Batc (None, 61, 1, 20, 1)      4         \n",
      "_________________________________________________________________\n",
      "reshape_9 (Reshape)          (None, 61, 20, 1)         0         \n",
      "=================================================================\n",
      "Total params: 25\n",
      "Trainable params: 19\n",
      "Non-trainable params: 6\n",
      "_________________________________________________________________\n",
      "None\n"
     ]
    }
   ],
   "source": [
    "#LOAD MODEL WEIGHTS - EEG NETWORK\n",
    "saved_models_path = '../multi_model/'\n",
    "json_file = open(saved_models_path + 'eeg_demo_0.json', 'r')\n",
    "loaded_model_json = json_file.read()\n",
    "json_file.close()\n",
    "eeg_network = model_from_json(loaded_model_json)\n",
    "# load weights into new model\n",
    "eeg_network.load_weights(saved_models_path + \"eeg_demo_0.h5\")\n",
    "\n",
    "print(eeg_network.summary())"
   ]
  },
  {
   "cell_type": "markdown",
   "metadata": {},
   "source": [
    "### Load activations from compression network"
   ]
  },
  {
   "cell_type": "code",
   "execution_count": 63,
   "metadata": {},
   "outputs": [],
   "source": [
    "shared_eeg_train = eeg_network.predict(eeg_train)\n",
    "shared_eeg_test = eeg_network.predict(eeg_test)"
   ]
  },
  {
   "cell_type": "markdown",
   "metadata": {},
   "source": [
    "### Build the decoding neural network architecture"
   ]
  },
  {
   "cell_type": "code",
   "execution_count": 65,
   "metadata": {},
   "outputs": [
    {
     "name": "stdout",
     "output_type": "stream",
     "text": [
      "Model: \"sequential_27\"\n",
      "_________________________________________________________________\n",
      "Layer (type)                 Output Shape              Param #   \n",
      "=================================================================\n",
      "conv2d_transpose_45 (Conv2DT (None, 280, 20, 1)        101       \n",
      "_________________________________________________________________\n",
      "batch_normalization_5 (Batch (None, 280, 20, 1)        4         \n",
      "_________________________________________________________________\n",
      "conv2d_transpose_46 (Conv2DT (None, 14050, 20, 1)      101       \n",
      "_________________________________________________________________\n",
      "batch_normalization_6 (Batch (None, 14050, 20, 1)      4         \n",
      "_________________________________________________________________\n",
      "zero_padding2d_10 (ZeroPaddi (None, 14164, 20, 1)      0         \n",
      "=================================================================\n",
      "Total params: 210\n",
      "Trainable params: 206\n",
      "Non-trainable params: 4\n",
      "_________________________________________________________________\n",
      "None\n"
     ]
    }
   ],
   "source": [
    "input_shape = (None, shared_eeg_train.shape[1], shared_eeg_train.shape[2], 1)\n",
    "\n",
    "model = Sequential()\n",
    "\n",
    "model.add(Conv2DTranspose(1, kernel_size=(100, 1),\n",
    "                          activation='selu', strides=(3,1)))\n",
    "model.add(BatchNormalization())\n",
    "model.add(Conv2DTranspose(1, kernel_size=(100, 1), \n",
    "                          activation='selu', strides=(50,1)))\n",
    "model.add(BatchNormalization())\n",
    "#can we arrange another solution for the padding??\n",
    "model.add(ZeroPadding2D(padding=(57,0)))\n",
    "\n",
    "model.build(input_shape)\n",
    "\n",
    "print(model.summary())"
   ]
  },
  {
   "cell_type": "code",
   "execution_count": 66,
   "metadata": {},
   "outputs": [],
   "source": [
    "def correlation(x, y):\n",
    "    x = K.l2_normalize(x, axis=1)\n",
    "    y = K.l2_normalize(y, axis=1)\n",
    "\n",
    "    #flatten because we are dealing with 16x20 matrices\n",
    "    x = K.batch_flatten(x)\n",
    "    y = K.batch_flatten(y)\n",
    "\n",
    "    a = K.batch_dot(x, y, axes=1)\n",
    "\n",
    "    b = K.batch_dot(x, x, axes=1)\n",
    "    c = K.batch_dot(y, y, axes=1)\n",
    "\n",
    "    return 1 - (a / (K.sqrt(b) * K.sqrt(c)))\n",
    "\n",
    "model.compile(optimizer='adam', loss=correlation)"
   ]
  },
  {
   "cell_type": "markdown",
   "metadata": {},
   "source": [
    "### Let's train the model"
   ]
  },
  {
   "cell_type": "code",
   "execution_count": 68,
   "metadata": {},
   "outputs": [
    {
     "name": "stdout",
     "output_type": "stream",
     "text": [
      "Epoch 1/100\n",
      "224/224 [==============================] - 2s 10ms/step - loss: 0.9944\n",
      "Epoch 2/100\n",
      "224/224 [==============================] - 2s 10ms/step - loss: 0.9942\n",
      "Epoch 3/100\n",
      "224/224 [==============================] - 2s 9ms/step - loss: 0.9940\n",
      "Epoch 4/100\n",
      "224/224 [==============================] - 2s 10ms/step - loss: 0.9938\n",
      "Epoch 5/100\n",
      "224/224 [==============================] - 2s 10ms/step - loss: 0.9937\n",
      "Epoch 6/100\n",
      "224/224 [==============================] - 2s 10ms/step - loss: 0.9935\n",
      "Epoch 7/100\n",
      "224/224 [==============================] - 2s 9ms/step - loss: 0.9933\n",
      "Epoch 8/100\n",
      "224/224 [==============================] - 2s 10ms/step - loss: 0.9932\n",
      "Epoch 9/100\n",
      "224/224 [==============================] - 2s 10ms/step - loss: 0.9930\n",
      "Epoch 10/100\n",
      "224/224 [==============================] - 2s 9ms/step - loss: 0.9929\n",
      "Epoch 11/100\n",
      "224/224 [==============================] - 2s 10ms/step - loss: 0.9928\n",
      "Epoch 12/100\n",
      "224/224 [==============================] - 2s 10ms/step - loss: 0.9927\n",
      "Epoch 13/100\n",
      "224/224 [==============================] - 2s 10ms/step - loss: 0.9925\n",
      "Epoch 14/100\n",
      "224/224 [==============================] - 2s 10ms/step - loss: 0.9924\n",
      "Epoch 15/100\n",
      "224/224 [==============================] - 2s 9ms/step - loss: 0.9923\n",
      "Epoch 16/100\n",
      "224/224 [==============================] - 2s 10ms/step - loss: 0.9922\n",
      "Epoch 17/100\n",
      "224/224 [==============================] - 2s 10ms/step - loss: 0.9920\n",
      "Epoch 18/100\n",
      "224/224 [==============================] - 2s 10ms/step - loss: 0.9919\n",
      "Epoch 19/100\n",
      "224/224 [==============================] - 2s 10ms/step - loss: 0.9918\n",
      "Epoch 20/100\n",
      "224/224 [==============================] - 2s 10ms/step - loss: 0.9917\n",
      "Epoch 21/100\n",
      "224/224 [==============================] - 2s 9ms/step - loss: 0.9916\n",
      "Epoch 22/100\n",
      "224/224 [==============================] - 2s 10ms/step - loss: 0.9915\n",
      "Epoch 23/100\n",
      "224/224 [==============================] - 2s 9ms/step - loss: 0.9914\n",
      "Epoch 24/100\n",
      "224/224 [==============================] - 2s 10ms/step - loss: 0.9913\n",
      "Epoch 25/100\n",
      "224/224 [==============================] - 2s 9ms/step - loss: 0.9912\n",
      "Epoch 26/100\n",
      "224/224 [==============================] - 2s 9ms/step - loss: 0.9911\n",
      "Epoch 27/100\n",
      "224/224 [==============================] - 2s 10ms/step - loss: 0.9910\n",
      "Epoch 28/100\n",
      "224/224 [==============================] - 2s 10ms/step - loss: 0.9909\n",
      "Epoch 29/100\n",
      "224/224 [==============================] - 2s 10ms/step - loss: 0.9908\n",
      "Epoch 30/100\n",
      "224/224 [==============================] - 2s 10ms/step - loss: 0.9907\n",
      "Epoch 31/100\n",
      "224/224 [==============================] - 2s 10ms/step - loss: 0.9906\n",
      "Epoch 32/100\n",
      "224/224 [==============================] - 2s 10ms/step - loss: 0.9905\n",
      "Epoch 33/100\n",
      "224/224 [==============================] - 2s 10ms/step - loss: 0.9904\n",
      "Epoch 34/100\n",
      "224/224 [==============================] - 2s 10ms/step - loss: 0.9903\n",
      "Epoch 35/100\n",
      "224/224 [==============================] - 2s 10ms/step - loss: 0.9902\n",
      "Epoch 36/100\n",
      "224/224 [==============================] - 2s 10ms/step - loss: 0.9901\n",
      "Epoch 37/100\n",
      "224/224 [==============================] - 2s 10ms/step - loss: 0.9900\n",
      "Epoch 38/100\n",
      "224/224 [==============================] - 2s 10ms/step - loss: 0.9899\n",
      "Epoch 39/100\n",
      "224/224 [==============================] - 2s 10ms/step - loss: 0.9898\n",
      "Epoch 40/100\n",
      "224/224 [==============================] - 2s 10ms/step - loss: 0.9897\n",
      "Epoch 41/100\n",
      "224/224 [==============================] - 2s 10ms/step - loss: 0.9896\n",
      "Epoch 42/100\n",
      "224/224 [==============================] - 2s 10ms/step - loss: 0.9895\n",
      "Epoch 43/100\n",
      "224/224 [==============================] - 2s 9ms/step - loss: 0.9894\n",
      "Epoch 44/100\n",
      "224/224 [==============================] - 2s 9ms/step - loss: 0.9894\n",
      "Epoch 45/100\n",
      "224/224 [==============================] - 2s 9ms/step - loss: 0.9893\n",
      "Epoch 46/100\n",
      "224/224 [==============================] - 2s 9ms/step - loss: 0.9892\n",
      "Epoch 47/100\n",
      "224/224 [==============================] - 2s 9ms/step - loss: 0.9891\n",
      "Epoch 48/100\n",
      "224/224 [==============================] - 2s 9ms/step - loss: 0.9890\n",
      "Epoch 49/100\n",
      "224/224 [==============================] - 2s 10ms/step - loss: 0.9889\n",
      "Epoch 50/100\n",
      "224/224 [==============================] - 2s 10ms/step - loss: 0.9889\n",
      "Epoch 51/100\n",
      "224/224 [==============================] - 2s 10ms/step - loss: 0.9888\n",
      "Epoch 52/100\n",
      "224/224 [==============================] - 2s 10ms/step - loss: 0.9887\n",
      "Epoch 53/100\n",
      "224/224 [==============================] - 2s 10ms/step - loss: 0.9886\n",
      "Epoch 54/100\n",
      "224/224 [==============================] - 2s 10ms/step - loss: 0.9886\n",
      "Epoch 55/100\n",
      "224/224 [==============================] - 2s 10ms/step - loss: 0.9885\n",
      "Epoch 56/100\n",
      "224/224 [==============================] - 2s 10ms/step - loss: 0.9884\n",
      "Epoch 57/100\n",
      "224/224 [==============================] - 2s 10ms/step - loss: 0.9884\n",
      "Epoch 58/100\n",
      "224/224 [==============================] - 2s 10ms/step - loss: 0.9883\n",
      "Epoch 59/100\n",
      "224/224 [==============================] - 2s 10ms/step - loss: 0.9882\n",
      "Epoch 60/100\n",
      "224/224 [==============================] - 2s 10ms/step - loss: 0.9882\n",
      "Epoch 61/100\n",
      "224/224 [==============================] - 2s 10ms/step - loss: 0.9881\n",
      "Epoch 62/100\n",
      "224/224 [==============================] - 2s 10ms/step - loss: 0.9881\n",
      "Epoch 63/100\n",
      "224/224 [==============================] - 2s 10ms/step - loss: 0.9880\n",
      "Epoch 64/100\n",
      "224/224 [==============================] - 2s 10ms/step - loss: 0.9879\n",
      "Epoch 65/100\n",
      "224/224 [==============================] - 2s 10ms/step - loss: 0.9879\n",
      "Epoch 66/100\n",
      "224/224 [==============================] - 2s 10ms/step - loss: 0.9879\n",
      "Epoch 67/100\n",
      "224/224 [==============================] - 2s 10ms/step - loss: 0.9878\n",
      "Epoch 68/100\n",
      "224/224 [==============================] - 2s 10ms/step - loss: 0.9878\n",
      "Epoch 69/100\n",
      "224/224 [==============================] - 2s 10ms/step - loss: 0.9877\n",
      "Epoch 70/100\n",
      "224/224 [==============================] - 2s 10ms/step - loss: 0.9877\n",
      "Epoch 71/100\n",
      "224/224 [==============================] - 2s 10ms/step - loss: 0.9876\n",
      "Epoch 72/100\n",
      "224/224 [==============================] - 2s 10ms/step - loss: 0.9876\n",
      "Epoch 73/100\n",
      "224/224 [==============================] - 2s 10ms/step - loss: 0.9875\n",
      "Epoch 74/100\n",
      "224/224 [==============================] - 2s 10ms/step - loss: 0.9875\n",
      "Epoch 75/100\n",
      "224/224 [==============================] - 2s 10ms/step - loss: 0.9875\n",
      "Epoch 76/100\n",
      "224/224 [==============================] - 2s 10ms/step - loss: 0.9874\n",
      "Epoch 77/100\n",
      "224/224 [==============================] - 2s 10ms/step - loss: 0.9874\n",
      "Epoch 78/100\n",
      "224/224 [==============================] - 2s 10ms/step - loss: 0.9874\n",
      "Epoch 79/100\n",
      "224/224 [==============================] - 2s 10ms/step - loss: 0.9874\n",
      "Epoch 80/100\n",
      "224/224 [==============================] - 2s 10ms/step - loss: 0.9873\n",
      "Epoch 81/100\n",
      "224/224 [==============================] - 2s 10ms/step - loss: 0.9873\n",
      "Epoch 82/100\n",
      "224/224 [==============================] - 2s 10ms/step - loss: 0.9873\n",
      "Epoch 83/100\n",
      "224/224 [==============================] - 2s 10ms/step - loss: 0.9873\n",
      "Epoch 84/100\n",
      "224/224 [==============================] - 2s 10ms/step - loss: 0.9873\n",
      "Epoch 85/100\n",
      "224/224 [==============================] - 2s 10ms/step - loss: 0.9872\n",
      "Epoch 86/100\n",
      "224/224 [==============================] - 2s 10ms/step - loss: 0.9872\n",
      "Epoch 87/100\n",
      "224/224 [==============================] - 2s 10ms/step - loss: 0.9872\n",
      "Epoch 88/100\n",
      "224/224 [==============================] - 2s 9ms/step - loss: 0.9872\n",
      "Epoch 89/100\n",
      "224/224 [==============================] - 2s 10ms/step - loss: 0.9872\n",
      "Epoch 90/100\n",
      "224/224 [==============================] - 2s 10ms/step - loss: 0.9872\n",
      "Epoch 91/100\n",
      "224/224 [==============================] - 2s 10ms/step - loss: 0.9871\n",
      "Epoch 92/100\n",
      "224/224 [==============================] - 2s 10ms/step - loss: 0.9871\n",
      "Epoch 93/100\n",
      "224/224 [==============================] - 2s 10ms/step - loss: 0.9871\n",
      "Epoch 94/100\n",
      "224/224 [==============================] - 2s 10ms/step - loss: 0.9871\n",
      "Epoch 95/100\n",
      "224/224 [==============================] - 2s 10ms/step - loss: 0.9871\n",
      "Epoch 96/100\n",
      "224/224 [==============================] - 2s 10ms/step - loss: 0.9871\n",
      "Epoch 97/100\n",
      "224/224 [==============================] - 2s 10ms/step - loss: 0.9871\n",
      "Epoch 98/100\n"
     ]
    },
    {
     "name": "stdout",
     "output_type": "stream",
     "text": [
      "224/224 [==============================] - 2s 10ms/step - loss: 0.9870\n",
      "Epoch 99/100\n",
      "224/224 [==============================] - 2s 10ms/step - loss: 0.9871\n",
      "Epoch 100/100\n",
      "224/224 [==============================] - 2s 10ms/step - loss: 0.9870\n"
     ]
    },
    {
     "data": {
      "text/plain": [
       "<keras.callbacks.callbacks.History at 0x7fd38bf44668>"
      ]
     },
     "execution_count": 68,
     "metadata": {},
     "output_type": "execute_result"
    }
   ],
   "source": [
    "model.fit(shared_eeg_train, bold_train, epochs=100)"
   ]
  },
  {
   "cell_type": "code",
   "execution_count": null,
   "metadata": {},
   "outputs": [],
   "source": []
  }
 ],
 "metadata": {
  "kernelspec": {
   "display_name": "Python 3",
   "language": "python",
   "name": "python3"
  },
  "language_info": {
   "codemirror_mode": {
    "name": "ipython",
    "version": 3
   },
   "file_extension": ".py",
   "mimetype": "text/x-python",
   "name": "python",
   "nbconvert_exporter": "python",
   "pygments_lexer": "ipython3",
   "version": "3.6.9"
  }
 },
 "nbformat": 4,
 "nbformat_minor": 2
}
