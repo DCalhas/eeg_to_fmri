{
 "cells": [
  {
   "cell_type": "markdown",
   "metadata": {},
   "source": [
    "# Deep Cross Correlation between EEG and BOLD signal"
   ]
  },
  {
   "cell_type": "markdown",
   "metadata": {},
   "source": [
    "#### GOAL: perform convolution among bands and channels for each timestep, with non linear activations, in order to have a signal of the same length as the BOLD signal and correlate them"
   ]
  },
  {
   "cell_type": "markdown",
   "metadata": {},
   "source": [
    "#### The loss will be the inverse cross correlation between the activation signal and BOLD signal"
   ]
  },
  {
   "cell_type": "code",
   "execution_count": 1,
   "metadata": {
    "scrolled": true
   },
   "outputs": [
    {
     "name": "stderr",
     "output_type": "stream",
     "text": [
      "/home/david/anaconda3/envs/fmri_eeg/lib/python3.6/site-packages/sklearn/externals/joblib/__init__.py:15: DeprecationWarning: sklearn.externals.joblib is deprecated in 0.21 and will be removed in 0.23. Please import this functionality directly from joblib, which can be installed with: pip install joblib. If this warning is raised when loading pickled models, you may need to re-serialize those models with scikit-learn 0.21+.\n",
      "  warnings.warn(msg, category=DeprecationWarning)\n",
      "Using TensorFlow backend.\n"
     ]
    }
   ],
   "source": [
    "import sys\n",
    "sys.path.append(\"..\")\n",
    "\n",
    "import eeg_utils\n",
    "import fmri_utils\n",
    "import deep_cross_corr as deep_corr\n",
    "\n",
    "import numpy as np\n",
    "from numpy import correlate\n",
    "\n",
    "import matplotlib.pyplot as plt\n",
    "\n",
    "import mne\n",
    "from nilearn.masking import apply_mask, compute_epi_mask\n",
    "\n",
    "from sklearn.preprocessing import normalize\n",
    "\n",
    "from scipy.signal import resample\n",
    "from nilearn.image import smooth_img, index_img, iter_img, clean_img, math_img, mean_img\n",
    "from nilearn import plotting\n",
    "from nilearn import image\n",
    "from nilearn.input_data import NiftiMasker"
   ]
  },
  {
   "cell_type": "code",
   "execution_count": 2,
   "metadata": {},
   "outputs": [
    {
     "name": "stderr",
     "output_type": "stream",
     "text": [
      "/home/david/anaconda3/envs/fmri_eeg/lib/python3.6/site-packages/nilearn/image/resampling.py:510: UserWarning: Casting data from int16 to float32\n",
      "  warnings.warn(\"Casting data from %s to %s\" % (data.dtype.name, aux))\n",
      "/home/david/anaconda3/envs/fmri_eeg/lib/python3.6/site-packages/nilearn/image/resampling.py:510: UserWarning: Casting data from int16 to float32\n",
      "  warnings.warn(\"Casting data from %s to %s\" % (data.dtype.name, aux))\n",
      "/home/david/anaconda3/envs/fmri_eeg/lib/python3.6/site-packages/nilearn/image/resampling.py:510: UserWarning: Casting data from int16 to float32\n",
      "  warnings.warn(\"Casting data from %s to %s\" % (data.dtype.name, aux))\n",
      "/home/david/anaconda3/envs/fmri_eeg/lib/python3.6/site-packages/nilearn/image/resampling.py:510: UserWarning: Casting data from int16 to float32\n",
      "  warnings.warn(\"Casting data from %s to %s\" % (data.dtype.name, aux))\n",
      "/home/david/anaconda3/envs/fmri_eeg/lib/python3.6/site-packages/nilearn/image/resampling.py:510: UserWarning: Casting data from int16 to float32\n",
      "  warnings.warn(\"Casting data from %s to %s\" % (data.dtype.name, aux))\n",
      "/home/david/anaconda3/envs/fmri_eeg/lib/python3.6/site-packages/nilearn/image/resampling.py:510: UserWarning: Casting data from int16 to float32\n",
      "  warnings.warn(\"Casting data from %s to %s\" % (data.dtype.name, aux))\n"
     ]
    }
   ],
   "source": [
    "mask = fmri_utils.get_population_mask()"
   ]
  },
  {
   "cell_type": "code",
   "execution_count": 3,
   "metadata": {
    "scrolled": true
   },
   "outputs": [
    {
     "name": "stdout",
     "output_type": "stream",
     "text": [
      "Extracting parameters from /home/david/eeg_informed_fmri/datasets/01/EEG/32/export/20130410320002_Segmentation_bin.vhdr...\n",
      "Setting channel info structure...\n",
      "Reading 0 ... 162022  =      0.000 ...   648.088 secs...\n"
     ]
    },
    {
     "name": "stderr",
     "output_type": "stream",
     "text": [
      "../eeg_utils.py:35: RuntimeWarning: No coordinate information found for channels ['ECG']. Setting channel types to misc. To avoid this warning, set channel types explicitly.\n",
      "  return mne.io.read_raw_brainvision(complete_path, preload=True)\n"
     ]
    },
    {
     "name": "stdout",
     "output_type": "stream",
     "text": [
      "(16, 14164, 20)\n",
      "Extracting parameters from /home/david/eeg_informed_fmri/datasets/01/EEG/35/export/20130424350002_Pulse_Artifact_Correction_bin.vhdr...\n",
      "Setting channel info structure...\n",
      "Reading 0 ... 197234  =      0.000 ...   788.936 secs...\n"
     ]
    },
    {
     "name": "stderr",
     "output_type": "stream",
     "text": [
      "../eeg_utils.py:35: RuntimeWarning: No coordinate information found for channels ['ECG']. Setting channel types to misc. To avoid this warning, set channel types explicitly.\n",
      "  return mne.io.read_raw_brainvision(complete_path, preload=True)\n"
     ]
    },
    {
     "name": "stdout",
     "output_type": "stream",
     "text": [
      "(32, 14164, 20)\n",
      "Extracting parameters from /home/david/eeg_informed_fmri/datasets/01/EEG/36/export/20130425360002_Pulse_Artifact_Correction_bin.vhdr...\n",
      "Setting channel info structure...\n",
      "Reading 0 ... 181949  =      0.000 ...   727.796 secs...\n"
     ]
    },
    {
     "name": "stderr",
     "output_type": "stream",
     "text": [
      "../eeg_utils.py:35: RuntimeWarning: No coordinate information found for channels ['ECG']. Setting channel types to misc. To avoid this warning, set channel types explicitly.\n",
      "  return mne.io.read_raw_brainvision(complete_path, preload=True)\n"
     ]
    },
    {
     "name": "stdout",
     "output_type": "stream",
     "text": [
      "(48, 14164, 20)\n",
      "Extracting parameters from /home/david/eeg_informed_fmri/datasets/01/EEG/37/export/20130426370002_Pulse_Artifact_Correction_bin.vhdr...\n",
      "Setting channel info structure...\n",
      "Reading 0 ... 195159  =      0.000 ...   780.636 secs...\n"
     ]
    },
    {
     "name": "stderr",
     "output_type": "stream",
     "text": [
      "../eeg_utils.py:35: RuntimeWarning: No coordinate information found for channels ['ECG']. Setting channel types to misc. To avoid this warning, set channel types explicitly.\n",
      "  return mne.io.read_raw_brainvision(complete_path, preload=True)\n"
     ]
    },
    {
     "name": "stdout",
     "output_type": "stream",
     "text": [
      "(64, 14164, 20)\n",
      "Extracting parameters from /home/david/eeg_informed_fmri/datasets/01/EEG/38/export/20130105380002_Pulse_Artifact_Correction_bin.vhdr...\n",
      "Setting channel info structure...\n",
      "Reading 0 ... 179384  =      0.000 ...   717.536 secs...\n"
     ]
    },
    {
     "name": "stderr",
     "output_type": "stream",
     "text": [
      "../eeg_utils.py:35: RuntimeWarning: No coordinate information found for channels ['ECG']. Setting channel types to misc. To avoid this warning, set channel types explicitly.\n",
      "  return mne.io.read_raw_brainvision(complete_path, preload=True)\n"
     ]
    },
    {
     "name": "stdout",
     "output_type": "stream",
     "text": [
      "(80, 14164, 20)\n",
      "Extracting parameters from /home/david/eeg_informed_fmri/datasets/01/EEG/39/export/20130501390002_Pulse_Artifact_Correction_bin.vhdr...\n",
      "Setting channel info structure...\n",
      "Reading 0 ... 182129  =      0.000 ...   728.516 secs...\n"
     ]
    },
    {
     "name": "stderr",
     "output_type": "stream",
     "text": [
      "../eeg_utils.py:35: RuntimeWarning: No coordinate information found for channels ['ECG']. Setting channel types to misc. To avoid this warning, set channel types explicitly.\n",
      "  return mne.io.read_raw_brainvision(complete_path, preload=True)\n"
     ]
    },
    {
     "name": "stdout",
     "output_type": "stream",
     "text": [
      "(96, 14164, 20)\n",
      "Extracting parameters from /home/david/eeg_informed_fmri/datasets/01/EEG/40/export/20130510400002_Pulse_Artifact_Correction_bin.vhdr...\n",
      "Setting channel info structure...\n",
      "Reading 0 ... 173914  =      0.000 ...   695.656 secs...\n"
     ]
    },
    {
     "name": "stderr",
     "output_type": "stream",
     "text": [
      "../eeg_utils.py:35: RuntimeWarning: No coordinate information found for channels ['ECG']. Setting channel types to misc. To avoid this warning, set channel types explicitly.\n",
      "  return mne.io.read_raw_brainvision(complete_path, preload=True)\n"
     ]
    },
    {
     "name": "stdout",
     "output_type": "stream",
     "text": [
      "(112, 14164, 20)\n",
      "Extracting parameters from /home/david/eeg_informed_fmri/datasets/01/EEG/42/export/20130523420002_Pulse_Artifact_Correction_bin.vhdr...\n",
      "Setting channel info structure...\n",
      "Reading 0 ... 184909  =      0.000 ...   739.636 secs...\n"
     ]
    },
    {
     "name": "stderr",
     "output_type": "stream",
     "text": [
      "../eeg_utils.py:35: RuntimeWarning: No coordinate information found for channels ['ECG']. Setting channel types to misc. To avoid this warning, set channel types explicitly.\n",
      "  return mne.io.read_raw_brainvision(complete_path, preload=True)\n"
     ]
    },
    {
     "name": "stdout",
     "output_type": "stream",
     "text": [
      "(128, 14164, 20)\n",
      "Extracting parameters from /home/david/eeg_informed_fmri/datasets/01/EEG/43/export/20130529430002_Pulse_Artifact_Correction_bin.vhdr...\n",
      "Setting channel info structure...\n",
      "Reading 0 ... 170594  =      0.000 ...   682.376 secs...\n"
     ]
    },
    {
     "name": "stderr",
     "output_type": "stream",
     "text": [
      "../eeg_utils.py:35: RuntimeWarning: No coordinate information found for channels ['ECG']. Setting channel types to misc. To avoid this warning, set channel types explicitly.\n",
      "  return mne.io.read_raw_brainvision(complete_path, preload=True)\n"
     ]
    },
    {
     "name": "stdout",
     "output_type": "stream",
     "text": [
      "(144, 14164, 20)\n",
      "Extracting parameters from /home/david/eeg_informed_fmri/datasets/01/EEG/44/export/20130605440002_Pulse_Artifact_Correction_bin.vhdr...\n",
      "Setting channel info structure...\n",
      "Reading 0 ... 169854  =      0.000 ...   679.416 secs...\n"
     ]
    },
    {
     "name": "stderr",
     "output_type": "stream",
     "text": [
      "../eeg_utils.py:35: RuntimeWarning: No coordinate information found for channels ['ECG']. Setting channel types to misc. To avoid this warning, set channel types explicitly.\n",
      "  return mne.io.read_raw_brainvision(complete_path, preload=True)\n"
     ]
    },
    {
     "name": "stdout",
     "output_type": "stream",
     "text": [
      "(160, 14164, 20)\n",
      "Extracting parameters from /home/david/eeg_informed_fmri/datasets/01/EEG/45/export/20130627450002_Pulse_Artifact_Correction_bin.vhdr...\n",
      "Setting channel info structure...\n",
      "Reading 0 ... 168099  =      0.000 ...   672.396 secs...\n"
     ]
    },
    {
     "name": "stderr",
     "output_type": "stream",
     "text": [
      "../eeg_utils.py:35: RuntimeWarning: No coordinate information found for channels ['ECG']. Setting channel types to misc. To avoid this warning, set channel types explicitly.\n",
      "  return mne.io.read_raw_brainvision(complete_path, preload=True)\n",
      "/home/david/anaconda3/envs/fmri_eeg/lib/python3.6/site-packages/nilearn/image/resampling.py:510: UserWarning: Casting data from int16 to float32\n",
      "  warnings.warn(\"Casting data from %s to %s\" % (data.dtype.name, aux))\n"
     ]
    },
    {
     "name": "stdout",
     "output_type": "stream",
     "text": [
      "(176, 14164, 20)\n",
      "Extracting parameters from /home/david/eeg_informed_fmri/datasets/01/EEG/46/export/20130703460002_Pulse_Artifact_Correction_bin.vhdr...\n",
      "Setting channel info structure...\n",
      "Reading 0 ... 172264  =      0.000 ...   689.056 secs...\n"
     ]
    },
    {
     "name": "stderr",
     "output_type": "stream",
     "text": [
      "../eeg_utils.py:35: RuntimeWarning: No coordinate information found for channels ['ECG']. Setting channel types to misc. To avoid this warning, set channel types explicitly.\n",
      "  return mne.io.read_raw_brainvision(complete_path, preload=True)\n",
      "/home/david/anaconda3/envs/fmri_eeg/lib/python3.6/site-packages/nilearn/image/resampling.py:510: UserWarning: Casting data from int16 to float32\n",
      "  warnings.warn(\"Casting data from %s to %s\" % (data.dtype.name, aux))\n"
     ]
    },
    {
     "name": "stdout",
     "output_type": "stream",
     "text": [
      "(192, 14164, 20)\n",
      "Extracting parameters from /home/david/eeg_informed_fmri/datasets/01/EEG/47/export/20130710470002_Pulse_Artifact_Correction_bin.vhdr...\n",
      "Setting channel info structure...\n",
      "Reading 0 ... 182594  =      0.000 ...   730.376 secs...\n"
     ]
    },
    {
     "name": "stderr",
     "output_type": "stream",
     "text": [
      "../eeg_utils.py:35: RuntimeWarning: No coordinate information found for channels ['ECG']. Setting channel types to misc. To avoid this warning, set channel types explicitly.\n",
      "  return mne.io.read_raw_brainvision(complete_path, preload=True)\n",
      "/home/david/anaconda3/envs/fmri_eeg/lib/python3.6/site-packages/nilearn/image/resampling.py:510: UserWarning: Casting data from int16 to float32\n",
      "  warnings.warn(\"Casting data from %s to %s\" % (data.dtype.name, aux))\n"
     ]
    },
    {
     "name": "stdout",
     "output_type": "stream",
     "text": [
      "(208, 14164, 20)\n",
      "Extracting parameters from /home/david/eeg_informed_fmri/datasets/01/EEG/48/export/20130717480002_Pulse_Artifact_Correction_bin.vhdr...\n",
      "Setting channel info structure...\n",
      "Reading 0 ... 171739  =      0.000 ...   686.956 secs...\n"
     ]
    },
    {
     "name": "stderr",
     "output_type": "stream",
     "text": [
      "../eeg_utils.py:35: RuntimeWarning: No coordinate information found for channels ['ECG']. Setting channel types to misc. To avoid this warning, set channel types explicitly.\n",
      "  return mne.io.read_raw_brainvision(complete_path, preload=True)\n",
      "/home/david/anaconda3/envs/fmri_eeg/lib/python3.6/site-packages/nilearn/image/resampling.py:510: UserWarning: Casting data from int16 to float32\n",
      "  warnings.warn(\"Casting data from %s to %s\" % (data.dtype.name, aux))\n"
     ]
    },
    {
     "name": "stdout",
     "output_type": "stream",
     "text": [
      "(224, 14164, 20)\n",
      "Extracting parameters from /home/david/eeg_informed_fmri/datasets/01/EEG/49/export/20130918490002_Pulse_Artifact_Correction_bin.vhdr...\n",
      "Setting channel info structure...\n",
      "Reading 0 ... 167579  =      0.000 ...   670.316 secs...\n"
     ]
    },
    {
     "name": "stderr",
     "output_type": "stream",
     "text": [
      "../eeg_utils.py:35: RuntimeWarning: No coordinate information found for channels ['ECG']. Setting channel types to misc. To avoid this warning, set channel types explicitly.\n",
      "  return mne.io.read_raw_brainvision(complete_path, preload=True)\n",
      "/home/david/anaconda3/envs/fmri_eeg/lib/python3.6/site-packages/nilearn/image/resampling.py:510: UserWarning: Casting data from int16 to float32\n",
      "  warnings.warn(\"Casting data from %s to %s\" % (data.dtype.name, aux))\n"
     ]
    },
    {
     "name": "stdout",
     "output_type": "stream",
     "text": [
      "(16, 14164, 20)\n",
      "Extracting parameters from /home/david/eeg_informed_fmri/datasets/01/EEG/50/export/20131003_500002_Pulse_Artifact_Correction_bin.vhdr...\n",
      "Setting channel info structure...\n",
      "Reading 0 ... 168019  =      0.000 ...   672.076 secs...\n"
     ]
    },
    {
     "name": "stderr",
     "output_type": "stream",
     "text": [
      "../eeg_utils.py:35: RuntimeWarning: No coordinate information found for channels ['ECG', 'O9', 'O10']. Setting channel types to misc. To avoid this warning, set channel types explicitly.\n",
      "  return mne.io.read_raw_brainvision(complete_path, preload=True)\n",
      "/home/david/anaconda3/envs/fmri_eeg/lib/python3.6/site-packages/nilearn/image/resampling.py:510: UserWarning: Casting data from int16 to float32\n",
      "  warnings.warn(\"Casting data from %s to %s\" % (data.dtype.name, aux))\n"
     ]
    },
    {
     "name": "stdout",
     "output_type": "stream",
     "text": [
      "(32, 14164, 20)\n",
      "(224, 64, 5, 20) (224, 14164, 20)\n"
     ]
    }
   ],
   "source": [
    "n_partitions = 16\n",
    "\n",
    "X_train, y_train = deep_corr.get_data(list(range(14)), masker=mask, n_partitions=n_partitions)\n",
    "\n",
    "X_test, y_test = deep_corr.get_data(list(range(14, 16)), masker=mask, n_partitions=n_partitions)\n",
    "\n",
    "print(X_train.shape, y_train.shape)"
   ]
  },
  {
   "cell_type": "markdown",
   "metadata": {},
   "source": [
    "#### Lack of data, due to only having space for 100 instances:\n",
    "\n",
    "Our dataset has multiple X instances being equal with different target y"
   ]
  },
  {
   "cell_type": "markdown",
   "metadata": {},
   "source": [
    "### Defining our network"
   ]
  },
  {
   "cell_type": "code",
   "execution_count": 157,
   "metadata": {
    "scrolled": false
   },
   "outputs": [
    {
     "name": "stdout",
     "output_type": "stream",
     "text": [
      "(64, 5, 1)\n",
      "_________________________________________________________________\n",
      "Layer (type)                 Output Shape              Param #   \n",
      "=================================================================\n",
      "conv3d_198 (Conv3D)          (None, 32, 2, 20, 1)      5         \n",
      "_________________________________________________________________\n",
      "batch_normalization_309 (Bat (None, 32, 2, 20, 1)      4         \n",
      "_________________________________________________________________\n",
      "conv3d_199 (Conv3D)          (None, 16, 1, 20, 1)      5         \n",
      "_________________________________________________________________\n",
      "batch_normalization_310 (Bat (None, 16, 1, 20, 1)      4         \n",
      "_________________________________________________________________\n",
      "conv3d_200 (Conv3D)          (None, 1, 1, 20, 1)       17        \n",
      "_________________________________________________________________\n",
      "batch_normalization_311 (Bat (None, 1, 1, 20, 1)       4         \n",
      "_________________________________________________________________\n",
      "time_distributed_137 (TimeDi (None, 1, 20)             0         \n",
      "_________________________________________________________________\n",
      "lstm_137 (LSTM)              (None, 20)                3280      \n",
      "=================================================================\n",
      "Total params: 3,319\n",
      "Trainable params: 3,313\n",
      "Non-trainable params: 6\n",
      "_________________________________________________________________\n",
      "None\n",
      "(14164, 1)\n",
      "_________________________________________________________________\n",
      "Layer (type)                 Output Shape              Param #   \n",
      "=================================================================\n",
      "conv2d_197 (Conv2D)          (None, 282, 20, 1)        101       \n",
      "_________________________________________________________________\n",
      "batch_normalization_312 (Bat (None, 282, 20, 1)        4         \n",
      "_________________________________________________________________\n",
      "conv2d_198 (Conv2D)          (None, 16, 20, 1)         101       \n",
      "_________________________________________________________________\n",
      "batch_normalization_313 (Bat (None, 16, 20, 1)         4         \n",
      "_________________________________________________________________\n",
      "conv2d_199 (Conv2D)          (None, 1, 20, 1)          17        \n",
      "_________________________________________________________________\n",
      "batch_normalization_314 (Bat (None, 1, 20, 1)          4         \n",
      "_________________________________________________________________\n",
      "time_distributed_138 (TimeDi (None, 1, 20)             0         \n",
      "_________________________________________________________________\n",
      "lstm_138 (LSTM)              (None, 20)                3280      \n",
      "=================================================================\n",
      "Total params: 3,511\n",
      "Trainable params: 3,505\n",
      "Non-trainable params: 6\n",
      "_________________________________________________________________\n",
      "None\n"
     ]
    }
   ],
   "source": [
    "import keras\n",
    "\n",
    "from keras.initializers import Zeros\n",
    "from keras import regularizers\n",
    "from keras.models import Sequential, Model\n",
    "from keras.layers import Conv2D, Conv3D, Flatten, BatchNormalization, LSTM, TimeDistributed, Dense, Lambda, Input, MaxPooling2D, MaxPooling3D \n",
    "from keras.optimizers import Adam\n",
    "from keras.losses import mae\n",
    "\n",
    "import keras.backend as K\n",
    "\n",
    "#hyperparameters to be optimized:\n",
    "#n_partitions, output_dim, activation_function, reg_l, n_layers, dropout, maxpooling\n",
    "\n",
    "output_dim = 20\n",
    "activation_function = 'selu'\n",
    "reg_l=0\n",
    "regularizer = regularizers.l1(reg_l)\n",
    "\n",
    "def eeg_network(input_shape, kernel_size, output_dim=20, activation_function='selu', regularizer=regularizers.l1(0.001)):\n",
    "    model = Sequential()\n",
    "    \n",
    "\n",
    "    model.add(Conv3D(1, kernel_size=(2, 2, kernel_size[2]),\n",
    "                     activation=activation_function, strides=(2,2,1),\n",
    "                     input_shape=input_shape, kernel_regularizer=regularizer, \n",
    "                    bias_regularizer=regularizer, activity_regularizer=regularizer))\n",
    "    model.add(BatchNormalization())\n",
    "    model.add(Conv3D(1, kernel_size=(2, 2, kernel_size[2]),\n",
    "                     activation=activation_function, strides=(2,2,1),\n",
    "                     input_shape=input_shape, kernel_regularizer=regularizer, \n",
    "                    bias_regularizer=regularizer, activity_regularizer=regularizer))\n",
    "    model.add(BatchNormalization())\n",
    "    model.add(Conv3D(1, kernel_size=(16, 1, kernel_size[2]),\n",
    "                     activation=activation_function, strides=(2,1,1),\n",
    "                     input_shape=input_shape, kernel_regularizer=regularizer, \n",
    "                    bias_regularizer=regularizer, activity_regularizer=regularizer))\n",
    "    model.add(BatchNormalization())\n",
    "\n",
    "    model.add(TimeDistributed(Flatten()))\n",
    "\n",
    "    model.add(LSTM(output_dim))\n",
    "    \n",
    "    return model\n",
    "\n",
    "def bold_network(input_shape, kernel_size, output_dim=20, activation_function='selu', regularizer=regularizers.l1(0.001)):\n",
    "    model = Sequential()\n",
    "    \n",
    "    model.add(Conv2D(1, kernel_size=(100, kernel_size[1]),\n",
    "                     activation=activation_function, strides=(50,1),\n",
    "                     input_shape=input_shape, kernel_regularizer=regularizer, \n",
    "                    bias_regularizer=regularizer, activity_regularizer=regularizer))\n",
    "    model.add(BatchNormalization())\n",
    "    model.add(Conv2D(1, kernel_size=(100, kernel_size[1]),\n",
    "                     activation=activation_function, strides=(12,1),\n",
    "                     kernel_regularizer=regularizer, \n",
    "                    bias_regularizer=regularizer, activity_regularizer=regularizer))\n",
    "    model.add(BatchNormalization())\n",
    "    model.add(Conv2D(1, kernel_size=(16, kernel_size[1]),\n",
    "                     activation=activation_function, strides=(1,1),\n",
    "                     kernel_regularizer=regularizer, \n",
    "                    bias_regularizer=regularizer, activity_regularizer=regularizer))\n",
    "    model.add(BatchNormalization())\n",
    "    model.add(TimeDistributed(Flatten()))\n",
    "\n",
    "    model.add(LSTM(output_dim, input_shape=input_shape))\n",
    "    \n",
    "    return model\n",
    "\n",
    "X_train = X_train.reshape(X_train.shape[0], X_train.shape[1], X_train.shape[2], X_train.shape[3], 1)\n",
    "X_test = X_test.reshape(X_test.shape[0], X_test.shape[1], X_test.shape[2], X_test.shape[3], 1)\n",
    "\n",
    "eeg_input_shape = (X_train.shape[1], X_train.shape[2], X_train.shape[3], 1)\n",
    "\n",
    "kernel_size = (X_train.shape[1], X_train.shape[2], 1)\n",
    "print(kernel_size)\n",
    "#eeg network\n",
    "eeg_network = eeg_network(eeg_input_shape, kernel_size, output_dim=output_dim, \n",
    "                          activation_function=activation_function, regularizer=regularizer)\n",
    "print(eeg_network.summary())\n",
    "\n",
    "#BOLD network (224, 64, 5, 20) (224, 14164, 20)\n",
    "y_train = y_train.reshape(y_train.shape[0], y_train.shape[1], y_train.shape[2], 1)\n",
    "y_test = y_test.reshape(y_test.shape[0], y_test.shape[1], y_test.shape[2], 1)\n",
    "\n",
    "bold_input_shape = (y_train.shape[1], y_train.shape[2], 1)\n",
    "\n",
    "kernel_size = (y_train.shape[1], 1)\n",
    "print(kernel_size)\n",
    "\n",
    "bold_network = bold_network(bold_input_shape, kernel_size, output_dim=output_dim, \n",
    "                            activation_function=activation_function, regularizer=regularizer)\n",
    "print(bold_network.summary())"
   ]
  },
  {
   "cell_type": "code",
   "execution_count": 158,
   "metadata": {},
   "outputs": [],
   "source": [
    "input_eeg = Input(shape=eeg_input_shape)\n",
    "input_bold = Input(shape=bold_input_shape)\n",
    "\n",
    "# because we re-use the same instance `base_network`,\n",
    "# the weights of the network\n",
    "# will be shared across the two branches\n",
    "processed_eeg = eeg_network(input_eeg)\n",
    "processed_bold = bold_network(input_bold)"
   ]
  },
  {
   "cell_type": "markdown",
   "metadata": {},
   "source": [
    "### Let's define a cross correlation loss"
   ]
  },
  {
   "cell_type": "code",
   "execution_count": 159,
   "metadata": {},
   "outputs": [],
   "source": [
    "def cross_correlation(x, y):\n",
    "    #how should the normalization be done??\n",
    "    x = K.l2_normalize(x, axis=1)\n",
    "    y = K.l2_normalize(y, axis=1)\n",
    "\n",
    "    a = K.batch_dot(x, y, axes=1)\n",
    "\n",
    "    b = K.batch_dot(x, x, axes=1)\n",
    "    c = K.batch_dot(y, y, axes=1)\n",
    "\n",
    "    return 1 - (a / (K.sqrt(b) * K.sqrt(c)))\n",
    "\n",
    "def correlation(vects):\n",
    "    #how should the normalization be done??\n",
    "    x, y = vects\n",
    "    x = K.l2_normalize(x, axis=1)\n",
    "    y = K.l2_normalize(y, axis=1)\n",
    "\n",
    "    a = K.batch_dot(x, y, axes=1)\n",
    "\n",
    "    b = K.batch_dot(x, x, axes=1)\n",
    "    c = K.batch_dot(y, y, axes=1)\n",
    "\n",
    "    return 1 - (a / (K.sqrt(b) * K.sqrt(c)))\n",
    "\n",
    "def cos_dist_output_shape(shapes):\n",
    "    shape1, shape2 = shapes\n",
    "    return (shape1[0], 1)\n",
    "\n",
    "def contrastive_loss(y_true, y_pred):\n",
    "        square_pred = K.square(y_pred)\n",
    "        margin_square = K.square(K.maximum(1.0 - y_pred, 0))\n",
    "        return K.mean(y_true * square_pred + (1 - y_true) * margin_square)\n",
    "\n",
    "correlation = Lambda(correlation,#compare this results with euclidean\n",
    "              output_shape=cos_dist_output_shape)([processed_eeg, \n",
    "              processed_bold])\n",
    "\n",
    "multi_modal_model = Model([input_eeg, input_bold], correlation)\n",
    "\n",
    "multi_modal_model.compile(loss=contrastive_loss, optimizer=Adam(lr=0.0001))\n",
    "eeg_network.compile(loss=cross_correlation, optimizer=Adam(lr=0.0001))"
   ]
  },
  {
   "cell_type": "markdown",
   "metadata": {},
   "source": [
    "## Create positive and negative pairs of EEG and BOLD"
   ]
  },
  {
   "cell_type": "code",
   "execution_count": 153,
   "metadata": {},
   "outputs": [],
   "source": [
    "def create_eeg_bold_pairs(eeg, bold):\n",
    "    x_eeg = []\n",
    "    x_bold = []\n",
    "    y = []\n",
    "    \n",
    "    #how are we going to pair these? only different individuals??\n",
    "    #different timesteps of the same individual\n",
    "    \n",
    "    #redefine this variable\n",
    "    instances_per_individual = 10\n",
    "\n",
    "    #building pairs\n",
    "    for individual in range(int(len(eeg)/instances_per_individual)):\n",
    "        for other_individual in range(int(len(eeg)/instances_per_individual)):\n",
    "            for time_partitions in range(instances_per_individual):\n",
    "                if(individual == other_individual):\n",
    "                    x_eeg += [eeg[individual + time_partitions]]\n",
    "                    x_bold += [bold[other_individual + time_partitions]]\n",
    "                    y += [[1]]\n",
    "                else:\n",
    "                    x_eeg += [eeg[individual + time_partitions]]\n",
    "                    x_bold += [bold[other_individual + time_partitions]]\n",
    "                    y += [[0]]\n",
    "                    print\n",
    "    \n",
    "    x_eeg = np.array(x_eeg)\n",
    "    x_bold = np.array(x_bold)\n",
    "    y = np.array(y)\n",
    "    \n",
    "    return x_eeg, x_bold, y\n",
    "\n",
    "X_train_eeg, X_train_bold, tr_y = create_eeg_bold_pairs(X_train, y_train)\n",
    "X_test_eeg, X_test_bold, te_y = create_eeg_bold_pairs(X_test, y_test)"
   ]
  },
  {
   "cell_type": "code",
   "execution_count": 160,
   "metadata": {},
   "outputs": [
    {
     "name": "stdout",
     "output_type": "stream",
     "text": [
      "(4840, 64, 5, 20, 1)\n",
      "(4840, 14164, 20, 1)\n",
      "(90, 64, 5, 20, 1)\n",
      "(90, 14164, 20, 1)\n"
     ]
    }
   ],
   "source": [
    "print(X_train_eeg.shape)\n",
    "print(X_train_bold.shape)\n",
    "\n",
    "print(X_test_eeg.shape)\n",
    "print(X_test_bold.shape)"
   ]
  },
  {
   "cell_type": "markdown",
   "metadata": {},
   "source": [
    "## Finally train and see if it converges"
   ]
  },
  {
   "cell_type": "code",
   "execution_count": null,
   "metadata": {
    "scrolled": true
   },
   "outputs": [
    {
     "name": "stdout",
     "output_type": "stream",
     "text": [
      "Train on 4840 samples, validate on 90 samples\n",
      "Epoch 1/100\n"
     ]
    }
   ],
   "source": [
    "history = multi_modal_model.fit([X_train_eeg, X_train_bold], tr_y, \n",
    "                    epochs=100, \n",
    "                    batch_size=n_partitions*16, validation_data=([X_test_eeg, X_test_bold], te_y))"
   ]
  },
  {
   "cell_type": "code",
   "execution_count": 45,
   "metadata": {},
   "outputs": [
    {
     "data": {
      "image/png": "[encoded data removed]",
      "text/plain": [
       "<Figure size 432x288 with 1 Axes>"
      ]
     },
     "metadata": {
      "needs_background": "light"
     },
     "output_type": "display_data"
    }
   ],
   "source": [
    "import matplotlib.pyplot as plt\n",
    "\n",
    "plt.plot(history.history['loss'], color='b')\n",
    "plt.plot(history.history['val_loss'], color='g')\n",
    "plt.show()"
   ]
  },
  {
   "cell_type": "markdown",
   "metadata": {},
   "source": [
    "## Extract the activations and plot the cross-correlation coefficients"
   ]
  },
  {
   "cell_type": "code",
   "execution_count": null,
   "metadata": {},
   "outputs": [],
   "source": [
    "eeg_embeddings = model.predict(X)"
   ]
  },
  {
   "cell_type": "code",
   "execution_count": null,
   "metadata": {},
   "outputs": [],
   "source": [
    "deep_corr = correlate(eeg_embeddings[0], y[0])\n",
    "linear_corr = correlate(X[0][0][0].reshape(1,-1)[0], y[0])\n",
    "print(deep_corr, linear_corr)"
   ]
  }
 ],
 "metadata": {
  "kernelspec": {
   "display_name": "Python 3",
   "language": "python",
   "name": "python3"
  },
  "language_info": {
   "codemirror_mode": {
    "name": "ipython",
    "version": 3
   },
   "file_extension": ".py",
   "mimetype": "text/x-python",
   "name": "python",
   "nbconvert_exporter": "python",
   "pygments_lexer": "ipython3",
   "version": "3.6.9"
  }
 },
 "nbformat": 4,
 "nbformat_minor": 2
}
