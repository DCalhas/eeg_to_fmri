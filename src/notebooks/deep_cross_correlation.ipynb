{
 "cells": [
  {
   "cell_type": "markdown",
   "metadata": {},
   "source": [
    "# Deep Cross Correlation between EEG and BOLD signal"
   ]
  },
  {
   "cell_type": "markdown",
   "metadata": {},
   "source": [
    "#### GOAL: perform convolution among bands and channels for each timestep, with non linear activations, in order to have a signal of the same length as the BOLD signal and correlate them"
   ]
  },
  {
   "cell_type": "markdown",
   "metadata": {},
   "source": [
    "#### The loss will be the inverse cross correlation between the activation signal and BOLD signal"
   ]
  },
  {
   "cell_type": "code",
   "execution_count": 15,
   "metadata": {},
   "outputs": [],
   "source": [
    "import sys\n",
    "sys.path.append(\"..\")\n",
    "\n",
    "import eeg_utils\n",
    "import fmri_utils\n",
    "\n",
    "import numpy as np\n",
    "from numpy import correlate\n",
    "\n",
    "import matplotlib.pyplot as plt\n",
    "\n",
    "import mne\n",
    "from nilearn.masking import apply_mask, compute_epi_mask\n",
    "\n",
    "from sklearn.preprocessing import normalize\n",
    "\n",
    "from scipy.signal import resample"
   ]
  },
  {
   "cell_type": "code",
   "execution_count": 36,
   "metadata": {},
   "outputs": [
    {
     "name": "stdout",
     "output_type": "stream",
     "text": [
      "Extracting parameters from /home/david/eeg_informed_fmri/datasets/01/EEG/32/export/20130410320002_Segmentation_bin.vhdr...\n",
      "Setting channel info structure...\n",
      "Reading 0 ... 162022  =      0.000 ...   648.088 secs...\n"
     ]
    },
    {
     "name": "stderr",
     "output_type": "stream",
     "text": [
      "../eeg_utils.py:35: RuntimeWarning: No coordinate information found for channels ['ECG']. Setting channel types to misc. To avoid this warning, set channel types explicitly.\n",
      "  return mne.io.read_raw_brainvision(complete_path, preload=True)\n"
     ]
    }
   ],
   "source": [
    "X = []\n",
    "y = []\n",
    "\n",
    "start_cutoff = 3\n",
    "\n",
    "TR = 1/2.160\n",
    "\n",
    "for individual in range(16):\n",
    "    eeg = eeg_utils.get_eeg_instance(individual)\n",
    "    x_instance = []\n",
    "    #eeg\n",
    "    for channel in range(len(eeg.ch_names)):\n",
    "        f, Zxx, t = eeg_utils.stft(eeg, channel=channel, window_size=2)\n",
    "        x_instance += [eeg_utils.mutate_stft_to_bands(Zxx, f, t)[:,:321]]\n",
    "    \n",
    "    #fmri\n",
    "    fmri_masked_instance = fmri_utils.get_fmri_instance(individual)\n",
    "    #for voxel in range(fmri_masked_instance.shape[1]):\n",
    "    for voxel in range(100):\n",
    "        voxel = fmri_utils.get_voxel(fmri_masked_instance, voxel=voxel)\n",
    "        voxel_resampled = resample(voxel, int((len(voxel)*(1/2))/TR))\n",
    "\n",
    "        X += [x_instance]\n",
    "        y += [voxel_resampled[start_cutoff:]]\n",
    "    \n",
    "    break\n",
    "\n",
    "X = np.array(X)\n",
    "y = np.array(y)"
   ]
  },
  {
   "cell_type": "markdown",
   "metadata": {},
   "source": [
    "#### Lack of data, due to only having space for 100 instances:\n",
    "\n",
    "Our dataset has multiple X instances being equal with different target y"
   ]
  },
  {
   "cell_type": "markdown",
   "metadata": {},
   "source": [
    "### Defining our network"
   ]
  },
  {
   "cell_type": "code",
   "execution_count": 58,
   "metadata": {},
   "outputs": [
    {
     "name": "stdout",
     "output_type": "stream",
     "text": [
      "_________________________________________________________________\n",
      "Layer (type)                 Output Shape              Param #   \n",
      "=================================================================\n",
      "conv3d_24 (Conv3D)           (None, 1, 1, 321, 1)      321       \n",
      "_________________________________________________________________\n",
      "flatten_5 (Flatten)          (None, 321)               0         \n",
      "=================================================================\n",
      "Total params: 321\n",
      "Trainable params: 321\n",
      "Non-trainable params: 0\n",
      "_________________________________________________________________\n",
      "None\n"
     ]
    }
   ],
   "source": [
    "import keras\n",
    "\n",
    "from keras.models import Sequential\n",
    "from keras.layers import Conv3D, Flatten\n",
    "from keras.optimizers import Adam\n",
    "from keras.losses import mae\n",
    "\n",
    "import keras.backend as K\n",
    "\n",
    "X = X.reshape(X.shape[0], X.shape[1], X.shape[2], X.shape[3], 1)\n",
    "\n",
    "input_shape = (X.shape[1], X.shape[2], X.shape[3], 1)\n",
    "\n",
    "kernel_size = (X.shape[1], X.shape[2], 1)\n",
    "\n",
    "model = Sequential()\n",
    "\n",
    "model.add(Conv3D(1, kernel_size=(64, 5, 1),\n",
    "                 activation='relu',\n",
    "                 input_shape=input_shape))\n",
    "\n",
    "model.add(Flatten())\n",
    "\n",
    "print(model.summary())"
   ]
  },
  {
   "cell_type": "markdown",
   "metadata": {},
   "source": [
    "### Let's define a cross correlation loss"
   ]
  },
  {
   "cell_type": "code",
   "execution_count": 59,
   "metadata": {},
   "outputs": [],
   "source": [
    "def cross_correlation(x, y):\n",
    "    \n",
    "    #how should the normalization be done??\n",
    "    x = K.l2_normalize(x, axis=1)\n",
    "    y = K.l2_normalize(y, axis=1)\n",
    "\n",
    "    a = K.batch_dot(x, y, axes=1)\n",
    "\n",
    "    b = K.batch_dot(x, x, axes=1)\n",
    "    c = K.batch_dot(y, y, axes=1)\n",
    "\n",
    "    return 1 - (a / (K.sqrt(b) * K.sqrt(c)))\n",
    "\n",
    "model.compile(loss=cross_correlation, optimizer=Adam())"
   ]
  },
  {
   "cell_type": "markdown",
   "metadata": {},
   "source": [
    "## Finally train and see if it converges"
   ]
  },
  {
   "cell_type": "code",
   "execution_count": 62,
   "metadata": {},
   "outputs": [],
   "source": [
    "history = model.fit(X, y, epochs=100, verbose=0)"
   ]
  },
  {
   "cell_type": "code",
   "execution_count": 65,
   "metadata": {},
   "outputs": [
    {
     "data": {
      "image/png": "[encoded data removed]",
      "text/plain": [
       "<Figure size 432x288 with 1 Axes>"
      ]
     },
     "metadata": {
      "needs_background": "light"
     },
     "output_type": "display_data"
    }
   ],
   "source": [
    "import matplotlib.pyplot as plt\n",
    "\n",
    "plt.plot(history.history['loss'])\n",
    "plt.show()"
   ]
  },
  {
   "cell_type": "markdown",
   "metadata": {},
   "source": [
    "## Extract the activations and plot the cross-correlation coefficients"
   ]
  },
  {
   "cell_type": "code",
   "execution_count": 66,
   "metadata": {},
   "outputs": [],
   "source": [
    "eeg_embeddings = model.predict(X)"
   ]
  },
  {
   "cell_type": "code",
   "execution_count": 86,
   "metadata": {},
   "outputs": [
    {
     "name": "stdout",
     "output_type": "stream",
     "text": [
      "[7648.1280569] [1653.00731895]\n"
     ]
    }
   ],
   "source": [
    "deep_corr = correlate(eeg_embeddings[0], y[0])\n",
    "linear_corr = correlate(X[0][0][0].reshape(1,-1)[0], y[0])\n",
    "print(deep_corr, linear_corr)"
   ]
  }
 ],
 "metadata": {
  "kernelspec": {
   "display_name": "Python 3",
   "language": "python",
   "name": "python3"
  },
  "language_info": {
   "codemirror_mode": {
    "name": "ipython",
    "version": 3
   },
   "file_extension": ".py",
   "mimetype": "text/x-python",
   "name": "python",
   "nbconvert_exporter": "python",
   "pygments_lexer": "ipython3",
   "version": "3.6.9"
  }
 },
 "nbformat": 4,
 "nbformat_minor": 2
}
