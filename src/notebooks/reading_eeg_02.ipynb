{
 "cells": [
  {
   "cell_type": "code",
   "execution_count": 13,
   "metadata": {},
   "outputs": [
    {
     "name": "stderr",
     "output_type": "stream",
     "text": [
      "/home/davidcalhas/anaconda3/envs/fmri_eeg/lib/python3.6/site-packages/sklearn/externals/joblib/__init__.py:15: DeprecationWarning: sklearn.externals.joblib is deprecated in 0.21 and will be removed in 0.23. Please import this functionality directly from joblib, which can be installed with: pip install joblib. If this warning is raised when loading pickled models, you may need to re-serialize those models with scikit-learn 0.21+.\n",
      "  warnings.warn(msg, category=DeprecationWarning)\n"
     ]
    }
   ],
   "source": [
    "import sys\n",
    "sys.path.append(\"..\")\n",
    "\n",
    "import utils.eeg_utils\n",
    "\n",
    "import numpy as np\n",
    "import matplotlib.pyplot as plt\n",
    "\n",
    "import scipy.io\n",
    "\n",
    "import h5py\n",
    "\n",
    "from scipy import fft\n",
    "\n",
    "\n",
    "import os\n",
    "from os import listdir\n",
    "from os.path import isfile, join, isdir\n",
    "\n",
    "from nilearn import plotting\n",
    "from nilearn import image\n",
    "from nilearn import _utils\n",
    "from nilearn.input_data import NiftiMasker\n",
    "from nilearn.decomposition import CanICA\n",
    "from nilearn.masking import apply_mask, compute_epi_mask, compute_multi_epi_mask, _apply_mask_fmri\n",
    "from nilearn.image import smooth_img, index_img, iter_img, clean_img, math_img, mean_img, new_img_like\n"
   ]
  },
  {
   "cell_type": "code",
   "execution_count": 2,
   "metadata": {},
   "outputs": [],
   "source": [
    "#mat = scipy.io.loadmat('file.mat')\n",
    "\n",
    "dataset = '/home/davidcalhas/eeg_to_fmri/datasets/02/wEEG'\n",
    "\n",
    "individual = '/sub001/EEG'\n",
    "\n",
    "run = '/task001_run001/EEG_noGA.mat'\n",
    "\n",
    "complete_path = dataset + individual + run\n",
    "\n",
    "import scipy.io\n",
    "eeg_file = scipy.io.loadmat(complete_path)"
   ]
  },
  {
   "cell_type": "code",
   "execution_count": 3,
   "metadata": {},
   "outputs": [],
   "source": [
    "eeg_data = eeg_file['data_noGA']"
   ]
  },
  {
   "cell_type": "code",
   "execution_count": 4,
   "metadata": {},
   "outputs": [],
   "source": [
    "fs = 1000"
   ]
  },
  {
   "cell_type": "code",
   "execution_count": 5,
   "metadata": {},
   "outputs": [],
   "source": [
    "def plot_fft(eeg, channel=0, fs=1000, max_freq=30000, start_time=None, stop_time=None):\n",
    "    y = eeg[channel][:]\n",
    "\n",
    "    if(start_time == None):\n",
    "        start_time = 0\n",
    "    if(stop_time == None):\n",
    "        stop_time = len(y)\n",
    "\n",
    "    fft1 = compute_fft(y[start_time:stop_time], fs=fs)\n",
    "\n",
    "    N = int(len(y[start_time:stop_time])/2)\n",
    "    f = np.linspace (0, fs, N/2)\n",
    "\n",
    "    plt.figure(1)\n",
    "    plt.plot (f[1:max_freq], abs (fft1)[1:max_freq])\n",
    "    plt.title ('Magnitude of each frequency')\n",
    "    plt.xlabel ('Frequency (Hz)')\n",
    "    plt.show()\n",
    "    \n",
    "def compute_fft(channel, fs=128):\n",
    "    N = int(len(channel)/2)\n",
    "\n",
    "    fft1 = fft(channel)\n",
    "\n",
    "    return fft1[range(int(N/2))]"
   ]
  },
  {
   "cell_type": "code",
   "execution_count": 6,
   "metadata": {},
   "outputs": [
    {
     "data": {
      "image/png": "[encoded data removed]",
      "text/plain": [
       "<Figure size 432x288 with 1 Axes>"
      ]
     },
     "metadata": {
      "needs_background": "light"
     },
     "output_type": "display_data"
    }
   ],
   "source": [
    "plot_fft(eeg_data, channel=5)"
   ]
  },
  {
   "cell_type": "code",
   "execution_count": 7,
   "metadata": {},
   "outputs": [],
   "source": [
    "def stft(eeg, channel=0, window_size=2, fs=1000, start_time=None, stop_time=None):\n",
    "    signal = eeg[channel][:]\n",
    "\n",
    "\n",
    "    if(start_time == None):\n",
    "        start_time = 0\n",
    "    if(stop_time == None):\n",
    "        stop_time = len(signal)\n",
    "    signal = signal[start_time:stop_time]\n",
    "\n",
    "    t = []\n",
    "\n",
    "\n",
    "\n",
    "    fs_window_size = int(window_size*fs)\n",
    "\n",
    "\n",
    "    Z = []\n",
    "    seconds = 0\n",
    "    for time in range(start_time, stop_time, fs_window_size):\n",
    "        fft1 = compute_fft(signal[time:time+fs_window_size], fs=fs)\n",
    "\n",
    "        N = len(signal[time:time+fs_window_size])/2\n",
    "        f = np.linspace (0, len(fft1), N/2)\n",
    "\n",
    "        #average\n",
    "        Z += [list(abs(fft1[1:]))]\n",
    "        t += [seconds]\n",
    "        seconds += window_size\n",
    "\n",
    "    return f[1:], np.transpose(np.array(Z)), t\n",
    "\n",
    "def plot_stft(eeg, channel=2, window_size=2, min_freq=None, fs=1000, max_freq=None):\n",
    "    f, Zxx, t = stft(eeg, channel=channel, fs=fs, window_size=window_size)\n",
    "\n",
    "    if(min_freq == None):\n",
    "        min_freq = 0\n",
    "    if(max_freq == None):\n",
    "        max_freq = len(Zxx)\n",
    "\n",
    "    Zxx = Zxx[min_freq:max_freq]\n",
    "    f = f[min_freq:max_freq]\n",
    "\n",
    "    amplitude = np.max(Zxx)\n",
    "\n",
    "    im = plt.pcolormesh(t, f, abs(Zxx), vmin=0, vmax=amplitude)\n",
    "\n",
    "    plt.colorbar(im)\n",
    "    plt.show()"
   ]
  },
  {
   "cell_type": "code",
   "execution_count": 8,
   "metadata": {},
   "outputs": [],
   "source": [
    "def get_eeg_instance(individual, run=0, path_eeg='/home/david/eeg_informed_fmri/datasets/01/EEG/', preprocessed=True):\n",
    "\n",
    "    individuals = sorted([f for f in listdir(path_eeg) if isdir(join(path_eeg, f))])\n",
    "    print(individuals)\n",
    "    \n",
    "    path_eeg = path_eeg + '/' + individuals[individual] + '/EEG'\n",
    "    \n",
    "    runs = sorted([f for f in listdir(path_eeg) if isdir(join(path_eeg, f))])\n",
    "    \n",
    "    run = runs[run]\n",
    "\n",
    "    if(preprocessed):\n",
    "        path = path_eeg + '/' + run + '/EEG_noGA.mat'\n",
    "    else:\n",
    "        path = path_eeg + '/' + run + '/EEG_noGA.mat'\n",
    "\n",
    "\n",
    "    eeg_file = scipy.io.loadmat(path)\n",
    "    \n",
    "    return eeg_file['data_noGA']"
   ]
  },
  {
   "cell_type": "code",
   "execution_count": 9,
   "metadata": {},
   "outputs": [
    {
     "name": "stdout",
     "output_type": "stream",
     "text": [
      "['sub001', 'sub002', 'sub003', 'sub004', 'sub005', 'sub006', 'sub007', 'sub008', 'sub009', 'sub010', 'sub011', 'sub012', 'sub013', 'sub014']\n"
     ]
    },
    {
     "data": {
      "text/plain": [
       "(49, 340000)"
      ]
     },
     "execution_count": 9,
     "metadata": {},
     "output_type": "execute_result"
    }
   ],
   "source": [
    "get_eeg_instance(13, run=4, path_eeg=dataset).shape"
   ]
  },
  {
   "cell_type": "markdown",
   "metadata": {},
   "source": [
    "# Read the whole data from the subjects"
   ]
  },
  {
   "cell_type": "code",
   "execution_count": 10,
   "metadata": {},
   "outputs": [],
   "source": [
    "def get_data(individuals, masker=None, start_cutoff=3, bold_shift=3, n_partitions=16, by_partitions=True, partition_length=None, n_voxels=None, f_resample=2, roi=None, roi_ica_components=None):\n",
    "    TR = 1/2.160\n",
    "\n",
    "    X = []\n",
    "    y = []\n",
    "\n",
    "\n",
    "    #setting ICA\n",
    "    if(roi != None and roi_ica_components != None):\n",
    "        individuals_imgs = fmri_utils.get_individuals_paths()\n",
    "        roi_extraction = fmri_utils.roi_time_series()\n",
    "        roi_extraction._set_ICA(individuals_imgs, n_components=roi_ica_components)\n",
    "\n",
    "    for individual in individuals:\n",
    "        eeg = get_eeg_instance(individual)\n",
    "        x_instance = []\n",
    "        #eeg\n",
    "        for channel in range(len(eeg.ch_names)):\n",
    "            f, Zxx, t = eeg_utils.stft(eeg, channel=channel, window_size=f_resample) \n",
    "            Zxx_mutated = eeg_utils.mutate_stft_to_bands(Zxx, f, t)\n",
    "\n",
    "            x_instance += [Zxx_mutated]\n",
    "\n",
    "        x_instance = np.array(x_instance)\n",
    "\n",
    "        #fmri\n",
    "        if(roi != None and roi_ica_components != None):\n",
    "            fmri_masked_instance = roi_extraction.get_ROI_time_series(individuals_imgs[individual], component=roi)\n",
    "        else:\n",
    "            fmri_instance = fmri_utils.get_fmri_instance_img(individual)\n",
    "            fmri_masked_instance, _ = fmri_utils.get_masked_epi(fmri_instance, masker)\n",
    "\n",
    "        fmri_resampled = []\n",
    "        #build resampled BOLD signal\n",
    "        if(n_voxels == None):\n",
    "            n_voxels = fmri_masked_instance.shape[1]\n",
    "\n",
    "        for voxel in range(n_voxels):\n",
    "            voxel = fmri_utils.get_voxel(fmri_masked_instance, voxel=voxel)\n",
    "            voxel_resampled = resample(voxel, int((len(voxel)*(1/f_resample))/TR))\n",
    "            fmri_resampled += [voxel_resampled]\n",
    "\n",
    "        fmri_resampled = np.array(fmri_resampled)\n",
    "\n",
    "        if(by_partitions):\n",
    "\n",
    "            for partition in range(n_partitions):\n",
    "                start_eeg = start_cutoff + int((fmri_resampled.shape[1]-start_cutoff-bold_shift)/n_partitions)*partition\n",
    "                end_eeg = start_cutoff + int((fmri_resampled.shape[1]-start_cutoff-bold_shift)/n_partitions)*partition + int((fmri_resampled.shape[1]-start_cutoff-bold_shift)/n_partitions)\n",
    "\n",
    "                start_bold = start_eeg+bold_shift\n",
    "                end_bold = end_eeg+bold_shift\n",
    "\n",
    "                X += [x_instance[:,:,start_eeg:end_eeg]]\n",
    "\n",
    "                y += list(fmri_resampled[:,start_bold:end_bold].reshape(1, fmri_resampled[:,start_bold:end_bold].shape[0], fmri_resampled[:,start_bold:end_bold].shape[1]))\n",
    "        else:\n",
    "            total_partitions = fmri_resampled.shape[1]//partition_length\n",
    "            for partition in range(total_partitions):\n",
    "\n",
    "                start_eeg = start_cutoff + int((fmri_resampled.shape[1]-start_cutoff-bold_shift)/(total_partitions))*partition\n",
    "                end_eeg = start_cutoff + int((fmri_resampled.shape[1]-start_cutoff-bold_shift)/(total_partitions))*partition + int((fmri_resampled.shape[1]-start_cutoff-bold_shift)/(total_partitions))\n",
    "\n",
    "                start_bold = start_eeg+bold_shift\n",
    "                end_bold = end_eeg+bold_shift\n",
    "\n",
    "                X += [x_instance[:,:,start_eeg:end_eeg]]\n",
    "\n",
    "                y += list(fmri_resampled[:,start_bold:end_bold].reshape(1, fmri_resampled[:,start_bold:end_bold].shape[0], fmri_resampled[:,start_bold:end_bold].shape[1]))\n",
    "                \n",
    "        print(np.array(y).shape)\n",
    "\n",
    "    X = np.array(X)\n",
    "    y = np.array(y)\n",
    "\n",
    "    return X, y"
   ]
  },
  {
   "cell_type": "code",
   "execution_count": null,
   "metadata": {},
   "outputs": [],
   "source": [
    "def get_population_mask(path_fmri='/home/david/eeg_informed_fmri/datasets/01/fMRI/'):\n",
    "\n",
    "    individuals = sorted([f for f in listdir(path_fmri) if isdir(join(path_fmri, f))])\n",
    "    \n",
    "    individuals_images = []\n",
    "    \n",
    "    target_affine = image.load_img(path_fmri + individuals[0] + '/BOLD/task001_run001/bold.nii.gz').affine\n",
    "    target_shape = image.load_img(path_fmri + individuals[0] + '/BOLD/task001_run001/bold.nii.gz').shape\n",
    "    target_shape = (target_shape[0], target_shape[1], target_shape[2])\n",
    "    \n",
    "    for individual in individuals:\n",
    "        bold_dir = path_fmri + individual + '/BOLD/'\n",
    "        runs = sorted([f for f in listdir(bold_dir) if isdir(join(bold_dir, f))])\n",
    "        \n",
    "        for run in runs:\n",
    "            individual_path = bold_dir + run + '/bold.nii.gz'\n",
    "        \n",
    "            if(image.load_img(individual_path).affine[0][-1] != 0.0):\n",
    "\n",
    "                fmri_image = image.resample_img(image.load_img(individual_path), target_affine=target_affine, target_shape=target_shape)\n",
    "\n",
    "                individuals_images += [fmri_image]\n",
    "\n",
    "    concatenated_imgs = image.concat_imgs(individuals_images)\n",
    "\n",
    "    return NiftiMasker(compute_multi_epi_mask(individuals_images), standardize=True).fit(concatenated_imgs)\n",
    "\n",
    "\n",
    "dataset = '/home/davidcalhas/eeg_to_fmri/datasets/02/wEEG/'\n",
    "\n",
    "mask = get_population_mask(path_fmri=dataset)"
   ]
  },
  {
   "cell_type": "code",
   "execution_count": 20,
   "metadata": {},
   "outputs": [
    {
     "data": {
      "text/plain": [
       "NiftiMasker(detrend=False, dtype=None, high_pass=None, low_pass=None,\n",
       "            mask_args=None,\n",
       "            mask_img=<nibabel.nifti1.Nifti1Image object at 0x7ff91033ad68>,\n",
       "            mask_strategy='background', memory=Memory(location=None),\n",
       "            memory_level=1, sample_mask=None, sessions=None,\n",
       "            smoothing_fwhm=None, standardize=True, t_r=None, target_affine=None,\n",
       "            target_shape=None, verbose=0)"
      ]
     },
     "execution_count": 20,
     "metadata": {},
     "output_type": "execute_result"
    }
   ],
   "source": [
    "#Load Data\n",
    "eeg_train, bold_train = get_data(list(range(10)), masker=mask, \n",
    "                                 n_voxels=None, bold_shift=3, n_partitions=25, \n",
    "                                 by_partitions=False, partition_length=None,\n",
    "                                 f_resample=2, roi=0, roi_ica_components=20)"
   ]
  },
  {
   "cell_type": "code",
   "execution_count": null,
   "metadata": {},
   "outputs": [],
   "source": []
  }
 ],
 "metadata": {
  "kernelspec": {
   "display_name": "Python 3",
   "language": "python",
   "name": "python3"
  },
  "language_info": {
   "codemirror_mode": {
    "name": "ipython",
    "version": 3
   },
   "file_extension": ".py",
   "mimetype": "text/x-python",
   "name": "python",
   "nbconvert_exporter": "python",
   "pygments_lexer": "ipython3",
   "version": "3.6.9"
  }
 },
 "nbformat": 4,
 "nbformat_minor": 2
}
