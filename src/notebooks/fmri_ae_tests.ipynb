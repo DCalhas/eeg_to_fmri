{
 "cells": [
  {
   "cell_type": "code",
   "execution_count": 1,
   "metadata": {},
   "outputs": [
    {
     "name": "stdout",
     "output_type": "stream",
     "text": [
      "warning in stationary: failed to import cython module: falling back to numpy\n",
      "warning in coregionalize: failed to import cython module: falling back to numpy\n",
      "warning in choleskies: failed to import cython module: falling back to numpy\n"
     ]
    }
   ],
   "source": [
    "import sys\n",
    "\n",
    "sys.path.append(\"..\")\n",
    "\n",
    "import tensorflow as tf\n",
    "\n",
    "import numpy as np\n",
    "\n",
    "import GPyOpt\n",
    "\n",
    "import argparse\n",
    "\n",
    "from utils import tf_config, preprocess_data, search_algorithms, train\n",
    "\n",
    "from models import fmri_ae, eeg_to_fmri, uniconv_fmri\n",
    "\n",
    "from layers import locally_connected\n",
    "\n",
    "import matplotlib.pyplot as plt\n",
    "\n",
    "import gc\n",
    "\n",
    "import os\n",
    "\n",
    "\n",
    "dataset=\"01\"\n",
    "memory_limit=800\n",
    "n_individuals=8\n",
    "interval_eeg=6\n",
    "\n",
    "tf_config.setup_tensorflow(device=\"CPU\", memory_limit=memory_limit, seed=42)\n",
    "\n",
    "with tf.device('/CPU:0'):\n",
    "    #train_data, _ = preprocess_data.dataset(dataset, n_individuals=n_individuals, interval_eeg=interval_eeg, file_output=file_output, verbose=True)\n",
    "    #_, fmri_train =train_data\n",
    "    #eeg_val, fmri_val =val_data\n",
    "    \n",
    "    fmri_train = tf.zeros((296, 64, 64, 32, 1))"
   ]
  },
  {
   "cell_type": "markdown",
   "metadata": {},
   "source": [
    "## Create dataset and hyperparameter definition"
   ]
  },
  {
   "cell_type": "code",
   "execution_count": 2,
   "metadata": {},
   "outputs": [],
   "source": [
    "batch_size=1\n",
    "learning_rate=0.001\n",
    "skip_connections=True\n",
    "maxpool=False\n",
    "batch_norm=True\n",
    "weight_decay=1e-5\n",
    "n_channels=32\n",
    "latent_dimension=(5,5,5)\n",
    "kernel_size=(9,9,5)\n",
    "stride_size=(1,1,1)\n",
    "n_stacks=3\n",
    "\n",
    "optimizer = tf.keras.optimizers.Adam(learning_rate)\n",
    "loss_fn = tf.keras.losses.MSE\n",
    "\n",
    "train_set = tf.data.Dataset.from_tensor_slices((fmri_train, fmri_train)).batch(batch_size)"
   ]
  },
  {
   "cell_type": "markdown",
   "metadata": {},
   "source": [
    "## Build model"
   ]
  },
  {
   "cell_type": "code",
   "execution_count": 3,
   "metadata": {},
   "outputs": [
    {
     "name": "stdout",
     "output_type": "stream",
     "text": [
      "WARNING:tensorflow:From /home/david/anaconda3/envs/eeg_fmri/lib/python3.8/site-packages/tensorflow/python/ops/math_ops.py:3299: sparse_mat_mul (from tensorflow.python.ops.gen_math_ops) is deprecated and will be removed in a future version.\n",
      "Instructions for updating:\n",
      "Use `tf.linalg.matmul` instead\n"
     ]
    }
   ],
   "source": [
    "model = fmri_ae.fMRI_AE(latent_dimension, fmri_train.shape[1:], \n",
    "                kernel_size, stride_size, n_channels,\n",
    "                maxpool=maxpool, batch_norm=batch_norm, weight_decay=weight_decay, \n",
    "                skip_connections=skip_connections, n_stacks=n_stacks, \n",
    "                local=False, local_attention=False)"
   ]
  },
  {
   "cell_type": "markdown",
   "metadata": {},
   "source": [
    "## Train"
   ]
  },
  {
   "cell_type": "code",
   "execution_count": null,
   "metadata": {},
   "outputs": [
    {
     "name": "stdout",
     "output_type": "stream",
     "text": [
      "STARTED\n",
      "ONE BATCH\n",
      "STARTED\n"
     ]
    }
   ],
   "source": [
    "#train\n",
    "train_loss, val_loss = train.train(train_set, model, optimizer, \n",
    "                                   loss_fn, epochs=10, \n",
    "                                   val_set=None, verbose=True)"
   ]
  },
  {
   "cell_type": "code",
   "execution_count": null,
   "metadata": {},
   "outputs": [],
   "source": []
  }
 ],
 "metadata": {
  "kernelspec": {
   "display_name": "Python 3",
   "language": "python",
   "name": "python3"
  },
  "language_info": {
   "codemirror_mode": {
    "name": "ipython",
    "version": 3
   },
   "file_extension": ".py",
   "mimetype": "text/x-python",
   "name": "python",
   "nbconvert_exporter": "python",
   "pygments_lexer": "ipython3",
   "version": "3.8.5"
  }
 },
 "nbformat": 4,
 "nbformat_minor": 4
}
