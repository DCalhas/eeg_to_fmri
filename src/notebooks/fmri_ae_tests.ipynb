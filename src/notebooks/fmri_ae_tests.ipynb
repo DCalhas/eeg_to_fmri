{
 "cells": [
  {
   "cell_type": "code",
   "execution_count": 1,
   "metadata": {},
   "outputs": [
    {
     "name": "stdout",
     "output_type": "stream",
     "text": [
      "warning in stationary: failed to import cython module: falling back to numpy\n",
      "warning in coregionalize: failed to import cython module: falling back to numpy\n",
      "warning in choleskies: failed to import cython module: falling back to numpy\n",
      "I: Starting to Load Data\n",
      "I: Finished Loading Data\n",
      "I: Pairs Created\n"
     ]
    }
   ],
   "source": [
    "import sys\n",
    "\n",
    "sys.path.append(\"..\")\n",
    "\n",
    "import tensorflow as tf\n",
    "\n",
    "import numpy as np\n",
    "\n",
    "import GPyOpt\n",
    "\n",
    "import argparse\n",
    "\n",
    "from utils import tf_config, preprocess_data, search_algorithms, train\n",
    "\n",
    "from models import fmri_ae, eeg_to_fmri, uniconv_fmri\n",
    "\n",
    "from layers import locally_connected\n",
    "\n",
    "import matplotlib.pyplot as plt\n",
    "\n",
    "import gc\n",
    "\n",
    "import os\n",
    "\n",
    "from sklearn.model_selection import train_test_split, KFold\n",
    "\n",
    "import time\n",
    "\n",
    "dataset=\"01\"\n",
    "memory_limit=1500\n",
    "n_individuals=8\n",
    "interval_eeg=6\n",
    "\n",
    "tf_config.set_seed(seed=42)\n",
    "tf_config.setup_tensorflow(device=\"GPU\", memory_limit=memory_limit)\n",
    "\n",
    "with tf.device('/CPU:0'):\n",
    "    train_data, _ = preprocess_data.dataset(dataset, n_individuals=n_individuals, \n",
    "                                            interval_eeg=interval_eeg, \n",
    "                                            ind_volume_fit=False,\n",
    "                                            standardize_fmri=False,\n",
    "                                            iqr=True,\n",
    "                                            verbose=True)\n",
    "    _, fmri_train =train_data\n",
    "    #eeg_val, fmri_val =val_data\n",
    "    \n",
    "    fmri_train = fmri_train[:296]\n",
    "    \n",
    "    train_x, val_x = train_test_split(fmri_train, test_size=0.2, shuffle=True, random_state=42)"
   ]
  },
  {
   "cell_type": "markdown",
   "metadata": {},
   "source": [
    "## Create dataset and hyperparameter definition"
   ]
  },
  {
   "cell_type": "code",
   "execution_count": 2,
   "metadata": {},
   "outputs": [],
   "source": [
    "batch_size=16\n",
    "learning_rate=0.0001\n",
    "skip_connections=True\n",
    "maxpool=True\n",
    "batch_norm=True\n",
    "weight_decay=1e-5\n",
    "n_channels=16\n",
    "latent_dimension=(5,5,5)\n",
    "kernel_size=(9,9,4)\n",
    "stride_size=(1,1,1)\n",
    "encoding_kernel_size=(3,3,3)\n",
    "encoding_stride_size=(1,1,1)\n",
    "n_stacks=3\n",
    "\n",
    "optimizer = tf.keras.optimizers.Adam(learning_rate)\n",
    "loss_fn = tf.keras.losses.MSE\n",
    "\n",
    "train_set = tf.data.Dataset.from_tensor_slices((train_x, train_x)).batch(batch_size)\n",
    "dev_set = tf.data.Dataset.from_tensor_slices((val_x, val_x)).batch(1)"
   ]
  },
  {
   "cell_type": "markdown",
   "metadata": {},
   "source": [
    "## Build model"
   ]
  },
  {
   "cell_type": "code",
   "execution_count": 3,
   "metadata": {
    "scrolled": true
   },
   "outputs": [],
   "source": [
    "import importlib\n",
    "importlib.reload(fmri_ae)\n",
    "\n",
    "with tf.device('/CPU:0'):\n",
    "    model = fmri_ae.fMRI_AE(latent_dimension, train_x.shape[1:], \n",
    "                    kernel_size, stride_size, n_channels,\n",
    "                    maxpool=maxpool, batch_norm=batch_norm, weight_decay=weight_decay, \n",
    "                    skip_connections=skip_connections, n_stacks=n_stacks, \n",
    "                    local=True, local_attention=False, outfilter=0)\n",
    "    \n",
    "    model.build(input_shape=(None,)+train_x.shape[1:])"
   ]
  },
  {
   "cell_type": "markdown",
   "metadata": {},
   "source": [
    "## Number of parameters"
   ]
  },
  {
   "cell_type": "code",
   "execution_count": 4,
   "metadata": {},
   "outputs": [
    {
     "name": "stdout",
     "output_type": "stream",
     "text": [
      "Model: \"f_mri_ae\"\n",
      "_________________________________________________________________\n",
      "Layer (type)                 Output Shape              Param #   \n",
      "=================================================================\n",
      "model (Functional)           (None, 5, 5, 5)           1950893   \n",
      "_________________________________________________________________\n",
      "model_1 (Functional)         (None, 64, 64, 30, 1)     15482880  \n",
      "=================================================================\n",
      "Total params: 17,433,773\n",
      "Trainable params: 17,433,453\n",
      "Non-trainable params: 320\n",
      "_________________________________________________________________\n",
      "None\n"
     ]
    }
   ],
   "source": [
    "print(model.summary())"
   ]
  },
  {
   "cell_type": "code",
   "execution_count": 5,
   "metadata": {},
   "outputs": [
    {
     "name": "stdout",
     "output_type": "stream",
     "text": [
      "Model: \"model\"\n",
      "__________________________________________________________________________________________________\n",
      "Layer (type)                    Output Shape         Param #     Connected to                     \n",
      "==================================================================================================\n",
      "input_1 (InputLayer)            [(None, 64, 64, 30,  0                                            \n",
      "__________________________________________________________________________________________________\n",
      "conv3d (Conv3D)                 (None, 56, 56, 27, 1 5200        input_1[0][0]                    \n",
      "__________________________________________________________________________________________________\n",
      "max_pooling3d (MaxPooling3D)    (None, 55, 55, 27, 1 0           conv3d[0][0]                     \n",
      "__________________________________________________________________________________________________\n",
      "batch_normalization (BatchNorma (None, 55, 55, 27, 1 64          max_pooling3d[0][0]              \n",
      "__________________________________________________________________________________________________\n",
      "re_lu (ReLU)                    (None, 55, 55, 27, 1 0           batch_normalization[0][0]        \n",
      "__________________________________________________________________________________________________\n",
      "conv3d_1 (Conv3D)               (None, 47, 47, 24, 1 82960       re_lu[0][0]                      \n",
      "__________________________________________________________________________________________________\n",
      "max_pooling3d_1 (MaxPooling3D)  (None, 46, 46, 24, 1 0           conv3d_1[0][0]                   \n",
      "__________________________________________________________________________________________________\n",
      "batch_normalization_1 (BatchNor (None, 46, 46, 24, 1 64          max_pooling3d_1[0][0]            \n",
      "__________________________________________________________________________________________________\n",
      "conv3d_2 (Conv3D)               (None, 46, 46, 24, 1 40448       input_1[0][0]                    \n",
      "__________________________________________________________________________________________________\n",
      "re_lu_1 (ReLU)                  (None, 46, 46, 24, 1 0           batch_normalization_1[0][0]      \n",
      "__________________________________________________________________________________________________\n",
      "batch_normalization_2 (BatchNor (None, 46, 46, 24, 1 64          conv3d_2[0][0]                   \n",
      "__________________________________________________________________________________________________\n",
      "add (Add)                       (None, 46, 46, 24, 1 0           re_lu_1[0][0]                    \n",
      "                                                                 batch_normalization_2[0][0]      \n",
      "__________________________________________________________________________________________________\n",
      "re_lu_2 (ReLU)                  (None, 46, 46, 24, 1 0           add[0][0]                        \n",
      "__________________________________________________________________________________________________\n",
      "conv3d_3 (Conv3D)               (None, 38, 38, 21, 1 82960       re_lu_2[0][0]                    \n",
      "__________________________________________________________________________________________________\n",
      "max_pooling3d_2 (MaxPooling3D)  (None, 37, 37, 21, 1 0           conv3d_3[0][0]                   \n",
      "__________________________________________________________________________________________________\n",
      "batch_normalization_3 (BatchNor (None, 37, 37, 21, 1 64          max_pooling3d_2[0][0]            \n",
      "__________________________________________________________________________________________________\n",
      "re_lu_3 (ReLU)                  (None, 37, 37, 21, 1 0           batch_normalization_3[0][0]      \n",
      "__________________________________________________________________________________________________\n",
      "conv3d_4 (Conv3D)               (None, 29, 29, 18, 1 82960       re_lu_3[0][0]                    \n",
      "__________________________________________________________________________________________________\n",
      "max_pooling3d_3 (MaxPooling3D)  (None, 28, 28, 18, 1 0           conv3d_4[0][0]                   \n",
      "__________________________________________________________________________________________________\n",
      "batch_normalization_4 (BatchNor (None, 28, 28, 18, 1 64          max_pooling3d_3[0][0]            \n",
      "__________________________________________________________________________________________________\n",
      "conv3d_5 (Conv3D)               (None, 28, 28, 18, 1 646928      re_lu_2[0][0]                    \n",
      "__________________________________________________________________________________________________\n",
      "re_lu_4 (ReLU)                  (None, 28, 28, 18, 1 0           batch_normalization_4[0][0]      \n",
      "__________________________________________________________________________________________________\n",
      "batch_normalization_5 (BatchNor (None, 28, 28, 18, 1 64          conv3d_5[0][0]                   \n",
      "__________________________________________________________________________________________________\n",
      "add_1 (Add)                     (None, 28, 28, 18, 1 0           re_lu_4[0][0]                    \n",
      "                                                                 batch_normalization_5[0][0]      \n",
      "__________________________________________________________________________________________________\n",
      "re_lu_5 (ReLU)                  (None, 28, 28, 18, 1 0           add_1[0][0]                      \n",
      "__________________________________________________________________________________________________\n",
      "conv3d_6 (Conv3D)               (None, 20, 20, 15, 1 82960       re_lu_5[0][0]                    \n",
      "__________________________________________________________________________________________________\n",
      "max_pooling3d_4 (MaxPooling3D)  (None, 19, 19, 15, 1 0           conv3d_6[0][0]                   \n",
      "__________________________________________________________________________________________________\n",
      "batch_normalization_6 (BatchNor (None, 19, 19, 15, 1 64          max_pooling3d_4[0][0]            \n",
      "__________________________________________________________________________________________________\n",
      "re_lu_6 (ReLU)                  (None, 19, 19, 15, 1 0           batch_normalization_6[0][0]      \n",
      "__________________________________________________________________________________________________\n",
      "conv3d_7 (Conv3D)               (None, 11, 11, 12, 1 82960       re_lu_6[0][0]                    \n",
      "__________________________________________________________________________________________________\n",
      "max_pooling3d_5 (MaxPooling3D)  (None, 10, 10, 12, 1 0           conv3d_7[0][0]                   \n",
      "__________________________________________________________________________________________________\n",
      "batch_normalization_7 (BatchNor (None, 10, 10, 12, 1 64          max_pooling3d_5[0][0]            \n",
      "__________________________________________________________________________________________________\n",
      "conv3d_8 (Conv3D)               (None, 10, 10, 12, 1 646928      re_lu_5[0][0]                    \n",
      "__________________________________________________________________________________________________\n",
      "re_lu_7 (ReLU)                  (None, 10, 10, 12, 1 0           batch_normalization_7[0][0]      \n",
      "__________________________________________________________________________________________________\n",
      "batch_normalization_8 (BatchNor (None, 10, 10, 12, 1 64          conv3d_8[0][0]                   \n",
      "__________________________________________________________________________________________________\n",
      "add_2 (Add)                     (None, 10, 10, 12, 1 0           re_lu_7[0][0]                    \n",
      "                                                                 batch_normalization_8[0][0]      \n",
      "__________________________________________________________________________________________________\n",
      "re_lu_8 (ReLU)                  (None, 10, 10, 12, 1 0           add_2[0][0]                      \n",
      "__________________________________________________________________________________________________\n",
      "conv3d_9 (Conv3D)               (None, 4, 4, 6, 16)  87824       re_lu_8[0][0]                    \n",
      "__________________________________________________________________________________________________\n",
      "max_pooling3d_6 (MaxPooling3D)  (None, 3, 3, 6, 16)  0           conv3d_9[0][0]                   \n",
      "__________________________________________________________________________________________________\n",
      "batch_normalization_9 (BatchNor (None, 3, 3, 6, 16)  64          max_pooling3d_6[0][0]            \n",
      "__________________________________________________________________________________________________\n",
      "re_lu_9 (ReLU)                  (None, 3, 3, 6, 16)  0           batch_normalization_9[0][0]      \n",
      "__________________________________________________________________________________________________\n",
      "flatten (Flatten)               (None, 864)          0           re_lu_9[0][0]                    \n",
      "__________________________________________________________________________________________________\n",
      "dense (Dense)                   (None, 125)          108125      flatten[0][0]                    \n",
      "__________________________________________________________________________________________________\n",
      "reshape (Reshape)               (None, 5, 5, 5)      0           dense[0][0]                      \n",
      "==================================================================================================\n",
      "Total params: 1,950,893\n",
      "Trainable params: 1,950,573\n",
      "Non-trainable params: 320\n",
      "__________________________________________________________________________________________________\n"
     ]
    }
   ],
   "source": [
    "model.encoder.summary()"
   ]
  },
  {
   "cell_type": "markdown",
   "metadata": {},
   "source": [
    "## Train"
   ]
  },
  {
   "cell_type": "code",
   "execution_count": 6,
   "metadata": {},
   "outputs": [
    {
     "name": "stdout",
     "output_type": "stream",
     "text": [
      "Epoch 1 with loss: 150155.74973958332\n",
      "Epoch 2 with loss: 11331.629996744792\n",
      "Epoch 3 with loss: 2092.7581868489583\n",
      "Epoch 4 with loss: 862.6957356770833\n",
      "Epoch 5 with loss: 518.0106953938802\n",
      "Epoch 6 with loss: 750.5633850097656\n",
      "Epoch 7 with loss: 992.8703165690105\n",
      "Epoch 8 with loss: 1130.3309753417968\n",
      "Epoch 9 with loss: 620.5688313802083\n",
      "Epoch 10 with loss: 541.1321248372395\n",
      "Time training:  1912.808266401291\n"
     ]
    }
   ],
   "source": [
    "start_time = time.time()\n",
    "\n",
    "#train\n",
    "train_loss, val_loss = train.train(train_set, model, optimizer, \n",
    "                                   loss_fn, epochs=10, \n",
    "                                   val_set=dev_set, verbose=True)\n",
    "\n",
    "print(\"Time training: \", time.time()-start_time)"
   ]
  },
  {
   "cell_type": "markdown",
   "metadata": {},
   "source": [
    "## Plot learning history"
   ]
  },
  {
   "cell_type": "code",
   "execution_count": 7,
   "metadata": {},
   "outputs": [
    {
     "data": {
      "image/png": "[encoded data removed]",
      "text/plain": [
       "<Figure size 432x288 with 1 Axes>"
      ]
     },
     "metadata": {
      "needs_background": "light"
     },
     "output_type": "display_data"
    }
   ],
   "source": [
    "plt.figure()\n",
    "\n",
    "plt.plot(range(1,10+1), train_loss, label=\"train loss\")\n",
    "plt.plot(range(1,10+1), val_loss, label=\"val loss\")\n",
    "\n",
    "plt.ylim(0,np.amax(np.amax(train_loss), np.amax(val_loss)))\n",
    "\n",
    "plt.xlabel(\"Epoch\")\n",
    "plt.ylabel(\"MSE\")\n",
    "\n",
    "plt.grid(True)\n",
    "plt.legend()\n",
    "\n",
    "plt.show()"
   ]
  },
  {
   "cell_type": "markdown",
   "metadata": {},
   "source": [
    "## Visualize brain slices"
   ]
  },
  {
   "cell_type": "code",
   "execution_count": 19,
   "metadata": {},
   "outputs": [
    {
     "data": {
      "image/png": "[encoded data removed]",
      "text/plain": [
       "<Figure size 1080x2160 with 3 Axes>"
      ]
     },
     "metadata": {
      "needs_background": "light"
     },
     "output_type": "display_data"
    },
    {
     "data": {
      "image/png": "[encoded data removed]",
      "text/plain": [
       "<Figure size 1080x2160 with 3 Axes>"
      ]
     },
     "metadata": {
      "needs_background": "light"
     },
     "output_type": "display_data"
    },
    {
     "data": {
      "image/png": "[encoded data removed]",
      "text/plain": [
       "<Figure size 1080x2160 with 3 Axes>"
      ]
     },
     "metadata": {
      "needs_background": "light"
     },
     "output_type": "display_data"
    }
   ],
   "source": [
    "from scipy.ndimage import rotate\n",
    "\n",
    "volume=291\n",
    "xslice=30\n",
    "yslice=30\n",
    "zslice=15\n",
    "array_set=fmri_train\n",
    "\n",
    "fig, axes = plt.subplots(1, 3, figsize=(15,30))\n",
    "axes[0].imshow(rotate(array_set[volume,xslice,:,:,:], 90))\n",
    "axes[1].imshow(rotate(model(array_set[volume:volume+1]).numpy()[0,xslice,:,:,:], 90, axes=(0,1)))\n",
    "difference = np.abs(rotate(array_set[volume,xslice,:,:,:], 90)-rotate(model(array_set[volume:volume+1]).numpy()[0,xslice,:,:,:], 90, axes=(0,1)))\n",
    "axes[2].imshow(difference)\n",
    "plt.show()\n",
    "\n",
    "\n",
    "fig, axes = plt.subplots(1, 3, figsize=(15,30))\n",
    "axes[0].imshow(rotate(array_set[volume,:,yslice,:,:], 90))\n",
    "axes[1].imshow(rotate(model(array_set[volume:volume+1]).numpy()[0,:,yslice,:,:], 90, axes=(0,1)))\n",
    "difference = np.abs(rotate(array_set[volume,:,yslice,:,:], 90)-rotate(model(array_set[volume:volume+1]).numpy()[0,:,yslice,:,:], 90, axes=(0,1)))\n",
    "axes[2].imshow(difference)\n",
    "plt.show()\n",
    "\n",
    "\n",
    "fig, axes = plt.subplots(1, 3, figsize=(15,30))\n",
    "axes[0].imshow(array_set[volume,:,:,zslice,:])\n",
    "axes[1].imshow(model(array_set[volume:volume+1]).numpy()[0,:,:,zslice,:])\n",
    "difference = np.abs(array_set[volume,:,:,zslice,:]-model(array_set[volume:volume+1]).numpy()[0,:,:,zslice,:])\n",
    "axes[2].imshow(difference)\n",
    "plt.show()"
   ]
  },
  {
   "cell_type": "code",
   "execution_count": null,
   "metadata": {},
   "outputs": [],
   "source": []
  },
  {
   "cell_type": "code",
   "execution_count": 8,
   "metadata": {},
   "outputs": [
    {
     "data": {
      "text/plain": [
       "<models.fmri_ae.fMRI_AE at 0x7f1fcb2d6520>"
      ]
     },
     "execution_count": 8,
     "metadata": {},
     "output_type": "execute_result"
    }
   ],
   "source": [
    "model"
   ]
  },
  {
   "cell_type": "code",
   "execution_count": 9,
   "metadata": {},
   "outputs": [
    {
     "data": {
      "text/plain": [
       "<function tensorflow.python.keras.losses.mean_squared_error(y_true, y_pred)>"
      ]
     },
     "execution_count": 9,
     "metadata": {},
     "output_type": "execute_result"
    }
   ],
   "source": [
    "loss_fn"
   ]
  },
  {
   "cell_type": "code",
   "execution_count": 7,
   "metadata": {},
   "outputs": [],
   "source": [
    "residuals=[]\n",
    "\n",
    "for i in range(fmri_train.shape[0]):\n",
    "    residuals.append(tf.reduce_mean(loss_fn(fmri_train[i], model(fmri_train[i:i+1]))).numpy())"
   ]
  },
  {
   "cell_type": "code",
   "execution_count": 8,
   "metadata": {},
   "outputs": [
    {
     "data": {
      "image/png": "[encoded data removed]",
      "text/plain": [
       "<Figure size 1152x3600 with 1 Axes>"
      ]
     },
     "metadata": {
      "needs_background": "light"
     },
     "output_type": "display_data"
    }
   ],
   "source": [
    "plt.figure(figsize=(16,50))\n",
    "plt.barh(np.arange(0,fmri_train.shape[0],1), residuals, 0.8)\n",
    "plt.show()"
   ]
  },
  {
   "cell_type": "code",
   "execution_count": 9,
   "metadata": {},
   "outputs": [
    {
     "data": {
      "text/plain": [
       "0.0025228437"
      ]
     },
     "execution_count": 9,
     "metadata": {},
     "output_type": "execute_result"
    }
   ],
   "source": [
    "np.mean(residuals)"
   ]
  },
  {
   "cell_type": "code",
   "execution_count": 10,
   "metadata": {},
   "outputs": [
    {
     "name": "stdout",
     "output_type": "stream",
     "text": [
      "0.008409638\n",
      "0.008022757\n",
      "0.008107271\n",
      "0.0077576865\n",
      "0.007678461\n",
      "0.0077054063\n",
      "0.0075719296\n",
      "0.0075475476\n",
      "0.0076554\n",
      "0.007678789\n",
      "0.0072439876\n",
      "0.007096549\n",
      "0.0068550655\n",
      "0.0066626095\n",
      "0.0065030456\n",
      "0.0067598587\n",
      "0.006671509\n",
      "0.006489831\n",
      "0.0062535936\n",
      "0.0062771826\n",
      "0.0062392275\n",
      "0.006094838\n",
      "0.0059879813\n",
      "0.0058961185\n",
      "0.0055780383\n",
      "0.0056835213\n",
      "0.0054846364\n",
      "0.0055750813\n",
      "0.005317315\n",
      "0.00538159\n",
      "0.0051268805\n",
      "0.0050958027\n",
      "0.0049669826\n",
      "0.004760218\n",
      "0.004556448\n",
      "0.0043794275\n",
      "0.0044341143\n",
      "0.0041845147\n",
      "0.0042141\n",
      "0.0039930185\n",
      "0.004238712\n",
      "0.003688474\n",
      "0.0037844542\n",
      "0.0036261703\n",
      "0.0035009438\n",
      "0.0033658992\n",
      "0.0035164915\n",
      "0.0032601678\n",
      "0.0030890345\n",
      "0.0031138842\n",
      "0.0028366318\n",
      "0.002921142\n",
      "0.0027020841\n",
      "0.0026180635\n",
      "0.002535585\n",
      "0.0025068345\n",
      "0.0024552017\n",
      "0.0022829918\n",
      "0.0023208165\n",
      "0.0023996287\n",
      "0.0021324412\n",
      "0.0021506706\n",
      "0.0021401977\n",
      "0.0019398339\n",
      "0.0019822617\n",
      "0.0019393705\n",
      "0.0018366391\n",
      "0.0019086881\n",
      "0.0019335228\n",
      "0.0018191957\n",
      "0.0018128617\n",
      "0.0017570582\n",
      "0.0019121348\n",
      "0.0016639752\n",
      "0.0017786031\n",
      "0.0017709135\n",
      "0.0017845903\n",
      "0.0017417945\n",
      "0.0016868942\n",
      "0.0017019974\n",
      "0.001603782\n",
      "0.0016092733\n",
      "0.0016116739\n",
      "0.0018017752\n",
      "0.0016073438\n",
      "0.0015446831\n",
      "0.0015914012\n",
      "0.0015569628\n",
      "0.0015121124\n",
      "0.0014565212\n",
      "0.0015286703\n",
      "0.0015347865\n",
      "0.0014539388\n",
      "0.0015804005\n",
      "0.0014307841\n",
      "0.001387699\n",
      "0.0015022536\n",
      "0.001453886\n",
      "0.0014664062\n",
      "0.0014699156\n",
      "0.0015145659\n",
      "0.0014249354\n",
      "0.0016453094\n",
      "0.0016026578\n",
      "0.0014453831\n",
      "0.0014500075\n",
      "0.0013389421\n",
      "0.0013374399\n",
      "0.0013398965\n",
      "0.0013456118\n",
      "0.0012843045\n",
      "0.0013606708\n",
      "0.0012799663\n",
      "0.0012832006\n",
      "0.001307188\n",
      "0.0013486745\n",
      "0.0012543517\n",
      "0.0012892536\n",
      "0.0012721218\n",
      "0.0012693517\n",
      "0.0012457733\n",
      "0.0013178547\n",
      "0.0013765504\n",
      "0.0012502337\n",
      "0.0013085996\n",
      "0.0013204243\n",
      "0.0013496534\n",
      "0.0012294594\n",
      "0.0013082358\n",
      "0.0013581888\n",
      "0.0012758801\n",
      "0.0013003735\n",
      "0.0013942736\n",
      "0.0012710616\n",
      "0.0012859973\n",
      "0.0013805847\n",
      "0.0013290629\n",
      "0.0013147147\n",
      "0.001345879\n",
      "0.0013489096\n",
      "0.001390094\n",
      "0.0014447559\n",
      "0.0014085178\n",
      "0.0014993566\n",
      "0.0014873093\n",
      "0.0014315911\n",
      "0.0014677207\n",
      "0.0014073111\n",
      "0.0015622105\n",
      "0.0015183521\n",
      "0.0014510256\n",
      "0.0015181903\n",
      "0.0015221385\n",
      "0.0014699772\n",
      "0.001533428\n",
      "0.0015105106\n",
      "0.0016737416\n",
      "0.0015353523\n",
      "0.001492019\n",
      "0.0014286361\n",
      "0.0015459035\n",
      "0.0014520842\n",
      "0.0015580815\n",
      "0.0015595066\n",
      "0.0015357531\n",
      "0.0015612632\n",
      "0.001559218\n",
      "0.0015380532\n",
      "0.0015164915\n",
      "0.0015042474\n",
      "0.0015932779\n",
      "0.0015151225\n",
      "0.0014843047\n",
      "0.0016309196\n",
      "0.0015971708\n",
      "0.0016225377\n",
      "0.0016287543\n",
      "0.0015837702\n",
      "0.0015986187\n",
      "0.0015710606\n",
      "0.0015688909\n",
      "0.0015476923\n",
      "0.0015642759\n",
      "0.0016810604\n",
      "0.0015872171\n",
      "0.0017073351\n",
      "0.0016803296\n",
      "0.0017032116\n",
      "0.0016925498\n",
      "0.0016762455\n",
      "0.0016341012\n",
      "0.0016489351\n",
      "0.0016478408\n",
      "0.0017262074\n",
      "0.0017498637\n",
      "0.0017904982\n",
      "0.001868924\n",
      "0.0016639598\n",
      "0.0017559597\n",
      "0.0017481657\n",
      "0.001727306\n",
      "0.0017830083\n",
      "0.0017844841\n",
      "0.0016943425\n",
      "0.0017359852\n",
      "0.00186129\n",
      "0.001775631\n",
      "0.0017956475\n",
      "0.0018732677\n",
      "0.0017553909\n",
      "0.0017932111\n",
      "0.0018525536\n",
      "0.0017939133\n",
      "0.0018647641\n",
      "0.001992341\n",
      "0.0018084391\n",
      "0.0019363884\n",
      "0.001890412\n",
      "0.0018408993\n",
      "0.0018979808\n",
      "0.0019047633\n",
      "0.0018586987\n",
      "0.0021233202\n",
      "0.0020623356\n",
      "0.0019467514\n",
      "0.0019478697\n",
      "0.0020458305\n",
      "0.0019974427\n",
      "0.0020542191\n",
      "0.0020961142\n",
      "0.0020150624\n",
      "0.0020372753\n",
      "0.0022046363\n",
      "0.002187467\n",
      "0.0021784196\n",
      "0.0022256158\n",
      "0.0022198895\n",
      "0.0022652964\n",
      "0.0023151462\n",
      "0.0021701371\n",
      "0.0023046946\n",
      "0.0024847616\n",
      "0.0024189723\n",
      "0.0025750315\n",
      "0.0024778664\n",
      "0.0023525038\n",
      "0.0025554309\n",
      "0.002542989\n",
      "0.0024308425\n",
      "0.002609192\n",
      "0.002833271\n",
      "0.0025194203\n",
      "0.0025856083\n",
      "0.0025564025\n",
      "0.0026451314\n",
      "0.0026551941\n",
      "0.0027246783\n",
      "0.002784557\n",
      "0.0026293057\n",
      "0.002841094\n",
      "0.0027124337\n",
      "0.0027513148\n",
      "0.0027992332\n",
      "0.0028561205\n",
      "0.0028258043\n",
      "0.0027763408\n",
      "0.002929011\n",
      "0.0028151309\n",
      "0.002861158\n",
      "0.0029478923\n",
      "0.0027993817\n",
      "0.0027598068\n",
      "0.002972324\n",
      "0.0029082522\n",
      "0.0028591217\n",
      "0.00305844\n",
      "0.0028974155\n",
      "0.002994136\n",
      "0.0031943207\n",
      "0.0030032662\n",
      "0.0032811933\n",
      "0.0030488458\n",
      "0.0029150962\n",
      "0.0031470095\n",
      "0.0031900033\n",
      "0.003077444\n",
      "0.0030669395\n",
      "0.0031196277\n",
      "0.0031163373\n",
      "0.0031626418\n",
      "0.0030174688\n",
      "8.289853e-06\n",
      "8.289853e-06\n",
      "8.289853e-06\n",
      "8.289853e-06\n",
      "8.289853e-06\n"
     ]
    }
   ],
   "source": [
    "for i in range(len(residuals)):\n",
    "    print(residuals[i])"
   ]
  },
  {
   "cell_type": "code",
   "execution_count": null,
   "metadata": {},
   "outputs": [],
   "source": []
  }
 ],
 "metadata": {
  "kernelspec": {
   "display_name": "Python 3",
   "language": "python",
   "name": "python3"
  },
  "language_info": {
   "codemirror_mode": {
    "name": "ipython",
    "version": 3
   },
   "file_extension": ".py",
   "mimetype": "text/x-python",
   "name": "python",
   "nbconvert_exporter": "python",
   "pygments_lexer": "ipython3",
   "version": "3.8.5"
  }
 },
 "nbformat": 4,
 "nbformat_minor": 4
}
