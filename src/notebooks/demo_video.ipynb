{
 "cells": [
  {
   "cell_type": "code",
   "execution_count": 1,
   "id": "f1620d54",
   "metadata": {},
   "outputs": [
    {
     "name": "stdout",
     "output_type": "stream",
     "text": [
      "I: Starting to Load Data\n",
      "I: Finished Loading Data\n"
     ]
    },
    {
     "ename": "KeyboardInterrupt",
     "evalue": "",
     "output_type": "error",
     "traceback": [
      "\u001b[0;31m---------------------------------------------------------------------------\u001b[0m",
      "\u001b[0;31mKeyboardInterrupt\u001b[0m                         Traceback (most recent call last)",
      "\u001b[0;32m/tmp/ipykernel_133141/2204452497.py\u001b[0m in \u001b[0;36m<module>\u001b[0;34m\u001b[0m\n\u001b[1;32m     43\u001b[0m \u001b[0;34m\u001b[0m\u001b[0m\n\u001b[1;32m     44\u001b[0m \u001b[0;32mwith\u001b[0m \u001b[0mtf\u001b[0m\u001b[0;34m.\u001b[0m\u001b[0mdevice\u001b[0m\u001b[0;34m(\u001b[0m\u001b[0;34m'/CPU:0'\u001b[0m\u001b[0;34m)\u001b[0m\u001b[0;34m:\u001b[0m\u001b[0;34m\u001b[0m\u001b[0;34m\u001b[0m\u001b[0m\n\u001b[0;32m---> 45\u001b[0;31m     train_data, test_data = preprocess_data.dataset(dataset, n_individuals=n_individuals,\n\u001b[0m\u001b[1;32m     46\u001b[0m                                             \u001b[0minterval_eeg\u001b[0m\u001b[0;34m=\u001b[0m\u001b[0minterval_eeg\u001b[0m\u001b[0;34m,\u001b[0m\u001b[0;34m\u001b[0m\u001b[0;34m\u001b[0m\u001b[0m\n\u001b[1;32m     47\u001b[0m                                             \u001b[0mind_volume_fit\u001b[0m\u001b[0;34m=\u001b[0m\u001b[0;32mFalse\u001b[0m\u001b[0;34m,\u001b[0m\u001b[0;34m\u001b[0m\u001b[0;34m\u001b[0m\u001b[0m\n",
      "\u001b[0;32m~/eeg_to_fmri/src/notebooks/../utils/preprocess_data.py\u001b[0m in \u001b[0;36mdataset\u001b[0;34m(dataset, n_individuals, interval_eeg, time_length, ind_volume_fit, raw_eeg, standardize_fmri, standardize_eeg, iqr, file_output, verbose)\u001b[0m\n\u001b[1;32m     79\u001b[0m \u001b[0;34m\u001b[0m\u001b[0m\n\u001b[1;32m     80\u001b[0m         \u001b[0meeg_train\u001b[0m \u001b[0;34m=\u001b[0m \u001b[0meeg_train\u001b[0m\u001b[0;34m.\u001b[0m\u001b[0mastype\u001b[0m\u001b[0;34m(\u001b[0m\u001b[0;34m'float32'\u001b[0m\u001b[0;34m)\u001b[0m\u001b[0;34m\u001b[0m\u001b[0;34m\u001b[0m\u001b[0m\n\u001b[0;32m---> 81\u001b[0;31m         \u001b[0mfmri_train\u001b[0m \u001b[0;34m=\u001b[0m \u001b[0mfmri_train\u001b[0m\u001b[0;34m.\u001b[0m\u001b[0mastype\u001b[0m\u001b[0;34m(\u001b[0m\u001b[0;34m'float32'\u001b[0m\u001b[0;34m)\u001b[0m\u001b[0;34m\u001b[0m\u001b[0;34m\u001b[0m\u001b[0m\n\u001b[0m\u001b[1;32m     82\u001b[0m         \u001b[0meeg_test\u001b[0m \u001b[0;34m=\u001b[0m \u001b[0meeg_test\u001b[0m\u001b[0;34m.\u001b[0m\u001b[0mastype\u001b[0m\u001b[0;34m(\u001b[0m\u001b[0;34m'float32'\u001b[0m\u001b[0;34m)\u001b[0m\u001b[0;34m\u001b[0m\u001b[0;34m\u001b[0m\u001b[0m\n\u001b[1;32m     83\u001b[0m         \u001b[0mfmri_test\u001b[0m \u001b[0;34m=\u001b[0m \u001b[0mfmri_test\u001b[0m\u001b[0;34m.\u001b[0m\u001b[0mastype\u001b[0m\u001b[0;34m(\u001b[0m\u001b[0;34m'float32'\u001b[0m\u001b[0;34m)\u001b[0m\u001b[0;34m\u001b[0m\u001b[0;34m\u001b[0m\u001b[0m\n",
      "\u001b[0;31mKeyboardInterrupt\u001b[0m: "
     ]
    }
   ],
   "source": [
    "import sys\n",
    "\n",
    "sys.path.append(\"..\")\n",
    "\n",
    "import tensorflow as tf\n",
    "\n",
    "import numpy as np\n",
    "\n",
    "from utils import tf_config\n",
    "\n",
    "dataset=\"01\"\n",
    "memory_limit=1500\n",
    "interval_eeg=10\n",
    "\n",
    "tf_config.set_seed(seed=2)#02 [2, 3, 5, 7, 11]\n",
    "tf_config.setup_tensorflow(device=\"GPU\", memory_limit=memory_limit)\n",
    "\n",
    "import GPyOpt\n",
    "\n",
    "import argparse\n",
    "\n",
    "from utils import preprocess_data, search_algorithms, train, losses_utils, metrics, eeg_utils, data_utils\n",
    "\n",
    "from models import fmri_ae, eeg_to_fmri, uniconv_fmri\n",
    "\n",
    "from layers import locally_connected\n",
    "\n",
    "import matplotlib.pyplot as plt\n",
    "\n",
    "import gc\n",
    "\n",
    "import os\n",
    "\n",
    "from sklearn.model_selection import train_test_split, KFold\n",
    "\n",
    "from pathlib import Path\n",
    "\n",
    "import time\n",
    "\n",
    "import pickle\n",
    "\n",
    "n_individuals=getattr(data_utils, \"n_individuals_\"+dataset)\n",
    "\n",
    "with tf.device('/CPU:0'):\n",
    "    train_data, test_data = preprocess_data.dataset(dataset, n_individuals=n_individuals,\n",
    "                                            interval_eeg=interval_eeg, \n",
    "                                            ind_volume_fit=False,\n",
    "                                            standardize_fmri=True,\n",
    "                                            iqr=False,\n",
    "                                            verbose=True)\n",
    "    eeg_train, fmri_train =train_data\n",
    "    eeg_test, fmri_test = test_data"
   ]
  },
  {
   "cell_type": "code",
   "execution_count": null,
   "id": "524b1194",
   "metadata": {},
   "outputs": [],
   "source": [
    "theta=eeg_to_fmri.parameters\n",
    "#unroll hyperparameters\n",
    "learning_rate=float(theta[0])\n",
    "weight_decay = float(theta[1])\n",
    "kernel_size = theta[2]\n",
    "stride_size = theta[3]\n",
    "batch_size=int(theta[4])\n",
    "latent_dimension=theta[5]\n",
    "n_channels=int(theta[6])\n",
    "max_pool=bool(theta[7])\n",
    "batch_norm=bool(theta[8])\n",
    "skip_connections=bool(theta[9])\n",
    "dropout=bool(theta[10])\n",
    "n_stacks=int(theta[11])\n",
    "outfilter=int(theta[12])\n",
    "local=True"
   ]
  },
  {
   "cell_type": "code",
   "execution_count": null,
   "id": "372e4013",
   "metadata": {},
   "outputs": [],
   "source": [
    "with open(str(Path.home())+\"/eeg_to_fmri/na_models_eeg/na_specification_2\", \"rb\") as f:\n",
    "    na_specification_eeg = pickle.load(f)\n",
    "with open(str(Path.home())+\"/eeg_to_fmri/na_models_fmri/na_specification_2\", \"rb\") as f:\n",
    "    na_specification_fmri = pickle.load(f)"
   ]
  },
  {
   "cell_type": "code",
   "execution_count": null,
   "id": "31a9aa15",
   "metadata": {},
   "outputs": [],
   "source": [
    "with tf.device('/CPU:0'):\n",
    "\n",
    "    model = eeg_to_fmri.EEG_to_fMRI(latent_dimension, eeg_train.shape[1:], na_specification_eeg, n_channels,\n",
    "                    weight_decay=weight_decay, skip_connections=True, batch_norm=True, fourier_features=True,\n",
    "                    random_fourier=True, conditional_attention_style=True,\n",
    "                    conditional_attention_style_prior=True, local=True, seed=None, \n",
    "                    fmri_args = (latent_dimension, fmri_train.shape[1:], kernel_size, stride_size, n_channels, \n",
    "                    max_pool, batch_norm, weight_decay, skip_connections,\n",
    "                    n_stacks, True, False, outfilter, dropout, None, False, na_specification_fmri))\n",
    "    \n",
    "    model.build(eeg_train.shape, fmri_train.shape)\n",
    "    \n",
    "    optimizer = tf.keras.optimizers.Adam(learning_rate)\n",
    "    loss_fn = losses_utils.mae_cosine\n",
    "\n",
    "    train_set = tf.data.Dataset.from_tensor_slices((eeg_train, fmri_train)).batch(batch_size)\n",
    "    dev_set= tf.data.Dataset.from_tensor_slices((eeg_test, fmri_test)).batch(1)"
   ]
  },
  {
   "cell_type": "code",
   "execution_count": null,
   "id": "617d9a67",
   "metadata": {},
   "outputs": [],
   "source": [
    "train.train(train_set, model, optimizer, loss_fn, epochs=1, u_architecture=True, val_set=None, verbose=True, verbose_batch=True)"
   ]
  },
  {
   "cell_type": "markdown",
   "id": "65360902",
   "metadata": {},
   "source": [
    "# Making the demonstration video"
   ]
  },
  {
   "cell_type": "code",
   "execution_count": null,
   "id": "bec770b3",
   "metadata": {},
   "outputs": [],
   "source": []
  }
 ],
 "metadata": {
  "kernelspec": {
   "display_name": "Python 3 (ipykernel)",
   "language": "python",
   "name": "python3"
  },
  "language_info": {
   "codemirror_mode": {
    "name": "ipython",
    "version": 3
   },
   "file_extension": ".py",
   "mimetype": "text/x-python",
   "name": "python",
   "nbconvert_exporter": "python",
   "pygments_lexer": "ipython3",
   "version": "3.8.12"
  }
 },
 "nbformat": 4,
 "nbformat_minor": 5
}
