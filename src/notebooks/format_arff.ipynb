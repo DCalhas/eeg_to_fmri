{
 "cells": [
  {
   "cell_type": "code",
   "execution_count": 21,
   "id": "745460dd",
   "metadata": {},
   "outputs": [],
   "source": [
    "import sys\n",
    "\n",
    "sys.path.append(\"..\")\n",
    "\n",
    "import numpy as np\n",
    "\n",
    "import tensorflow as tf\n",
    "\n",
    "from utils import tf_config, preprocess_data, viz_utils\n",
    "\n",
    "from layers import fft"
   ]
  },
  {
   "cell_type": "code",
   "execution_count": 2,
   "id": "a4e01e8c",
   "metadata": {},
   "outputs": [
    {
     "name": "stderr",
     "output_type": "stream",
     "text": [
      "2022-04-01 09:32:44.115784: I tensorflow/compiler/jit/xla_cpu_device.cc:41] Not creating XLA devices, tf_xla_enable_xla_devices not set\n",
      "2022-04-01 09:32:44.116528: I tensorflow/stream_executor/platform/default/dso_loader.cc:49] Successfully opened dynamic library libcuda.so.1\n",
      "2022-04-01 09:32:44.168121: I tensorflow/stream_executor/cuda/cuda_gpu_executor.cc:941] successful NUMA node read from SysFS had negative value (-1), but there must be at least one NUMA node, so returning NUMA node zero\n",
      "2022-04-01 09:32:44.168864: I tensorflow/core/common_runtime/gpu/gpu_device.cc:1720] Found device 0 with properties: \n",
      "pciBusID: 0000:0a:00.0 name: GeForce RTX 2080 SUPER computeCapability: 7.5\n",
      "coreClock: 1.845GHz coreCount: 48 deviceMemorySize: 7.79GiB deviceMemoryBandwidth: 462.00GiB/s\n",
      "2022-04-01 09:32:44.168894: I tensorflow/stream_executor/platform/default/dso_loader.cc:49] Successfully opened dynamic library libcudart.so.11.0\n",
      "2022-04-01 09:32:44.172286: I tensorflow/stream_executor/platform/default/dso_loader.cc:49] Successfully opened dynamic library libcublas.so.11\n",
      "2022-04-01 09:32:44.172363: I tensorflow/stream_executor/platform/default/dso_loader.cc:49] Successfully opened dynamic library libcublasLt.so.11\n",
      "2022-04-01 09:32:44.173475: I tensorflow/stream_executor/platform/default/dso_loader.cc:49] Successfully opened dynamic library libcufft.so.10\n",
      "2022-04-01 09:32:44.173722: I tensorflow/stream_executor/platform/default/dso_loader.cc:49] Successfully opened dynamic library libcurand.so.10\n",
      "2022-04-01 09:32:44.176280: I tensorflow/stream_executor/platform/default/dso_loader.cc:49] Successfully opened dynamic library libcusolver.so.10\n",
      "2022-04-01 09:32:44.176954: I tensorflow/stream_executor/platform/default/dso_loader.cc:49] Successfully opened dynamic library libcusparse.so.11\n",
      "2022-04-01 09:32:44.177101: I tensorflow/stream_executor/platform/default/dso_loader.cc:49] Successfully opened dynamic library libcudnn.so.8\n",
      "2022-04-01 09:32:44.177313: I tensorflow/stream_executor/cuda/cuda_gpu_executor.cc:941] successful NUMA node read from SysFS had negative value (-1), but there must be at least one NUMA node, so returning NUMA node zero\n",
      "2022-04-01 09:32:44.177902: I tensorflow/stream_executor/cuda/cuda_gpu_executor.cc:941] successful NUMA node read from SysFS had negative value (-1), but there must be at least one NUMA node, so returning NUMA node zero\n",
      "2022-04-01 09:32:44.178278: I tensorflow/core/common_runtime/gpu/gpu_device.cc:1862] Adding visible gpu devices: 0\n"
     ]
    }
   ],
   "source": [
    "tf_config.set_seed(seed=42)#02 20\n",
    "tf_config.setup_tensorflow(device=\"GPU\", memory_limit=1500)\n",
    "\n",
    "path_labels=\"../../metrics/10_synth_01_style_prior_bayesian/\"\n",
    "view=\"fmri\""
   ]
  },
  {
   "cell_type": "code",
   "execution_count": 5,
   "id": "26e92d99",
   "metadata": {},
   "outputs": [],
   "source": [
    "X_view = np.load(path_labels+\"views.npy\")\n",
    "y_true = np.load(path_labels+\"y_true.npy\")\n",
    "y_pred = np.load(path_labels+\"y_pred.npy\")"
   ]
  },
  {
   "cell_type": "markdown",
   "id": "50d827ec",
   "metadata": {},
   "source": [
    "### Downsample"
   ]
  },
  {
   "cell_type": "code",
   "execution_count": 35,
   "id": "094cd979",
   "metadata": {},
   "outputs": [],
   "source": [
    "downsample_shape=(14,14,7)\n",
    "dct=fft.DCT3D(*X_view.shape[1:-1])\n",
    "idct=fft.iDCT3D(*downsample_shape)\n",
    "\n",
    "X_view_downsampled=np.empty((0,)+downsample_shape+(1,), dtype=\"float32\")\n",
    "\n",
    "for i in range(X_view.shape[0]):\n",
    "    X_view_downsampled=np.append(X_view_downsampled,np.expand_dims(idct(dct(X_view[i:i+1,:,:,:,0])[:,:downsample_shape[0],:downsample_shape[1],:downsample_shape[2]]).numpy(), axis=-1),axis=0)"
   ]
  },
  {
   "cell_type": "markdown",
   "id": "787bfa91",
   "metadata": {},
   "source": [
    "### Build arff format"
   ]
  },
  {
   "cell_type": "code",
   "execution_count": 65,
   "id": "6e259468",
   "metadata": {},
   "outputs": [],
   "source": [
    "string_file_view_ground_truth=\"\"\n",
    "string_file_view_pred=\"\"\n",
    "for individual in range(X_view_downsampled.shape[0]):\n",
    "    string_file_view_ground_truth+=str(int(y_true[individual]))+\",\"\n",
    "    string_file_view_pred+=str(int(y_pred[individual]))+\",\"\n",
    "    for value in np.reshape(X_view_downsampled[individual], (downsample_shape[0]*downsample_shape[1]*downsample_shape[2],)):\n",
    "        string_file_view_ground_truth+=\"{:0.9f}\".format(float(value))+\",\"\n",
    "        string_file_view_pred+=\"{:0.9f}\".format(float(value))+\",\"\n",
    "    string_file_view_ground_truth=string_file_view_ground_truth[:-1]+\"\\n\"\n",
    "    string_file_view_pred=string_file_view_pred[:-1]+\"\\n\""
   ]
  },
  {
   "cell_type": "code",
   "execution_count": 67,
   "id": "a7c8ad68",
   "metadata": {},
   "outputs": [],
   "source": [
    "with open(\"./view_ground_truth.arff\", \"w\") as f:\n",
    "    f.write(string_file_view_ground_truth)\n",
    "    f.close()"
   ]
  },
  {
   "cell_type": "code",
   "execution_count": null,
   "id": "4f8c5d77",
   "metadata": {},
   "outputs": [],
   "source": [
    "with open(\"./view_pred.arff\", \"w\") as f:\n",
    "    f.write(string_file_view_pred)\n",
    "    f.close()"
   ]
  }
 ],
 "metadata": {
  "kernelspec": {
   "display_name": "Python 3 (ipykernel)",
   "language": "python",
   "name": "python3"
  },
  "language_info": {
   "codemirror_mode": {
    "name": "ipython",
    "version": 3
   },
   "file_extension": ".py",
   "mimetype": "text/x-python",
   "name": "python",
   "nbconvert_exporter": "python",
   "pygments_lexer": "ipython3",
   "version": "3.8.13"
  }
 },
 "nbformat": 4,
 "nbformat_minor": 5
}
