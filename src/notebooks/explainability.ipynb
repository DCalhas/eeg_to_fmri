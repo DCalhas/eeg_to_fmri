{
 "cells": [
  {
   "cell_type": "code",
   "execution_count": 1,
   "id": "c5c56f44",
   "metadata": {},
   "outputs": [
    {
     "name": "stderr",
     "output_type": "stream",
     "text": [
      "2021-12-29 12:32:31.218648: I tensorflow/stream_executor/platform/default/dso_loader.cc:49] Successfully opened dynamic library libcudart.so.11.0\n",
      "2021-12-29 12:32:33.928532: I tensorflow/compiler/jit/xla_cpu_device.cc:41] Not creating XLA devices, tf_xla_enable_xla_devices not set\n",
      "2021-12-29 12:32:33.934559: I tensorflow/stream_executor/platform/default/dso_loader.cc:49] Successfully opened dynamic library libcuda.so.1\n",
      "2021-12-29 12:32:34.010683: I tensorflow/stream_executor/cuda/cuda_gpu_executor.cc:941] successful NUMA node read from SysFS had negative value (-1), but there must be at least one NUMA node, so returning NUMA node zero\n",
      "2021-12-29 12:32:34.011324: I tensorflow/core/common_runtime/gpu/gpu_device.cc:1720] Found device 0 with properties: \n",
      "pciBusID: 0000:01:00.0 name: GeForce MX150 computeCapability: 6.1\n",
      "coreClock: 1.5315GHz coreCount: 3 deviceMemorySize: 1.96GiB deviceMemoryBandwidth: 44.76GiB/s\n",
      "2021-12-29 12:32:34.011388: I tensorflow/stream_executor/platform/default/dso_loader.cc:49] Successfully opened dynamic library libcudart.so.11.0\n",
      "2021-12-29 12:32:34.029663: I tensorflow/stream_executor/platform/default/dso_loader.cc:49] Successfully opened dynamic library libcublas.so.11\n",
      "2021-12-29 12:32:34.029852: I tensorflow/stream_executor/platform/default/dso_loader.cc:49] Successfully opened dynamic library libcublasLt.so.11\n",
      "2021-12-29 12:32:34.042379: I tensorflow/stream_executor/platform/default/dso_loader.cc:49] Successfully opened dynamic library libcufft.so.10\n",
      "2021-12-29 12:32:34.047148: I tensorflow/stream_executor/platform/default/dso_loader.cc:49] Successfully opened dynamic library libcurand.so.10\n",
      "2021-12-29 12:32:34.067311: I tensorflow/stream_executor/platform/default/dso_loader.cc:49] Successfully opened dynamic library libcusolver.so.10\n",
      "2021-12-29 12:32:34.070803: I tensorflow/stream_executor/platform/default/dso_loader.cc:49] Successfully opened dynamic library libcusparse.so.11\n",
      "2021-12-29 12:32:34.071919: I tensorflow/stream_executor/platform/default/dso_loader.cc:49] Successfully opened dynamic library libcudnn.so.8\n",
      "2021-12-29 12:32:34.072089: I tensorflow/stream_executor/cuda/cuda_gpu_executor.cc:941] successful NUMA node read from SysFS had negative value (-1), but there must be at least one NUMA node, so returning NUMA node zero\n",
      "2021-12-29 12:32:34.072534: I tensorflow/stream_executor/cuda/cuda_gpu_executor.cc:941] successful NUMA node read from SysFS had negative value (-1), but there must be at least one NUMA node, so returning NUMA node zero\n",
      "2021-12-29 12:32:34.073223: I tensorflow/core/common_runtime/gpu/gpu_device.cc:1862] Adding visible gpu devices: 0\n"
     ]
    },
    {
     "name": "stdout",
     "output_type": "stream",
     "text": [
      "I: Starting to Load Data\n"
     ]
    },
    {
     "name": "stderr",
     "output_type": "stream",
     "text": [
      "2021-12-29 12:32:35.455375: I tensorflow/compiler/jit/xla_gpu_device.cc:99] Not creating XLA devices, tf_xla_enable_xla_devices not set\n",
      "2021-12-29 12:32:35.455615: I tensorflow/stream_executor/cuda/cuda_gpu_executor.cc:941] successful NUMA node read from SysFS had negative value (-1), but there must be at least one NUMA node, so returning NUMA node zero\n",
      "2021-12-29 12:32:35.455899: I tensorflow/core/common_runtime/gpu/gpu_device.cc:1720] Found device 0 with properties: \n",
      "pciBusID: 0000:01:00.0 name: GeForce MX150 computeCapability: 6.1\n",
      "coreClock: 1.5315GHz coreCount: 3 deviceMemorySize: 1.96GiB deviceMemoryBandwidth: 44.76GiB/s\n",
      "2021-12-29 12:32:35.455928: I tensorflow/stream_executor/platform/default/dso_loader.cc:49] Successfully opened dynamic library libcudart.so.11.0\n",
      "2021-12-29 12:32:35.455959: I tensorflow/stream_executor/platform/default/dso_loader.cc:49] Successfully opened dynamic library libcublas.so.11\n",
      "2021-12-29 12:32:35.455973: I tensorflow/stream_executor/platform/default/dso_loader.cc:49] Successfully opened dynamic library libcublasLt.so.11\n",
      "2021-12-29 12:32:35.455985: I tensorflow/stream_executor/platform/default/dso_loader.cc:49] Successfully opened dynamic library libcufft.so.10\n",
      "2021-12-29 12:32:35.455998: I tensorflow/stream_executor/platform/default/dso_loader.cc:49] Successfully opened dynamic library libcurand.so.10\n",
      "2021-12-29 12:32:35.456011: I tensorflow/stream_executor/platform/default/dso_loader.cc:49] Successfully opened dynamic library libcusolver.so.10\n",
      "2021-12-29 12:32:35.456024: I tensorflow/stream_executor/platform/default/dso_loader.cc:49] Successfully opened dynamic library libcusparse.so.11\n",
      "2021-12-29 12:32:35.456037: I tensorflow/stream_executor/platform/default/dso_loader.cc:49] Successfully opened dynamic library libcudnn.so.8\n",
      "2021-12-29 12:32:35.456098: I tensorflow/stream_executor/cuda/cuda_gpu_executor.cc:941] successful NUMA node read from SysFS had negative value (-1), but there must be at least one NUMA node, so returning NUMA node zero\n",
      "2021-12-29 12:32:35.456356: I tensorflow/stream_executor/cuda/cuda_gpu_executor.cc:941] successful NUMA node read from SysFS had negative value (-1), but there must be at least one NUMA node, so returning NUMA node zero\n",
      "2021-12-29 12:32:35.456567: I tensorflow/core/common_runtime/gpu/gpu_device.cc:1862] Adding visible gpu devices: 0\n",
      "2021-12-29 12:32:35.457036: I tensorflow/stream_executor/platform/default/dso_loader.cc:49] Successfully opened dynamic library libcudart.so.11.0\n",
      "2021-12-29 12:32:37.110403: I tensorflow/core/common_runtime/gpu/gpu_device.cc:1261] Device interconnect StreamExecutor with strength 1 edge matrix:\n",
      "2021-12-29 12:32:37.125357: I tensorflow/core/common_runtime/gpu/gpu_device.cc:1267]      0 \n",
      "2021-12-29 12:32:37.125374: I tensorflow/core/common_runtime/gpu/gpu_device.cc:1280] 0:   N \n",
      "2021-12-29 12:32:37.141384: I tensorflow/stream_executor/cuda/cuda_gpu_executor.cc:941] successful NUMA node read from SysFS had negative value (-1), but there must be at least one NUMA node, so returning NUMA node zero\n",
      "2021-12-29 12:32:37.141894: I tensorflow/stream_executor/cuda/cuda_gpu_executor.cc:941] successful NUMA node read from SysFS had negative value (-1), but there must be at least one NUMA node, so returning NUMA node zero\n",
      "2021-12-29 12:32:37.142265: I tensorflow/stream_executor/cuda/cuda_gpu_executor.cc:941] successful NUMA node read from SysFS had negative value (-1), but there must be at least one NUMA node, so returning NUMA node zero\n",
      "2021-12-29 12:32:37.142589: I tensorflow/core/common_runtime/gpu/gpu_device.cc:1406] Created TensorFlow device (/job:localhost/replica:0/task:0/device:GPU:0 with 1500 MB memory) -> physical GPU (device: 0, name: GeForce MX150, pci bus id: 0000:01:00.0, compute capability: 6.1)\n"
     ]
    },
    {
     "name": "stdout",
     "output_type": "stream",
     "text": [
      "I: Finished Loading Data\n",
      "I: Pairs Created\n"
     ]
    }
   ],
   "source": [
    "import sys\n",
    "\n",
    "sys.path.append(\"..\")\n",
    "\n",
    "import tensorflow as tf\n",
    "\n",
    "import numpy as np\n",
    "\n",
    "from utils import tf_config\n",
    "\n",
    "dataset=\"01\"\n",
    "memory_limit=1500\n",
    "n_individuals=10\n",
    "interval_eeg=10\n",
    "seed=13#works: 2,3,5\n",
    "\n",
    "tf_config.set_seed(seed=seed)\n",
    "tf_config.setup_tensorflow(device=\"GPU\", memory_limit=memory_limit)\n",
    "\n",
    "import GPyOpt\n",
    "\n",
    "import argparse\n",
    "\n",
    "from utils import preprocess_data, search_algorithms, train, losses_utils, metrics, bnn_utils, eeg_utils, viz_utils\n",
    "\n",
    "from models import fmri_ae, eeg_to_fmri, uniconv_fmri\n",
    "\n",
    "from layers import locally_connected, fourier_features\n",
    "\n",
    "import matplotlib.pyplot as plt\n",
    "\n",
    "import gc\n",
    "\n",
    "import os\n",
    "\n",
    "from sklearn.model_selection import train_test_split, KFold\n",
    "\n",
    "import time\n",
    "\n",
    "with tf.device('/CPU:0'):\n",
    "    train_data, _ = preprocess_data.dataset(dataset, n_individuals=n_individuals,\n",
    "                                            interval_eeg=interval_eeg, \n",
    "                                            ind_volume_fit=False,\n",
    "                                            standardize_fmri=True,\n",
    "                                            iqr=False,\n",
    "                                            verbose=True)\n",
    "    eeg_train,fmri_train=train_data"
   ]
  },
  {
   "cell_type": "code",
   "execution_count": 2,
   "id": "e4864026",
   "metadata": {},
   "outputs": [],
   "source": [
    "eeg_train = eeg_train[:100]\n",
    "fmri_train = fmri_train[:100]"
   ]
  },
  {
   "cell_type": "code",
   "execution_count": 3,
   "id": "42784b41",
   "metadata": {},
   "outputs": [],
   "source": [
    "theta = (0.002980911194116198, 0.0004396489214334123, (9, 9, 4), (1, 1, 1), 1, (7, 7, 7), 4, True, True, True, True, 3, 1)\n",
    "#unroll hyperparameters\n",
    "learning_rate=float(theta[0])\n",
    "weight_decay = float(theta[1])\n",
    "kernel_size = theta[2]\n",
    "stride_size = theta[3]\n",
    "batch_size=int(theta[4])\n",
    "latent_dimension=theta[5]\n",
    "n_channels=int(theta[6])\n",
    "max_pool=bool(theta[7])\n",
    "batch_norm=bool(theta[8])\n",
    "skip_connections=bool(theta[9])\n",
    "dropout=bool(theta[10])\n",
    "n_stacks=int(theta[11])\n",
    "outfilter=int(theta[12])\n",
    "local=True\n",
    "na_specification = np.load(\"/home/david/eeg_to_fmri/na_models_eeg/na_specification_2\", allow_pickle=True)"
   ]
  },
  {
   "cell_type": "code",
   "execution_count": 4,
   "id": "c1418e2e",
   "metadata": {},
   "outputs": [],
   "source": [
    "import importlib\n",
    "importlib.reload(eeg_to_fmri)\n",
    "\n",
    "low_resolution_factor=2\n",
    "resolution_decoder = (int(fmri_train.shape[1]/low_resolution_factor),\n",
    "                     int(fmri_train.shape[2]/low_resolution_factor),\n",
    "                     int(fmri_train.shape[3]/low_resolution_factor))\n",
    "\n",
    "with tf.device('/CPU:0'):\n",
    "    model = eeg_to_fmri.EEG_to_fMRI(latent_dimension, eeg_train.shape[1:], na_specification, n_channels,\n",
    "                        weight_decay=weight_decay, skip_connections=True,\n",
    "                        batch_norm=True, #dropout=False,\n",
    "                        fourier_features=True,\n",
    "                        random_fourier=True,\n",
    "                        inverse_DFT=False, DFT=False,\n",
    "                        variational_iDFT=False,\n",
    "                        variational_coefs=(15,15,15),\n",
    "                        low_resolution_decoder=False,\n",
    "                        resolution_decoder=resolution_decoder,#experimenting\n",
    "                        local=True, seed=None, \n",
    "                        fmri_args = (latent_dimension, fmri_train.shape[1:], \n",
    "                        kernel_size, stride_size, n_channels, \n",
    "                        max_pool, batch_norm, weight_decay, skip_connections,\n",
    "                        n_stacks, True, False, outfilter, dropout, None, False, None))\n",
    "    \n",
    "    model.build(eeg_train.shape, fmri_train.shape)\n",
    "    \n",
    "    optimizer = tf.keras.optimizers.Adam(learning_rate)\n",
    "    loss_fn = losses_utils.mae_cosine\n",
    "\n",
    "    train_set = tf.data.Dataset.from_tensor_slices((eeg_train, fmri_train)).batch(batch_size)\n",
    "    dev_set= tf.data.Dataset.from_tensor_slices((eeg_train, fmri_train)).batch(1)"
   ]
  },
  {
   "cell_type": "code",
   "execution_count": null,
   "id": "7974aaa7",
   "metadata": {},
   "outputs": [
    {
     "name": "stderr",
     "output_type": "stream",
     "text": [
      "2021-12-29 12:34:57.485558: I tensorflow/stream_executor/platform/default/dso_loader.cc:49] Successfully opened dynamic library libcudnn.so.8\n",
      "2021-12-29 12:34:59.061310: W tensorflow/stream_executor/gpu/asm_compiler.cc:63] Running ptxas --version returned 256\n",
      "2021-12-29 12:34:59.168678: W tensorflow/stream_executor/gpu/redzone_allocator.cc:314] Internal: ptxas exited with non-zero error code 256, output: \n",
      "Relying on driver to perform ptx compilation. \n",
      "Modify $PATH to customize ptxas location.\n",
      "This message will be only logged once.\n",
      "2021-12-29 12:34:59.541966: I tensorflow/stream_executor/platform/default/dso_loader.cc:49] Successfully opened dynamic library libcublas.so.11\n",
      "2021-12-29 12:35:00.170481: I tensorflow/stream_executor/platform/default/dso_loader.cc:49] Successfully opened dynamic library libcublasLt.so.11\n"
     ]
    },
    {
     "name": "stdout",
     "output_type": "stream",
     "text": [
      "Epoch 1 with loss: 0.2536737877130508\n"
     ]
    }
   ],
   "source": [
    "loss_history = train.train(train_set, model, optimizer, \n",
    "                            loss_fn, epochs=10, \n",
    "                            u_architecture=True,\n",
    "                            val_set=None, verbose=True, verbose_batch=False)[0]\n",
    "#Epoch 1 with loss: 0.24754323340952397\n",
    "#Epoch 2 with loss: 0.08649935536086559"
   ]
  },
  {
   "cell_type": "markdown",
   "id": "6ae25916",
   "metadata": {},
   "source": [
    "## Propagating EEG Relevances"
   ]
  },
  {
   "cell_type": "code",
   "execution_count": null,
   "id": "f92cf0f0",
   "metadata": {
    "scrolled": true
   },
   "outputs": [],
   "source": [
    "from utils import lrp\n",
    "\n",
    "explainer = lrp.LRP_EEG(model)\n",
    "R=lrp.explain(explainer, dev_set, eeg=True, fmri=False, verbose=True)"
   ]
  },
  {
   "cell_type": "markdown",
   "id": "09b48032",
   "metadata": {},
   "source": [
    "## Mean of population plot"
   ]
  },
  {
   "cell_type": "code",
   "execution_count": null,
   "id": "7c16c840",
   "metadata": {
    "scrolled": false
   },
   "outputs": [],
   "source": [
    "importlib.reload(viz_utils)\n",
    "viz_utils.R_channels(R, eeg_train, ch_names=eeg_utils.channels_01,\n",
    "                    save=True, save_path=\"/home/david/eeg_to_fmri/plots/explainability/dct/channels.pdf\")"
   ]
  },
  {
   "cell_type": "markdown",
   "id": "b4797a4e",
   "metadata": {},
   "source": [
    "## P-value across channels"
   ]
  },
  {
   "cell_type": "code",
   "execution_count": null,
   "id": "63ab547f",
   "metadata": {},
   "outputs": [],
   "source": [
    "viz_utils.R_analysis_channels(R, eeg_train.shape[1], ch_names=getattr(eeg_utils, \"channels_\"+dataset),\n",
    "                             save=True, save_path=\"/home/david/eeg_to_fmri/plots/explainability/dct/channels_relevance.pdf\")"
   ]
  },
  {
   "cell_type": "markdown",
   "id": "1a28f61e",
   "metadata": {},
   "source": [
    "## P-value across frequencies"
   ]
  },
  {
   "cell_type": "code",
   "execution_count": null,
   "id": "937b4175",
   "metadata": {},
   "outputs": [],
   "source": [
    "viz_utils.R_analysis_freqs(R, eeg_train.shape[2], \n",
    "                          save=True, save_path=\"/home/david/eeg_to_fmri/plots/explainability/dct/freq_relevance.pdf\")"
   ]
  },
  {
   "cell_type": "markdown",
   "id": "9feda3d6",
   "metadata": {},
   "source": [
    "## P-value across time"
   ]
  },
  {
   "cell_type": "code",
   "execution_count": null,
   "id": "dfeb1d12",
   "metadata": {},
   "outputs": [],
   "source": [
    "viz_utils.R_analysis_times(R, eeg_train.shape[3],\n",
    "                          save=True, save_path=\"/home/david/eeg_to_fmri/plots/explainability/dct/time_relevance.pdf\")"
   ]
  },
  {
   "cell_type": "markdown",
   "id": "5178427d",
   "metadata": {},
   "source": [
    "## Relevances analyses across dimensions"
   ]
  },
  {
   "cell_type": "code",
   "execution_count": null,
   "id": "64e89607",
   "metadata": {},
   "outputs": [],
   "source": [
    "importlib.reload(viz_utils)\n",
    "\n",
    "viz_utils.R_analysis_dimensions(R, ch_names=getattr(eeg_utils, \"channels_\"+dataset),\n",
    "                               save=True, save_path=\"/home/david/eeg_to_fmri/plots/explainability/dct/relevance.pdf\")"
   ]
  },
  {
   "cell_type": "markdown",
   "id": "5a838834",
   "metadata": {},
   "source": [
    "## Relevances analyses across time-frequency"
   ]
  },
  {
   "cell_type": "code",
   "execution_count": null,
   "id": "97725c10",
   "metadata": {},
   "outputs": [],
   "source": [
    "viz_utils.R_analysis_times_freqs(R, R.shape[3], R.shape[2], func=metrics.ttest_1samp_r,\n",
    "                      save=True, save_path=\"/home/david/eeg_to_fmri/plots/explainability/dct/relevance_time_freq.pdf\")"
   ]
  },
  {
   "cell_type": "markdown",
   "id": "cc73aa5d",
   "metadata": {},
   "source": [
    "## Relevances analyses across channel-frequency"
   ]
  },
  {
   "cell_type": "code",
   "execution_count": null,
   "id": "2948bdfd",
   "metadata": {},
   "outputs": [],
   "source": [
    "viz_utils.R_analysis_channels_freqs(R, R.shape[1], R.shape[2], func=metrics.ttest_1samp_r,\n",
    "                         ch_names=getattr(eeg_utils, \"channels_\"+dataset),\n",
    "                         save=True, save_path=\"/home/david/eeg_to_fmri/plots/explainability/dct/relevance_channel_freq.pdf\")"
   ]
  },
  {
   "cell_type": "markdown",
   "id": "4d9ada03",
   "metadata": {},
   "source": [
    "## Relevances analyses across time-channel"
   ]
  },
  {
   "cell_type": "code",
   "execution_count": null,
   "id": "c3a74a50",
   "metadata": {},
   "outputs": [],
   "source": [
    "viz_utils.R_analysis_times_channels(R, R.shape[3], R.shape[1], func=metrics.ttest_1samp_r,\n",
    "                         ch_names=getattr(eeg_utils, \"channels_\"+dataset),\n",
    "                          save=True, save_path=\"/home/david/eeg_to_fmri/plots/explainability/dct/relevance_time_channel.pdf\")"
   ]
  },
  {
   "cell_type": "markdown",
   "id": "d5c913cd",
   "metadata": {},
   "source": [
    "## Propagating fMRI Relevances"
   ]
  },
  {
   "cell_type": "code",
   "execution_count": null,
   "id": "096b2d9c",
   "metadata": {},
   "outputs": [],
   "source": [
    "from utils import lrp\n",
    "importlib.reload(lrp)\n",
    "\n",
    "explainer = lrp.LRP(model.fmri_encoder)\n",
    "R=lrp.explain(explainer, dev_set, eeg=False, fmri=True, verbose=True)"
   ]
  },
  {
   "cell_type": "markdown",
   "id": "2e66fdcb",
   "metadata": {},
   "source": [
    "### Relevances Mean Population"
   ]
  },
  {
   "cell_type": "code",
   "execution_count": null,
   "id": "c5972af3",
   "metadata": {},
   "outputs": [],
   "source": [
    "fig = viz_utils.plot_3D_representation_projected_slices(np.mean(R, axis=0),\n",
    "                                                        res_img=np.mean(fmri_train,axis=0),\n",
    "                                                        slice_label=False,\n",
    "                                                        uncertainty=True,\n",
    "                                                       legend_colorbar=r\"$\\mathbb{E}[R]$\",\n",
    "                                                       save=True, save_path=\"/home/david/eeg_to_fmri/plots/explainability/dct/fmri_E_R.pdf\",\n",
    "                                                       max_min_legend=[\"Positive\",\"Negative\"])\n",
    "fig.show()"
   ]
  },
  {
   "cell_type": "markdown",
   "id": "77a0c3c9",
   "metadata": {},
   "source": [
    "### Relevances Variance"
   ]
  },
  {
   "cell_type": "code",
   "execution_count": null,
   "id": "fe8bf40c",
   "metadata": {},
   "outputs": [],
   "source": [
    "fig = viz_utils.plot_3D_representation_projected_slices(np.std(R, axis=0),\n",
    "                                                        res_img=np.mean(fmri_train,axis=0),\n",
    "                                                        slice_label=False,\n",
    "                                                        uncertainty=True,\n",
    "                                                        cmap=plt.cm.Blues,\n",
    "                                                       legend_colorbar=r\"$Var[R]$\",\n",
    "                                                       max_min_legend=[\"\",\"\"],\n",
    "                                                       save=True, save_path=\"/home/david/eeg_to_fmri/plots/explainability/dct/fmri_Var_R.pdf\")\n",
    "fig.show()"
   ]
  },
  {
   "cell_type": "markdown",
   "id": "d6dc87e5",
   "metadata": {},
   "source": [
    "### Relevances Maximum"
   ]
  },
  {
   "cell_type": "code",
   "execution_count": null,
   "id": "79f2eb66",
   "metadata": {},
   "outputs": [],
   "source": [
    "fig = viz_utils.plot_3D_representation_projected_slices(np.amax(R, axis=0),\n",
    "                                                        res_img=np.mean(fmri_train,axis=0),\n",
    "                                                        slice_label=False,\n",
    "                                                        uncertainty=True,\n",
    "                                                        cmap=plt.cm.Blues,\n",
    "                                                       legend_colorbar=r\"$max(R)$\",\n",
    "                                                       max_min_legend=[\"Non Relevant\",\"Relevant\"],\n",
    "                                                       save=True, save_path=\"/home/david/eeg_to_fmri/plots/explainability/dct/fmri_max_R.pdf\")\n",
    "fig.show()"
   ]
  },
  {
   "cell_type": "markdown",
   "id": "4444a4eb",
   "metadata": {},
   "source": [
    "### Relevances Minimum"
   ]
  },
  {
   "cell_type": "code",
   "execution_count": null,
   "id": "d833e9cd",
   "metadata": {},
   "outputs": [],
   "source": [
    "fig = viz_utils.plot_3D_representation_projected_slices(np.amin(R, axis=0),\n",
    "                                                        res_img=np.mean(fmri_train,axis=0),\n",
    "                                                        slice_label=False,\n",
    "                                                        uncertainty=True,\n",
    "                                                        cmap=plt.cm.Blues_r,\n",
    "                                                       legend_colorbar=r\"$min(R)$\",\n",
    "                                                       max_min_legend=[\"Neg Relevant\",\"Non Relevant\"],\n",
    "                                                       save=True, save_path=\"/home/david/eeg_to_fmri/plots/explainability/dct/fmri_min_R.pdf\")\n",
    "fig.show()"
   ]
  },
  {
   "cell_type": "code",
   "execution_count": null,
   "id": "7cb5c251",
   "metadata": {},
   "outputs": [],
   "source": [
    "importlib.reload(metrics)\n",
    "fig = viz_utils.plot_3D_representation_projected_slices(metrics.ttest_1samp_r(R, np.mean(R), axis=0),\n",
    "                                                        res_img=np.mean(fmri_train,axis=0),\n",
    "                                                        slice_label=False,\n",
    "                                                        uncertainty=True,\n",
    "                                                        cmap=plt.cm.Blues,\n",
    "                                                        legend_colorbar=r\"$p-value$\",\n",
    "                                                        max_min_legend=[r\"$p=1.0$\",r\"$p=0.0$\"],\n",
    "                                                        save=True, save_path=\"/home/david/eeg_to_fmri/plots/explainability/dct/fmri_min_R.pdf\")\n",
    "fig.show()"
   ]
  },
  {
   "cell_type": "code",
   "execution_count": null,
   "id": "430a299a",
   "metadata": {},
   "outputs": [],
   "source": [
    "res"
   ]
  },
  {
   "cell_type": "code",
   "execution_count": null,
   "id": "388eac1c",
   "metadata": {},
   "outputs": [],
   "source": []
  }
 ],
 "metadata": {
  "kernelspec": {
   "display_name": "Python 3 (ipykernel)",
   "language": "python",
   "name": "python3"
  },
  "language_info": {
   "codemirror_mode": {
    "name": "ipython",
    "version": 3
   },
   "file_extension": ".py",
   "mimetype": "text/x-python",
   "name": "python",
   "nbconvert_exporter": "python",
   "pygments_lexer": "ipython3",
   "version": "3.8.12"
  }
 },
 "nbformat": 4,
 "nbformat_minor": 5
}
