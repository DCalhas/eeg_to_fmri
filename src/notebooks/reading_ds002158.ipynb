{
 "cells": [
  {
   "cell_type": "code",
   "execution_count": 1,
   "id": "foster-treasury",
   "metadata": {},
   "outputs": [],
   "source": [
    "import matplotlib.pyplot as plt\n",
    "\n",
    "import mne\n",
    "\n",
    "from nilearn import plotting\n",
    "from nilearn import image\n",
    "from nilearn import _utils\n",
    "from nilearn.input_data import NiftiMasker\n",
    "from nilearn.decomposition import CanICA\n",
    "from nilearn.masking import apply_mask, compute_epi_mask, compute_multi_epi_mask, _apply_mask_fmri, unmask\n",
    "from nilearn.image import smooth_img, index_img, iter_img, clean_img, math_img, mean_img, new_img_like\n",
    "\n",
    "import numpy as np\n",
    "\n",
    "from scipy.signal import resample\n",
    "\n",
    "import os\n",
    "from os import listdir\n",
    "from os.path import isfile, join, isdir\n",
    "from pathlib import Path"
   ]
  },
  {
   "cell_type": "markdown",
   "id": "massive-hungarian",
   "metadata": {},
   "source": [
    "## Reading fMRI data"
   ]
  },
  {
   "cell_type": "code",
   "execution_count": 6,
   "id": "traditional-rouge",
   "metadata": {},
   "outputs": [],
   "source": [
    "media_directory=\"/media/david/datasets/\"\n",
    "dataset_03=\"ds002158\"\n",
    "\n",
    "def get_individuals_paths_03(path_fmri=media_directory+dataset_03+\"/\", \n",
    "                            resolution_factor = 5, \n",
    "                            number_individuals=20,\n",
    "                            run=\"main_run-001\"):\n",
    "    \n",
    "    run_types=[\"main_run-001\", \"main_run-002\",\n",
    "              \"main_run-003\", \"main_run-004\",\n",
    "              \"main_run-005\", \"main_run-006\"]\n",
    "    \n",
    "    dir_individuals = sorted([f for f in listdir(path_fmri) if isdir(join(path_fmri, f))])[2:]\n",
    "    \n",
    "    assert number_individuals <= len(dir_individuals), dataset_03+ \" contains a total of 20 individuals, \" + str(number_individuals) + \" were requested.\"\n",
    "    assert run in run_types, dataset_03+ \" contains the following recording sessions: \" + str(run_types) + \", please select one.\"\n",
    "    \n",
    "    fmri_individuals=[]\n",
    "    \n",
    "    for i in range(number_individuals):\n",
    "        individual_path = path_fmri + dir_individuals[i] + \"/ses-001/func/\"\n",
    "        file_path= individual_path + dir_individuals[i] + \"_ses-001_task-\" + run + \"_bold.nii.gz\"\n",
    "\n",
    "        fmri_individuals += [image.load_img(file_path)]\n",
    "\n",
    "    return fmri_individuals"
   ]
  },
  {
   "cell_type": "code",
   "execution_count": null,
   "id": "imperial-generic",
   "metadata": {},
   "outputs": [],
   "source": [
    "fmri_individuals=get_individuals_paths_03(number_individuals=20, run=\"main_run-001\")\n",
    "\n",
    "for fmri in fmri_individuals:\n",
    "    \n",
    "    fmri.get_fdata().shape"
   ]
  },
  {
   "cell_type": "markdown",
   "id": "moderate-trout",
   "metadata": {},
   "source": [
    "## Reading EEG data"
   ]
  },
  {
   "cell_type": "code",
   "execution_count": 19,
   "id": "breathing-publicity",
   "metadata": {},
   "outputs": [],
   "source": [
    "def get_eeg_instance_03(individual, path_eeg=media_directory+dataset_03+\"/\", run=\"main_run-001\", preprocessed=True):\n",
    "    \n",
    "    run_types=[\"main_run-001\", \"main_run-002\",\n",
    "              \"main_run-003\", \"main_run-004\",\n",
    "              \"main_run-005\", \"main_run-006\"]\n",
    "    \n",
    "    assert run in run_types, dataset_03+ \" contains the following recording sessions: \" + str(run_types) + \", please select one.\"\n",
    "    assert not preprocessed, \"Preprocessed EEG signal is not available, only EEG events\"\n",
    "    \n",
    "    individuals = sorted([f for f in listdir(path_eeg) if isdir(join(path_eeg, f))])[2:]\n",
    "\n",
    "    individual = individuals[individual]\n",
    "\n",
    "    if(preprocessed):\n",
    "        path = path_eeg + \"derivatives/eegprep/\" + individual + \"/ses-001/eeg/\" + individual + \"_ses-001_task-main_eeg_preproc.set\"\n",
    "        return mne.io.read_epochs_eeglab(path)\n",
    "    else:\n",
    "        path = path_eeg + individual + \"/ses-001/eeg/\"\n",
    "\n",
    "        brainvision_files = sorted([f for f in listdir(path) if isfile(join(path, f))])\n",
    "\n",
    "        vhdr_file = brainvision_files[1]\n",
    "\n",
    "        complete_path = path + vhdr_file\n",
    "\n",
    "        return mne.io.read_raw_brainvision(complete_path, preload=True, verbose=0)"
   ]
  },
  {
   "cell_type": "code",
   "execution_count": 20,
   "id": "alert-triangle",
   "metadata": {},
   "outputs": [
    {
     "ename": "AssertionError",
     "evalue": "Preprocessed EEG signal is not available, only EEG events",
     "output_type": "error",
     "traceback": [
      "\u001b[0;31m---------------------------------------------------------------------------\u001b[0m",
      "\u001b[0;31mAssertionError\u001b[0m                            Traceback (most recent call last)",
      "\u001b[0;32m<ipython-input-20-224c394033ca>\u001b[0m in \u001b[0;36m<module>\u001b[0;34m\u001b[0m\n\u001b[1;32m      1\u001b[0m \u001b[0;32mfor\u001b[0m \u001b[0mi\u001b[0m \u001b[0;32min\u001b[0m \u001b[0mrange\u001b[0m\u001b[0;34m(\u001b[0m\u001b[0;36m10\u001b[0m\u001b[0;34m)\u001b[0m\u001b[0;34m:\u001b[0m\u001b[0;34m\u001b[0m\u001b[0;34m\u001b[0m\u001b[0m\n\u001b[0;32m----> 2\u001b[0;31m     \u001b[0meeg_instance\u001b[0m \u001b[0;34m=\u001b[0m \u001b[0mget_eeg_instance_03\u001b[0m\u001b[0;34m(\u001b[0m\u001b[0mi\u001b[0m\u001b[0;34m,\u001b[0m \u001b[0mrun\u001b[0m\u001b[0;34m=\u001b[0m\u001b[0;34m\"main_run-001\"\u001b[0m\u001b[0;34m,\u001b[0m \u001b[0mpreprocessed\u001b[0m\u001b[0;34m=\u001b[0m\u001b[0;32mTrue\u001b[0m\u001b[0;34m)\u001b[0m\u001b[0;34m\u001b[0m\u001b[0;34m\u001b[0m\u001b[0m\n\u001b[0m\u001b[1;32m      3\u001b[0m     \u001b[0mprint\u001b[0m\u001b[0;34m(\u001b[0m\u001b[0meeg_instance\u001b[0m\u001b[0;34m)\u001b[0m\u001b[0;34m\u001b[0m\u001b[0;34m\u001b[0m\u001b[0m\n",
      "\u001b[0;32m<ipython-input-19-87dd1ef1aaff>\u001b[0m in \u001b[0;36mget_eeg_instance_03\u001b[0;34m(individual, path_eeg, run, preprocessed)\u001b[0m\n\u001b[1;32m      6\u001b[0m \u001b[0;34m\u001b[0m\u001b[0m\n\u001b[1;32m      7\u001b[0m     \u001b[0;32massert\u001b[0m \u001b[0mrun\u001b[0m \u001b[0;32min\u001b[0m \u001b[0mrun_types\u001b[0m\u001b[0;34m,\u001b[0m \u001b[0mdataset_03\u001b[0m\u001b[0;34m+\u001b[0m \u001b[0;34m\" contains the following recording sessions: \"\u001b[0m \u001b[0;34m+\u001b[0m \u001b[0mstr\u001b[0m\u001b[0;34m(\u001b[0m\u001b[0mrun_types\u001b[0m\u001b[0;34m)\u001b[0m \u001b[0;34m+\u001b[0m \u001b[0;34m\", please select one.\"\u001b[0m\u001b[0;34m\u001b[0m\u001b[0;34m\u001b[0m\u001b[0m\n\u001b[0;32m----> 8\u001b[0;31m     \u001b[0;32massert\u001b[0m \u001b[0;32mnot\u001b[0m \u001b[0mpreprocessed\u001b[0m\u001b[0;34m,\u001b[0m \u001b[0;34m\"Preprocessed EEG signal is not available, only EEG events\"\u001b[0m\u001b[0;34m\u001b[0m\u001b[0;34m\u001b[0m\u001b[0m\n\u001b[0m\u001b[1;32m      9\u001b[0m \u001b[0;34m\u001b[0m\u001b[0m\n\u001b[1;32m     10\u001b[0m     \u001b[0mindividuals\u001b[0m \u001b[0;34m=\u001b[0m \u001b[0msorted\u001b[0m\u001b[0;34m(\u001b[0m\u001b[0;34m[\u001b[0m\u001b[0mf\u001b[0m \u001b[0;32mfor\u001b[0m \u001b[0mf\u001b[0m \u001b[0;32min\u001b[0m \u001b[0mlistdir\u001b[0m\u001b[0;34m(\u001b[0m\u001b[0mpath_eeg\u001b[0m\u001b[0;34m)\u001b[0m \u001b[0;32mif\u001b[0m \u001b[0misdir\u001b[0m\u001b[0;34m(\u001b[0m\u001b[0mjoin\u001b[0m\u001b[0;34m(\u001b[0m\u001b[0mpath_eeg\u001b[0m\u001b[0;34m,\u001b[0m \u001b[0mf\u001b[0m\u001b[0;34m)\u001b[0m\u001b[0;34m)\u001b[0m\u001b[0;34m]\u001b[0m\u001b[0;34m)\u001b[0m\u001b[0;34m[\u001b[0m\u001b[0;36m2\u001b[0m\u001b[0;34m:\u001b[0m\u001b[0;34m]\u001b[0m\u001b[0;34m\u001b[0m\u001b[0;34m\u001b[0m\u001b[0m\n",
      "\u001b[0;31mAssertionError\u001b[0m: Preprocessed EEG signal is not available, only EEG events"
     ]
    }
   ],
   "source": [
    "for i in range(10):\n",
    "    eeg_instance = get_eeg_instance_03(i, run=\"main_run-001\", preprocessed=True)"
   ]
  },
  {
   "cell_type": "code",
   "execution_count": null,
   "id": "loved-valuable",
   "metadata": {},
   "outputs": [],
   "source": [
    "eeg_instance"
   ]
  },
  {
   "cell_type": "code",
   "execution_count": 14,
   "id": "permanent-cleaners",
   "metadata": {},
   "outputs": [],
   "source": [
    "path_eeg=media_directory+dataset_03+\"/\"\n",
    "\n",
    "individuals = sorted([f for f in listdir(path_eeg) if isdir(join(path_eeg, f))])[2:]"
   ]
  },
  {
   "cell_type": "code",
   "execution_count": 29,
   "id": "passing-stress",
   "metadata": {},
   "outputs": [
    {
     "name": "stdout",
     "output_type": "stream",
     "text": [
      "DataFile=sub-02_ses-001_task-main_run-006_eeg.eeg\n",
      "MarkerFile=sub-02_ses-001_task-main_run-006_eeg.vmrk\n",
      "DataFile=sub-04_ses-001_task-main_run-006_eeg.eeg\n",
      "MarkerFile=sub-04_ses-001_task-main_run-006_eeg.vmrk\n",
      "DataFile=sub-08_ses-001_task-main_run-006_eeg.eeg\n",
      "MarkerFile=sub-08_ses-001_task-main_run-006_eeg.vmrk\n",
      "DataFile=sub-09_ses-001_task-main_run-006_eeg.eeg\n",
      "MarkerFile=sub-09_ses-001_task-main_run-006_eeg.vmrk\n",
      "DataFile=sub-10_ses-001_task-main_run-006_eeg.eeg\n",
      "MarkerFile=sub-10_ses-001_task-main_run-006_eeg.vmrk\n",
      "DataFile=sub-11_ses-001_task-main_run-006_eeg.eeg\n",
      "MarkerFile=sub-11_ses-001_task-main_run-006_eeg.vmrk\n",
      "DataFile=sub-13_ses-001_task-main_run-006_eeg.eeg\n",
      "MarkerFile=sub-13_ses-001_task-main_run-006_eeg.vmrk\n",
      "DataFile=sub-14_ses-001_task-main_run-006_eeg.eeg\n",
      "MarkerFile=sub-14_ses-001_task-main_run-006_eeg.vmrk\n",
      "DataFile=sub-15_ses-001_task-main_run-006_eeg.eeg\n",
      "MarkerFile=sub-15_ses-001_task-main_run-006_eeg.vmrk\n",
      "DataFile=sub-16_ses-001_task-main_run-006_eeg.eeg\n",
      "MarkerFile=sub-16_ses-001_task-main_run-006_eeg.vmrk\n",
      "DataFile=sub-17_ses-001_task-main_run-006_eeg.eeg\n",
      "MarkerFile=sub-17_ses-001_task-main_run-006_eeg.vmrk\n",
      "DataFile=sub-18_ses-001_task-main_run-006_eeg.eeg\n",
      "MarkerFile=sub-18_ses-001_task-main_run-006_eeg.vmrk\n",
      "DataFile=sub-19_ses-001_task-main_run-006_eeg.eeg\n",
      "MarkerFile=sub-19_ses-001_task-main_run-006_eeg.vmrk\n",
      "DataFile=sub-20_ses-001_task-main_run-006_eeg.eeg\n",
      "MarkerFile=sub-20_ses-001_task-main_run-006_eeg.vmrk\n",
      "DataFile=sub-21_ses-001_task-main_run-006_eeg.eeg\n",
      "MarkerFile=sub-21_ses-001_task-main_run-006_eeg.vmrk\n",
      "DataFile=sub-22_ses-001_task-main_run-006_eeg.eeg\n",
      "MarkerFile=sub-22_ses-001_task-main_run-006_eeg.vmrk\n",
      "DataFile=sub-24_ses-001_task-main_run-006_eeg.eeg\n",
      "MarkerFile=sub-24_ses-001_task-main_run-006_eeg.vmrk\n",
      "DataFile=sub-26_ses-001_task-main_run-006_eeg.eeg\n",
      "MarkerFile=sub-26_ses-001_task-main_run-006_eeg.vmrk\n"
     ]
    }
   ],
   "source": [
    "run = \"main_run-006\"#6\n",
    "\n",
    "for i in range(len(individuals)):\n",
    "    file_name=individuals[i]+\"_ses-001_task-\"+run+\"_eeg\"\n",
    "    path_vhdr = path_eeg+individuals[i]+\"/ses-001/eeg/\"+file_name\n",
    "    \n",
    "    try:\n",
    "        file_vhdr = open(path_vhdr+\".vhdr\", \"r\")\n",
    "    except:\n",
    "        continue\n",
    "    \n",
    "    lines = file_vhdr.readlines()\n",
    "    \n",
    "    file_vhdr.close()\n",
    "    \n",
    "    print(\"DataFile=\"+file_name+\".eeg\")\n",
    "    print(\"MarkerFile=\"+file_name+\".vmrk\")\n",
    "    \n",
    "    if(not \"DataFile\" in lines[5]):\n",
    "        break\n",
    "    if(not \"MarkerFile\" in lines[6]):\n",
    "        break\n",
    "    \n",
    "    lines[5]=\"DataFile=\"+file_name+\".eeg\\n\"\n",
    "    lines[6]=\"MarkerFile=\"+file_name+\".vmrk\\n\"\n",
    "    \n",
    "    \n",
    "    file_vhdr = open(path_vhdr+\".vhdr\", \"w\")\n",
    "    \n",
    "    lines = file_vhdr.writelines(lines)\n",
    "    \n",
    "    file_vhdr.close()\n",
    "    \n",
    "    "
   ]
  },
  {
   "cell_type": "code",
   "execution_count": null,
   "id": "closed-insertion",
   "metadata": {},
   "outputs": [],
   "source": []
  }
 ],
 "metadata": {
  "kernelspec": {
   "display_name": "Python 3",
   "language": "python",
   "name": "python3"
  },
  "language_info": {
   "codemirror_mode": {
    "name": "ipython",
    "version": 3
   },
   "file_extension": ".py",
   "mimetype": "text/x-python",
   "name": "python",
   "nbconvert_exporter": "python",
   "pygments_lexer": "ipython3",
   "version": "3.8.5"
  }
 },
 "nbformat": 4,
 "nbformat_minor": 5
}
